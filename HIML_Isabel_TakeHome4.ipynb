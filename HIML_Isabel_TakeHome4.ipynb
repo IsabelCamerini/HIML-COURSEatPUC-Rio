{
 "cells": [
  {
   "cell_type": "markdown",
   "metadata": {
    "id": "NZZDmZGC4Zam"
   },
   "source": [
    "## :  Previous Script Available"
   ]
  },
  {
   "cell_type": "code",
   "execution_count": 4,
   "metadata": {
    "id": "Ru-HAQce3LPe"
   },
   "outputs": [],
   "source": [
    "import numpy as np\n",
    "import matplotlib \n",
    "import scipy\n",
    "import sklearn\n",
    "import statsmodels\n",
    "import seaborn\n",
    "import pydot\n",
    "from sklearn.preprocessing import StandardScaler\n",
    "\n",
    "from statsmodels.tsa.ar_model import AutoReg \n",
    "\n",
    "from sklearn.linear_model import LogisticRegression\n",
    "from sklearn import svm\n",
    "from sklearn.neighbors import KNeighborsClassifier\n",
    "\n",
    "\n",
    "from scipy import stats\n",
    "from scipy.stats.stats import mode\n",
    "from scipy.stats import uniform\n",
    "from sklearn.model_selection import (train_test_split, RepeatedKFold,RandomizedSearchCV)\n",
    "from sklearn.linear_model import Ridge\n",
    "from sklearn.svm import SVR\n",
    "from sklearn.svm import SVC\n",
    "from sklearn.neighbors import KNeighborsRegressor\n",
    "from sklearn.pipeline import Pipeline\n",
    "\n",
    "import pickle"
   ]
  },
  {
   "cell_type": "code",
   "execution_count": 5,
   "metadata": {
    "id": "msOwr0Dx2hAh"
   },
   "outputs": [],
   "source": [
    "import scipy.io as sio\n",
    "import numpy as np\n",
    "from os import getcwd\n",
    "from os.path import join \n",
    "import matplotlib.pyplot as plt"
   ]
  },
  {
   "cell_type": "markdown",
   "metadata": {
    "id": "lk4aof4BAjNG"
   },
   "source": [
    "## : Início do processamento"
   ]
  },
  {
   "cell_type": "code",
   "execution_count": 6,
   "metadata": {
    "colab": {
     "base_uri": "https://localhost:8080/"
    },
    "id": "gHT7bo3s2hAi",
    "outputId": "15f2ae6d-68aa-4115-9741-057ebaa5fe86"
   },
   "outputs": [
    {
     "data": {
      "text/plain": [
       "array([ 1,  1,  1,  1,  1,  1,  1,  1,  1,  1,  1,  1,  1,  1,  1,  1,  1,\n",
       "        1,  1,  1,  1,  1,  1,  1,  1,  1,  1,  1,  1,  1,  1,  1,  1,  1,\n",
       "        1,  1,  1,  1,  1,  1,  1,  1,  1,  1,  1,  1,  1,  1,  1,  1,  2,\n",
       "        2,  2,  2,  2,  2,  2,  2,  2,  2,  2,  2,  2,  2,  2,  2,  2,  2,\n",
       "        2,  2,  2,  2,  2,  2,  2,  2,  2,  2,  2,  2,  2,  2,  2,  2,  2,\n",
       "        2,  2,  2,  2,  2,  2,  2,  2,  2,  2,  2,  2,  2,  2,  2,  3,  3,\n",
       "        3,  3,  3,  3,  3,  3,  3,  3,  3,  3,  3,  3,  3,  3,  3,  3,  3,\n",
       "        3,  3,  3,  3,  3,  3,  3,  3,  3,  3,  3,  3,  3,  3,  3,  3,  3,\n",
       "        3,  3,  3,  3,  3,  3,  3,  3,  3,  3,  3,  3,  3,  3,  4,  4,  4,\n",
       "        4,  4,  4,  4,  4,  4,  4,  4,  4,  4,  4,  4,  4,  4,  4,  4,  4,\n",
       "        4,  4,  4,  4,  4,  4,  4,  4,  4,  4,  4,  4,  4,  4,  4,  4,  4,\n",
       "        4,  4,  4,  4,  4,  4,  4,  4,  4,  4,  4,  4,  4,  5,  5,  5,  5,\n",
       "        5,  5,  5,  5,  5,  5,  5,  5,  5,  5,  5,  5,  5,  5,  5,  5,  5,\n",
       "        5,  5,  5,  5,  5,  5,  5,  5,  5,  5,  5,  5,  5,  5,  5,  5,  5,\n",
       "        5,  5,  5,  5,  5,  5,  5,  5,  5,  5,  5,  5,  6,  6,  6,  6,  6,\n",
       "        6,  6,  6,  6,  6,  6,  6,  6,  6,  6,  6,  6,  6,  6,  6,  6,  6,\n",
       "        6,  6,  6,  6,  6,  6,  6,  6,  6,  6,  6,  6,  6,  6,  6,  6,  6,\n",
       "        6,  6,  6,  6,  6,  6,  6,  6,  6,  6,  6,  7,  7,  7,  7,  7,  7,\n",
       "        7,  7,  7,  7,  7,  7,  7,  7,  7,  7,  7,  7,  7,  7,  7,  7,  7,\n",
       "        7,  7,  7,  7,  7,  7,  7,  7,  7,  7,  7,  7,  7,  7,  7,  7,  7,\n",
       "        7,  7,  7,  7,  7,  7,  7,  7,  7,  7,  8,  8,  8,  8,  8,  8,  8,\n",
       "        8,  8,  8,  8,  8,  8,  8,  8,  8,  8,  8,  8,  8,  8,  8,  8,  8,\n",
       "        8,  8,  8,  8,  8,  8,  8,  8,  8,  8,  8,  8,  8,  8,  8,  8,  8,\n",
       "        8,  8,  8,  8,  8,  8,  8,  8,  8,  9,  9,  9,  9,  9,  9,  9,  9,\n",
       "        9,  9,  9,  9,  9,  9,  9,  9,  9,  9,  9,  9,  9,  9,  9,  9,  9,\n",
       "        9,  9,  9,  9,  9,  9,  9,  9,  9,  9,  9,  9,  9,  9,  9,  9,  9,\n",
       "        9,  9,  9,  9,  9,  9,  9,  9, 10, 10, 10, 10, 10, 10, 10, 10, 10,\n",
       "       10, 10, 10, 10, 10, 10, 10, 10, 10, 10, 10, 10, 10, 10, 10, 10, 10,\n",
       "       10, 10, 10, 10, 10, 10, 10, 10, 10, 10, 10, 10, 10, 10, 10, 10, 10,\n",
       "       10, 10, 10, 10, 10, 10, 10, 11, 11, 11, 11, 11, 11, 11, 11, 11, 11,\n",
       "       11, 11, 11, 11, 11, 11, 11, 11, 11, 11, 11, 11, 11, 11, 11, 11, 11,\n",
       "       11, 11, 11, 11, 11, 11, 11, 11, 11, 11, 11, 11, 11, 11, 11, 11, 11,\n",
       "       11, 11, 11, 11, 11, 11, 12, 12, 12, 12, 12, 12, 12, 12, 12, 12, 12,\n",
       "       12, 12, 12, 12, 12, 12, 12, 12, 12, 12, 12, 12, 12, 12, 12, 12, 12,\n",
       "       12, 12, 12, 12, 12, 12, 12, 12, 12, 12, 12, 12, 12, 12, 12, 12, 12,\n",
       "       12, 12, 12, 12, 12, 13, 13, 13, 13, 13, 13, 13, 13, 13, 13, 13, 13,\n",
       "       13, 13, 13, 13, 13, 13, 13, 13, 13, 13, 13, 13, 13, 13, 13, 13, 13,\n",
       "       13, 13, 13, 13, 13, 13, 13, 13, 13, 13, 13, 13, 13, 13, 13, 13, 13,\n",
       "       13, 13, 13, 13, 14, 14, 14, 14, 14, 14, 14, 14, 14, 14, 14, 14, 14,\n",
       "       14, 14, 14, 14, 14, 14, 14, 14, 14, 14, 14, 14, 14, 14, 14, 14, 14,\n",
       "       14, 14, 14, 14, 14, 14, 14, 14, 14, 14, 14, 14, 14, 14, 14, 14, 14,\n",
       "       14, 14, 14, 15, 15, 15, 15, 15, 15, 15, 15, 15, 15, 15, 15, 15, 15,\n",
       "       15, 15, 15, 15, 15, 15, 15, 15, 15, 15, 15, 15, 15, 15, 15, 15, 15,\n",
       "       15, 15, 15, 15, 15, 15, 15, 15, 15, 15, 15, 15, 15, 15, 15, 15, 15,\n",
       "       15, 15, 16, 16, 16, 16, 16, 16, 16, 16, 16, 16, 16, 16, 16, 16, 16,\n",
       "       16, 16, 16, 16, 16, 16, 16, 16, 16, 16, 16, 16, 16, 16, 16, 16, 16,\n",
       "       16, 16, 16, 16, 16, 16, 16, 16, 16, 16, 16, 16, 16, 16, 16, 16, 16,\n",
       "       16, 17, 17, 17, 17, 17, 17, 17, 17, 17, 17, 17, 17, 17, 17, 17, 17,\n",
       "       17, 17, 17, 17, 17, 17, 17, 17, 17, 17, 17, 17, 17, 17, 17, 17, 17,\n",
       "       17, 17, 17, 17, 17, 17, 17, 17, 17, 17, 17, 17, 17, 17, 17, 17, 17],\n",
       "      dtype=uint8)"
      ]
     },
     "execution_count": 6,
     "metadata": {},
     "output_type": "execute_result"
    }
   ],
   "source": [
    "mat_contents = sio.loadmat('data3SS2009.mat')\n",
    "\n",
    "dataset = mat_contents['dataset']\n",
    "\n",
    "N, Chno, Nc = dataset.shape \n",
    "# N: number of samples\n",
    "# Chno: number of channels\n",
    "# Nc: number of cases\n",
    "\n",
    "y = mat_contents['labels'].reshape(Nc)\n",
    "y"
   ]
  },
  {
   "cell_type": "code",
   "execution_count": 7,
   "metadata": {
    "colab": {
     "base_uri": "https://localhost:8080/"
    },
    "id": "32eH_sH1vi0G",
    "outputId": "83620bf9-d3cf-4a9a-ef05-205ab4373066"
   },
   "outputs": [
    {
     "data": {
      "text/plain": [
       "(array([450, 451, 452, 453, 454, 455, 456, 457, 458, 459, 460, 461, 462,\n",
       "        463, 464, 465, 466, 467, 468, 469, 470, 471, 472, 473, 474, 475,\n",
       "        476, 477, 478, 479, 480, 481, 482, 483, 484, 485, 486, 487, 488,\n",
       "        489, 490, 491, 492, 493, 494, 495, 496, 497, 498, 499], dtype=int64),)"
      ]
     },
     "execution_count": 7,
     "metadata": {},
     "output_type": "execute_result"
    }
   ],
   "source": [
    "np.where(y==10)"
   ]
  },
  {
   "cell_type": "code",
   "execution_count": 8,
   "metadata": {
    "colab": {
     "base_uri": "https://localhost:8080/"
    },
    "id": "3p4G6tHU0cuu",
    "outputId": "a32018e3-c078-441a-ab8f-d3fed0959512"
   },
   "outputs": [
    {
     "data": {
      "text/plain": [
       "array([[0., 0., 0., 0., 0., 0., 0., 0., 0., 0., 0., 0., 0., 0., 0., 0.,\n",
       "        0., 0., 0., 0., 0., 0., 0., 0., 0., 0., 0., 0., 0., 0., 0., 0.,\n",
       "        0., 0., 0., 0., 0., 0., 0., 0., 0., 0., 0., 0., 0., 0., 0., 0.,\n",
       "        0., 0., 0., 0., 0., 0., 0., 0., 0., 0., 0., 0., 0., 0., 0., 0.,\n",
       "        0., 0., 0., 0., 0., 0., 0., 0., 0., 0., 0., 0., 0., 0., 0., 0.,\n",
       "        0., 0., 0., 0., 0., 0., 0., 0., 0., 0., 0., 0., 0., 0., 0., 0.,\n",
       "        0., 0., 0., 0., 0., 0., 0., 0., 0., 0., 0., 0., 0., 0., 0., 0.,\n",
       "        0., 0., 0., 0., 0., 0., 0., 0., 0., 0., 0., 0., 0., 0., 0., 0.,\n",
       "        0., 0., 0., 0., 0., 0., 0., 0., 0., 0., 0., 0., 0., 0., 0., 0.,\n",
       "        0., 0., 0., 0., 0., 0., 0., 0., 0., 0., 0., 0., 0., 0., 0., 0.,\n",
       "        0., 0., 0., 0., 0., 0., 0., 0., 0., 0., 0., 0., 0., 0., 0., 0.,\n",
       "        0., 0., 0., 0., 0., 0., 0., 0., 0., 0., 0., 0., 0., 0., 0., 0.,\n",
       "        0., 0., 0., 0., 0., 0., 0., 0., 0., 0., 0., 0., 0., 0., 0., 0.,\n",
       "        0., 0., 0., 0., 0., 0., 0., 0., 0., 0., 0., 0., 0., 0., 0., 0.,\n",
       "        0., 0., 0., 0., 0., 0., 0., 0., 0., 0., 0., 0., 0., 0., 0., 0.,\n",
       "        0., 0., 0., 0., 0., 0., 0., 0., 0., 0., 0., 0., 0., 0., 0., 0.,\n",
       "        0., 0., 0., 0., 0., 0., 0., 0., 0., 0., 0., 0., 0., 0., 0., 0.,\n",
       "        0., 0., 0., 0., 0., 0., 0., 0., 0., 0., 0., 0., 0., 0., 0., 0.,\n",
       "        0., 0., 0., 0., 0., 0., 0., 0., 0., 0., 0., 0., 0., 0., 0., 0.,\n",
       "        0., 0., 0., 0., 0., 0., 0., 0., 0., 0., 0., 0., 0., 0., 0., 0.,\n",
       "        0., 0., 0., 0., 0., 0., 0., 0., 0., 0., 0., 0., 0., 0., 0., 0.,\n",
       "        0., 0., 0., 0., 0., 0., 0., 0., 0., 0., 0., 0., 0., 0., 0., 0.,\n",
       "        0., 0., 0., 0., 0., 0., 0., 0., 0., 0., 0., 0., 0., 0., 0., 0.,\n",
       "        0., 0., 0., 0., 0., 0., 0., 0., 0., 0., 0., 0., 0., 0., 0., 0.,\n",
       "        0., 0., 0., 0., 0., 0., 0., 0., 0., 0., 0., 0., 0., 0., 0., 0.,\n",
       "        0., 0., 0., 0., 0., 0., 0., 0., 0., 0., 0., 0., 0., 0., 0., 0.,\n",
       "        0., 0., 0., 0., 0., 0., 0., 0., 0., 0., 0., 0., 0., 0., 0., 0.,\n",
       "        0., 0., 0., 0., 0., 0., 0., 0., 0., 0., 0., 0., 0., 0., 0., 0.,\n",
       "        0., 0., 1., 1., 1., 1., 1., 1., 1., 1., 1., 1., 1., 1., 1., 1.,\n",
       "        1., 1., 1., 1., 1., 1., 1., 1., 1., 1., 1., 1., 1., 1., 1., 1.,\n",
       "        1., 1., 1., 1., 1., 1., 1., 1., 1., 1., 1., 1., 1., 1., 1., 1.,\n",
       "        1., 1., 1., 1., 1., 1., 1., 1., 1., 1., 1., 1., 1., 1., 1., 1.,\n",
       "        1., 1., 1., 1., 1., 1., 1., 1., 1., 1., 1., 1., 1., 1., 1., 1.,\n",
       "        1., 1., 1., 1., 1., 1., 1., 1., 1., 1., 1., 1., 1., 1., 1., 1.,\n",
       "        1., 1., 1., 1., 1., 1., 1., 1., 1., 1., 1., 1., 1., 1., 1., 1.,\n",
       "        1., 1., 1., 1., 1., 1., 1., 1., 1., 1., 1., 1., 1., 1., 1., 1.,\n",
       "        1., 1., 1., 1., 1., 1., 1., 1., 1., 1., 1., 1., 1., 1., 1., 1.,\n",
       "        1., 1., 1., 1., 1., 1., 1., 1., 1., 1., 1., 1., 1., 1., 1., 1.,\n",
       "        1., 1., 1., 1., 1., 1., 1., 1., 1., 1., 1., 1., 1., 1., 1., 1.,\n",
       "        1., 1., 1., 1., 1., 1., 1., 1., 1., 1., 1., 1., 1., 1., 1., 1.,\n",
       "        1., 1., 1., 1., 1., 1., 1., 1., 1., 1., 1., 1., 1., 1., 1., 1.,\n",
       "        1., 1., 1., 1., 1., 1., 1., 1., 1., 1., 1., 1., 1., 1., 1., 1.,\n",
       "        1., 1., 1., 1., 1., 1., 1., 1., 1., 1., 1., 1., 1., 1., 1., 1.,\n",
       "        1., 1., 1., 1., 1., 1., 1., 1., 1., 1., 1., 1., 1., 1., 1., 1.,\n",
       "        1., 1., 1., 1., 1., 1., 1., 1., 1., 1., 1., 1., 1., 1., 1., 1.,\n",
       "        1., 1., 1., 1., 1., 1., 1., 1., 1., 1., 1., 1., 1., 1., 1., 1.,\n",
       "        1., 1., 1., 1., 1., 1., 1., 1., 1., 1., 1., 1., 1., 1., 1., 1.,\n",
       "        1., 1., 1., 1., 1., 1., 1., 1., 1., 1., 1., 1., 1., 1., 1., 1.,\n",
       "        1., 1., 1., 1., 1., 1., 1., 1., 1., 1., 1., 1., 1., 1., 1., 1.,\n",
       "        1., 1., 1., 1., 1., 1., 1., 1., 1., 1., 1., 1., 1., 1., 1., 1.,\n",
       "        1., 1., 1., 1., 1., 1., 1., 1., 1., 1., 1., 1., 1., 1., 1., 1.,\n",
       "        1., 1., 1., 1., 1., 1., 1., 1., 1., 1., 1., 1., 1., 1., 1., 1.,\n",
       "        1., 1., 1., 1., 1., 1., 1., 1., 1., 1., 1., 1., 1., 1., 1., 1.,\n",
       "        1., 1.]])"
      ]
     },
     "execution_count": 8,
     "metadata": {},
     "output_type": "execute_result"
    }
   ],
   "source": [
    "y_bin_damaged = np.zeros((1,850))\n",
    "y_bin_damaged[:,450:] = y_bin_damaged[:,450:] +1\n",
    "y_bin_damaged"
   ]
  },
  {
   "cell_type": "code",
   "execution_count": 9,
   "metadata": {
    "colab": {
     "base_uri": "https://localhost:8080/",
     "height": 573
    },
    "id": "e-gKqynj2hAj",
    "outputId": "2c28d37e-c9b0-4853-a6fa-bb1a7c8b3454"
   },
   "outputs": [
    {
     "data": {
      "image/png": "[encoded data removed]",
      "text/plain": [
       "<Figure size 432x288 with 2 Axes>"
      ]
     },
     "metadata": {
      "needs_background": "light"
     },
     "output_type": "display_data"
    },
    {
     "data": {
      "image/png": "[encoded data removed]",
      "text/plain": [
       "<Figure size 432x288 with 2 Axes>"
      ]
     },
     "metadata": {
      "needs_background": "light"
     },
     "output_type": "display_data"
    }
   ],
   "source": [
    "Ch1 = dataset[:,0,:] # célula de carga: força do shaker\n",
    "Ch2 = dataset[:,1,:] # acelerômetro: base\n",
    "Ch3 = dataset[:,2,:] # acelerômetro: 1o andar\n",
    "Ch4 = dataset[:,3,:] # acelerômetro: 2o andar\n",
    "Ch5 = dataset[:,4,:] # acelerômetro: 3o andar\n",
    "\n",
    "Ts = 3.125 * 1e-3 # sampling time\n",
    "time = (np.linspace(1,N,N) - 1) * Ts\n",
    "\n",
    "for case in np.array([0,790]):\n",
    "    plt.figure(case)\n",
    "    plt.subplot(211)\n",
    "    plt.title('case %d, label %d' % (case, y[case]))\n",
    "    plt.plot(time,Ch1[:,case])\n",
    "    plt.ylabel('Force')\n",
    "    plt.subplot(212)\n",
    "    plt.plot(time,Ch2[:,case],time,Ch3[:,case],time,Ch4[:,case],time,Ch5[:,case])\n",
    "    plt.xlabel('Time')\n",
    "    plt.ylabel('Acceleration')\n",
    "    plt.show()"
   ]
  },
  {
   "cell_type": "code",
   "execution_count": 10,
   "metadata": {
    "colab": {
     "base_uri": "https://localhost:8080/"
    },
    "id": "rLBlKrtd7Ot_",
    "outputId": "ebbccf56-8478-4f28-f309-70f7e5ecc658"
   },
   "outputs": [
    {
     "name": "stdout",
     "output_type": "stream",
     "text": [
      "matrix X:  [[ 0.14656393  0.12344872 -0.42452564 ...  0.62527312  0.18531354\n",
      "  -0.08524884]\n",
      " [ 0.79236289  0.26123975 -0.52503197 ...  0.5761841   0.75775165\n",
      "  -0.38039847]\n",
      " [ 0.17113439  0.98893784  0.60084113 ... -0.10711284  0.6940215\n",
      "  -0.20874206]\n",
      " ...\n",
      " [ 0.21738063  0.40702133  0.44190305 ... -0.43805704  0.31272412\n",
      "   0.07283314]\n",
      " [-0.03923676  0.18921679  0.05709407 ... -0.40076345  0.02953589\n",
      "   0.34142521]\n",
      " [ 0.03684378 -0.30327268 -0.64940672 ... -0.17947949 -0.69738006\n",
      "   0.42497897]] \n",
      " matrix X.shape:  (32768, 850)\n"
     ]
    }
   ],
   "source": [
    "X = np.concatenate((Ch2,Ch3,Ch4,Ch5))\n",
    "\n",
    "X\n",
    "\n",
    "print( 'matrix X: ', X, '\\n matrix X.shape: ',X.shape)"
   ]
  },
  {
   "cell_type": "markdown",
   "metadata": {
    "id": "vHLeCBuLD2SG"
   },
   "source": [
    "## Feature extraction AR"
   ]
  },
  {
   "cell_type": "code",
   "execution_count": 11,
   "metadata": {
    "id": "xSuX_E4g8r6u"
   },
   "outputs": [],
   "source": [
    "FeatAR = []\n",
    "na = 29\n",
    "for i in range(0,850):\n",
    "  ARmodel2 = AutoReg(Ch2[:,i],na).fit()\n",
    "  ARmodel3 = AutoReg(Ch3[:,i],na).fit()\n",
    "  ARmodel4 = AutoReg(Ch4[:,i],na).fit()\n",
    "  ARmodel5 = AutoReg(Ch5[:,i],na).fit()\n",
    "  ARparams = np.concatenate([ARmodel2.params,ARmodel3.params, ARmodel4.params,ARmodel5.params])\n",
    "  FeatAR.append(ARparams)\n",
    "FeatAR = np.array(FeatAR)\n"
   ]
  },
  {
   "cell_type": "code",
   "execution_count": 12,
   "metadata": {
    "colab": {
     "base_uri": "https://localhost:8080/"
    },
    "id": "vSWBx5Y5LUyN",
    "outputId": "bda58eab-cb6a-46cd-ec62-d1a5516ae310"
   },
   "outputs": [
    {
     "data": {
      "text/plain": [
       "(850, 120)"
      ]
     },
     "execution_count": 12,
     "metadata": {},
     "output_type": "execute_result"
    }
   ],
   "source": [
    "FeatAR.shape"
   ]
  },
  {
   "cell_type": "markdown",
   "metadata": {
    "id": "qaHk1svV8t_N"
   },
   "source": [
    "## : feature extraction PCA \n"
   ]
  },
  {
   "cell_type": "code",
   "execution_count": 13,
   "metadata": {
    "colab": {
     "base_uri": "https://localhost:8080/"
    },
    "id": "ufLv8LjkXVBR",
    "outputId": "2b0f52ca-3fbf-41ea-8a5a-4437b8b0cd93"
   },
   "outputs": [
    {
     "name": "stdout",
     "output_type": "stream",
     "text": [
      "matrix X.shape:  (850, 6) \n",
      " X_PCA: [[ 7.66136505 -1.41780663  0.80665171  0.89625556 -1.19463583 -0.13840328]\n",
      " [ 6.8869037  -1.70474591  0.96095314 -0.0090899  -1.74358116 -0.49638477]\n",
      " [ 6.94763838 -1.5554447   0.94936492  0.13319058 -0.83617666 -0.46298613]\n",
      " ...\n",
      " [-5.24160818 -1.38243332  1.19297854 -2.02374849 -0.32984218  0.81221121]\n",
      " [-5.06151016 -1.37825724  1.20604602 -0.0969439   0.34497989  0.90045879]\n",
      " [-5.24563384 -1.14354112  1.67658163  0.0533145   0.28827159  0.88529276]]\n"
     ]
    }
   ],
   "source": [
    "from sklearn.decomposition import PCA\n",
    "\n",
    "pca = PCA(n_components=.95)\n",
    "X_pca = pca.fit_transform(FeatAR)\n",
    "\n",
    "print('matrix X.shape: ',X_pca.shape,'\\n X_PCA:', X_pca)"
   ]
  },
  {
   "cell_type": "code",
   "execution_count": 14,
   "metadata": {
    "colab": {
     "base_uri": "https://localhost:8080/"
    },
    "id": "BrWey38AN301",
    "outputId": "c7d184a9-75b0-4213-94ec-4a79ce75739b"
   },
   "outputs": [
    {
     "name": "stdout",
     "output_type": "stream",
     "text": [
      "[0.64699238 0.12653811 0.09021831 0.0510888  0.02622314 0.01953216] [131.93541573  58.34753064  49.26734492  37.0744467   26.56159486\n",
      "  22.92381596]\n"
     ]
    }
   ],
   "source": [
    "print(pca.explained_variance_ratio_ , pca.singular_values_)"
   ]
  },
  {
   "cell_type": "markdown",
   "metadata": {
    "id": "YxRH5I1mxeF7"
   },
   "source": [
    "## : Scale Feature"
   ]
  },
  {
   "cell_type": "code",
   "execution_count": 15,
   "metadata": {
    "colab": {
     "base_uri": "https://localhost:8080/"
    },
    "id": "WDOZQnHB3OFp",
    "outputId": "9f067fe0-4e2f-46d8-e6a3-0b1f436a16d0"
   },
   "outputs": [
    {
     "name": "stdout",
     "output_type": "stream",
     "text": [
      "Confirmando a normalização: \n",
      " X1 máximo normalizado:  1.0000000000000018 \n",
      " X1 minimo normalizado:  -1.0 \n",
      " X2 máximo normalizado:  1.0000000000000002 \n",
      " X2 minimo normalizado:  -1.0\n"
     ]
    }
   ],
   "source": [
    "from sklearn.preprocessing import MinMaxScaler\n",
    "\n",
    "# Normalizando AR\n",
    "X1_max_min = MinMaxScaler(feature_range=(-1,1))\n",
    "X1_train = X1_max_min.fit_transform(FeatAR)\n",
    "X1_train\n",
    "\n",
    "# Normalizando PCA\n",
    "X2_max_min = MinMaxScaler(feature_range=(-1,1))\n",
    "X2_train = X2_max_min.fit_transform(X_pca)\n",
    "X2_train\n",
    "\n",
    "print('Confirmando a normalização:','\\n X1 máximo normalizado: ', X1_train.max(), '\\n X1 minimo normalizado: ',X1_train.min(),'\\n X2 máximo normalizado: ', X2_train.max(), '\\n X2 minimo normalizado: ',X2_train.min())\n"
   ]
  },
  {
   "cell_type": "code",
   "execution_count": 16,
   "metadata": {
    "colab": {
     "base_uri": "https://localhost:8080/",
     "height": 0
    },
    "id": "aE9NrN3wKGH9",
    "outputId": "9e918341-5148-4044-ce9b-60fe13dbdcbb"
   },
   "outputs": [
    {
     "data": {
      "image/png": "[encoded data removed]",
      "text/plain": [
       "<Figure size 432x288 with 1 Axes>"
      ]
     },
     "metadata": {
      "needs_background": "light"
     },
     "output_type": "display_data"
    },
    {
     "data": {
      "image/png": "[encoded data removed]",
      "text/plain": [
       "<Figure size 432x288 with 1 Axes>"
      ]
     },
     "metadata": {
      "needs_background": "light"
     },
     "output_type": "display_data"
    }
   ],
   "source": [
    "# Plotando os resultados comparando o X1 com X2 \n",
    "\n",
    "# Dividi o problema em duas soluções:  - Não danificado em AZUL e Danificado em vermelho\n",
    "\n",
    "\n",
    "Y1 = np.array(range(0,120))\n",
    "Y2 = np.array(range(0,6))\n",
    "\n",
    "# Plot do AR\n",
    "for case in range(0,850):\n",
    "  if y_bin_damaged[0,case]==0:\n",
    "    color_name = 'blue'\n",
    "  else:\n",
    "    color_name = 'red'\n",
    "    plt.title('Modelo 1 - separado por Danificado/Não Danificado - Por AR ')\n",
    "  plt.scatter(Y1,X1_train[case,:], color = color_name)\n",
    "plt.show()\n",
    "\n",
    "# Plot do PCA\n",
    "for case in range(0,850):\n",
    "  if y_bin_damaged[0,case]==0:\n",
    "    color_name = 'blue'\n",
    "  else:\n",
    "    color_name = 'red'\n",
    "    plt.title('Modelo 1 - separado por Danificado/Não Danificado - Por PCA ')\n",
    "  plt.scatter(Y2,X2_train[case,:], color = color_name)\n",
    "plt.show()\n",
    "  "
   ]
  },
  {
   "cell_type": "markdown",
   "metadata": {
    "id": "LtR-1NNyoaos"
   },
   "source": [
    "Ao plotar o modelo AR é possível observar que a grande quantidade de dados dificulas a leitura e interpretação do problema. Quando ao gráfico com PCA, a redução de variaveis facilita a interpretação dos resultados neste caso."
   ]
  },
  {
   "cell_type": "markdown",
   "metadata": {
    "id": "eUkY12rhoZe1"
   },
   "source": [
    "## : SOFTMAX"
   ]
  },
  {
   "cell_type": "code",
   "execution_count": 17,
   "metadata": {
    "colab": {
     "base_uri": "https://localhost:8080/"
    },
    "id": "wdhebdtmh5n4",
    "outputId": "203f0f96-4b54-4848-e859-f98b3b955dc8"
   },
   "outputs": [
    {
     "name": "stdout",
     "output_type": "stream",
     "text": [
      "score_1 0.9988235294117647 \n",
      " score_2 0.908235294117647\n"
     ]
    }
   ],
   "source": [
    "\n",
    "\n",
    "softmax1 = LogisticRegression(random_state=0,max_iter= 2000).fit(X1_train,y)\n",
    "softmax2 = LogisticRegression(random_state=0,max_iter= 2000).fit(X2_train,y)\n",
    "\n",
    "\n",
    "predict_1 = softmax1.predict(X1_train)\n",
    "proba_1 = softmax1.predict_proba(X1_train)\n",
    "score_1 = softmax1.score(X1_train,y)                           \n",
    "\n",
    "predict_2 = softmax2.predict(X2_train)\n",
    "proba_2 = softmax2.predict_proba(X2_train)\n",
    "score_2 = softmax2.score(X2_train,y)  \n",
    "\n",
    "print('score_1', score_1,'\\n score_2', score_2)"
   ]
  },
  {
   "cell_type": "markdown",
   "metadata": {
    "id": "ZKTBR95PAn-G"
   },
   "source": [
    "## : SVC"
   ]
  },
  {
   "cell_type": "code",
   "execution_count": 18,
   "metadata": {
    "colab": {
     "base_uri": "https://localhost:8080/"
    },
    "id": "lOu6RCTwAqLb",
    "outputId": "41d4116d-b209-4cdc-f2c5-6c5723dff5c3"
   },
   "outputs": [
    {
     "name": "stdout",
     "output_type": "stream",
     "text": [
      "svm_linear_1 1.0 \n",
      " svm_ploy_1 0.9988235294117647 \n",
      " svm_rbf_1 0.9976470588235294 \n",
      " svm_sig_1 0.9847058823529412\n",
      "\n",
      " svm_linear_2 0.9364705882352942 \n",
      " svm_poly_2 0.9341176470588235 \n",
      " svm_rbf_2 0.9364705882352942 \n",
      " svm_sig_2 0.8505882352941176\n"
     ]
    }
   ],
   "source": [
    "# AR\n",
    "\n",
    "svc_linear_1 = svm.SVC(C=1.0, kernel='linear').fit(X1_train,y)\n",
    "svc_poly_1 = svm.SVC(C=1.0, kernel='poly').fit(X1_train,y)\n",
    "svc_rbf_1 = svm.SVC(C=1.0, kernel='rbf').fit(X1_train,y)\n",
    "svc_sig_1 = svm.SVC(C=1.0, kernel='sigmoid').fit(X1_train,y)\n",
    "\n",
    "linear_1_predict = svc_linear_1.predict(X1_train)\n",
    "poly_1_predict = svc_poly_1.predict(X1_train)\n",
    "rbf_1_predict = svc_rbf_1.predict(X1_train)\n",
    "sig_1_predict = svc_sig_1.predict(X1_train)\n",
    "\n",
    "svm_linear_1 = svc_linear_1.score(X1_train,y)\n",
    "svm_ploy_1 = svc_poly_1.score(X1_train,y) \n",
    "svm_rbf_1 = svc_rbf_1.score(X1_train,y) \n",
    "svm_sig_1 = svc_sig_1.score(X1_train,y)\n",
    "\n",
    "# PCA\n",
    "\n",
    "svc_linear_2 = svm.SVC(C=1.0, kernel='linear').fit(X2_train,y)\n",
    "svc_poly_2 = svm.SVC(C=1.0, kernel='poly').fit(X2_train,y)\n",
    "svc_rbf_2 = svm.SVC(C=1.0, kernel='rbf').fit(X2_train,y)\n",
    "svc_sig_2 = svm.SVC(C=1.0, kernel='sigmoid').fit(X2_train,y)\n",
    "\n",
    "linear_2_predict = svc_linear_2.predict(X2_train)\n",
    "poly_2_predict = svc_poly_2.predict(X2_train)\n",
    "rbf_2_predict = svc_rbf_2.predict(X2_train)\n",
    "sig_2_predict = svc_sig_2.predict(X2_train)\n",
    "\n",
    "svm_linear_2 = svc_linear_2.score(X2_train,y)\n",
    "svm_poly_2 = svc_poly_2.score(X2_train,y) \n",
    "svm_rbf_2 = svc_rbf_2.score(X2_train,y) \n",
    "svm_sig_2 = svc_sig_2.score(X2_train,y) \n",
    "\n",
    "print('svm_linear_1', svm_linear_1, '\\n svm_ploy_1', svm_ploy_1, '\\n svm_rbf_1', svm_rbf_1, '\\n svm_sig_1', svm_sig_1)\n",
    "print('\\n svm_linear_2', svm_linear_2, '\\n svm_poly_2', svm_poly_2, '\\n svm_rbf_2', svm_rbf_2, '\\n svm_sig_2', svm_sig_2)"
   ]
  },
  {
   "cell_type": "markdown",
   "metadata": {
    "id": "AtykIan22OeT"
   },
   "source": [
    "## : kNN"
   ]
  },
  {
   "cell_type": "code",
   "execution_count": 19,
   "metadata": {
    "colab": {
     "base_uri": "https://localhost:8080/"
    },
    "id": "uVcZx5ds2Q5m",
    "outputId": "daadf0b9-ce19-4e39-a899-96fe31d168bd"
   },
   "outputs": [
    {
     "name": "stdout",
     "output_type": "stream",
     "text": [
      " knn_5_ar 0.9941176470588236 \n",
      " knn_10_ar 0.9894117647058823 \n",
      " knn_15_ar 0.9870588235294118 \n",
      " knn_20_ar 0.9870588235294118\n",
      "\n",
      " knn_5_pca 0.9376470588235294 \n",
      " knn_10_pca 0.9376470588235294 \n",
      " knn_15_pca 0.9294117647058824 \n",
      " knn_20_pca 0.9235294117647059\n"
     ]
    }
   ],
   "source": [
    "#AR\n",
    "knn_5_1 = KNeighborsClassifier(n_neighbors=5).fit(X1_train,y)\n",
    "knn_10_1 = KNeighborsClassifier(n_neighbors=10).fit(X1_train,y)\n",
    "knn_15_1 = KNeighborsClassifier(n_neighbors=15).fit(X1_train,y)\n",
    "knn_20_1 = KNeighborsClassifier(n_neighbors=20).fit(X1_train,y)\n",
    "\n",
    "knn_5_ar = knn_5_1.score(X1_train,y)\n",
    "knn_10_ar = knn_10_1.score(X1_train,y) \n",
    "knn_15_ar = knn_15_1.score(X1_train,y) \n",
    "knn_20_ar = knn_20_1.score(X1_train,y)\n",
    "\n",
    "\n",
    "#PCA\n",
    "knn_5_2 = KNeighborsClassifier(n_neighbors=5).fit(X2_train,y)\n",
    "knn_10_2 = KNeighborsClassifier(n_neighbors=10).fit(X2_train,y)\n",
    "knn_15_2 = KNeighborsClassifier(n_neighbors=15).fit(X2_train,y)\n",
    "knn_20_2 = KNeighborsClassifier(n_neighbors=20).fit(X2_train,y)\n",
    "\n",
    "knn_5_pca = knn_5_2.score(X2_train,y)\n",
    "knn_10_pca = knn_10_2.score(X2_train,y) \n",
    "knn_15_pca = knn_15_2.score(X2_train,y) \n",
    "knn_20_pca = knn_20_2.score(X2_train,y)\n",
    "\n",
    "print(' knn_5_ar', knn_5_ar, '\\n knn_10_ar', knn_10_ar, '\\n knn_15_ar', knn_15_ar, '\\n knn_20_ar', knn_20_ar)\n",
    "print('\\n knn_5_pca', knn_5_pca, '\\n knn_10_pca', knn_10_pca, '\\n knn_15_pca', knn_15_pca, '\\n knn_20_pca', knn_20_pca)"
   ]
  },
  {
   "cell_type": "markdown",
   "metadata": {
    "id": "SYpTRZs3U7uJ"
   },
   "source": [
    "## : Creates List of Dictionaries"
   ]
  },
  {
   "cell_type": "code",
   "execution_count": 20,
   "metadata": {
    "id": "yEJ4mqRBVEy4"
   },
   "outputs": [],
   "source": [
    "param_grid = []\n",
    "\n",
    "param_grid.append(\n",
    "    [\n",
    "     {\n",
    "      \"LGR__C\": stats.loguniform(1e-2,1e2),\n",
    "     }\n",
    "    ]\n",
    ")\n",
    "\n",
    "\n",
    "param_grid.append(\n",
    "    [\n",
    "     {\n",
    "      \"SVC__C\": stats.loguniform(1e-2,1e2),\n",
    "      \"SVC__kernel\": [\"linear\",\"poly\",\"rbf\",\"sigmoid\"],   \n",
    "     }\n",
    "    ]\n",
    ")\n",
    "\n",
    "\n",
    "\n",
    "param_grid.append(\n",
    "    [\n",
    "     {\n",
    "      \"KNN__n_neighbors\": stats.randint(2,100),\n",
    "      \"KNN__weights\": [\"uniform\",\"distance\"],\n",
    "     }\n",
    "    ]\n",
    ")\n",
    "\n",
    "\n",
    "models = []\n",
    "\n",
    "models.append((\"LGR\", LogisticRegression(max_iter=1000)))\n",
    "models.append((\"SVC\",SVC()))\n",
    "models.append((\"KNN\", KNeighborsRegressor()))"
   ]
  },
  {
   "cell_type": "code",
   "execution_count": 21,
   "metadata": {
    "id": "ozjGaZG_8Wr6"
   },
   "outputs": [],
   "source": [
    "N_REPS=50\n",
    "N_SPLITS=5\n",
    "N_ITERS=100\n",
    "models_list=['LGR','SVC','KNN']"
   ]
  },
  {
   "cell_type": "markdown",
   "metadata": {
    "id": "ZwYuhrcqr1Ti"
   },
   "source": [
    "## : Hyperparameter"
   ]
  },
  {
   "cell_type": "code",
   "execution_count": 22,
   "metadata": {
    "colab": {
     "base_uri": "https://localhost:8080/"
    },
    "id": "W6UoYaRKr0Kq",
    "outputId": "8a9ff6ce-eaf8-42c4-f789-533ac12f2a5c"
   },
   "outputs": [
    {
     "name": "stdout",
     "output_type": "stream",
     "text": [
      "Fitting 250 folds for each of 100 candidates, totalling 25000 fits\n",
      "Accuracy Score:  LGR  AR:  -0.0\n",
      "Fitting 250 folds for each of 100 candidates, totalling 25000 fits\n",
      "Accuracy Score:  SVC  AR:  -0.00196078431372549\n",
      "Fitting 250 folds for each of 100 candidates, totalling 25000 fits\n",
      "Accuracy Score:  KNN  AR:  -0.14368662085453332\n",
      "Fitting 250 folds for each of 100 candidates, totalling 25000 fits\n",
      "Accuracy Score:  LGR  PCA:  -0.0\n",
      "Fitting 250 folds for each of 100 candidates, totalling 25000 fits\n",
      "Accuracy Score:  SVC  PCA:  -0.00196078431372549\n",
      "Fitting 250 folds for each of 100 candidates, totalling 25000 fits\n",
      "Accuracy Score:  KNN  PCA:  -0.14368662085453332\n"
     ]
    }
   ],
   "source": [
    "from sklearn.model_selection import train_test_split\n",
    "\n",
    "# AR\n",
    "\n",
    "random_search_AR={}\n",
    "param_grids_AR={}\n",
    "yh_test_AR={}\n",
    "acc1={}\n",
    "for k in range(0,3):\n",
    "  X_train_AR, X_test_AR, y_train_AR, y_test_AR = train_test_split(X1_train,y, \n",
    "                                                                  test_size=0.6, \n",
    "                                                                  random_state=42)\n",
    "  rkf = RepeatedKFold(n_splits=N_SPLITS,n_repeats=N_REPS,random_state=42)\n",
    "  clf = Pipeline([(\"scaler\",StandardScaler()), (models[k])])\n",
    "  param_grids_AR[models_list[k]] = param_grid[k]\n",
    "  random_search_AR[models_list[k]] = RandomizedSearchCV(clf,verbose=1, \n",
    "                                                        scoring=\"neg_mean_squared_error\",\n",
    "                                                        param_distributions=param_grids_AR[models_list[k]],\n",
    "                                                        n_iter=N_ITERS,\n",
    "                                                        n_jobs=-1,\n",
    "                                                        cv=rkf,\n",
    "                                                        random_state=42)\n",
    "  random_search_AR[models_list[k]].fit(X_train_AR,y_train_AR)\n",
    "\n",
    "  yh_test_AR[models_list[k]] = random_search_AR[models_list[k]].predict(X_test_AR)\n",
    "  acc1[models_list[k]] = random_search_AR[models_list[k]].score(X_test_AR, y_test_AR)\n",
    "  print('Accuracy Score: ',models_list[k], ' AR: ', acc1[models_list[k]])\n",
    "\n",
    "# PCA\n",
    "\n",
    "random_search_PCA={}\n",
    "param_grids_PCA={}\n",
    "yh_test_PCA={}\n",
    "acc2={}\n",
    "for k in range(0,3):\n",
    "\n",
    "  X_train_PCA, X_test_PCA, y_train_PCA, y_test_PCA = train_test_split(X2_train,y, \n",
    "                                                                      test_size=0.6, \n",
    "                                                                      random_state=42)\n",
    "  rkf = RepeatedKFold(n_splits=N_SPLITS,n_repeats=N_REPS,random_state=42)\n",
    "  clf = Pipeline([(\"scaler\",StandardScaler()), (models[k])])\n",
    "  param_grids_PCA[models_list[k]] = param_grid[k]\n",
    "  random_search_PCA[models_list[k]] = RandomizedSearchCV(clf,verbose=1, \n",
    "                                                         scoring=\"neg_mean_squared_error\",\n",
    "                                                         param_distributions=param_grids_PCA[models_list[k]],\n",
    "                                                         n_iter=N_ITERS,\n",
    "                                                         n_jobs=-1,\n",
    "                                                         cv=rkf,\n",
    "                                                         random_state=42)\n",
    "  random_search_PCA[models_list[k]].fit(X_train_PCA,y_train_PCA)  \n",
    "  yh_test_PCA[models_list[k]] = random_search_PCA[models_list[k]].predict(X_test_PCA)\n",
    "  acc2[models_list[k]] = random_search_PCA[models_list[k]].score(X_test_PCA, y_test_PCA)\n",
    "  print('Accuracy Score: ',models_list[k], ' PCA: ', acc1[models_list[k]])"
   ]
  },
  {
   "cell_type": "code",
   "execution_count": 23,
   "metadata": {
    "id": "GlRZN4NlDXAZ"
   },
   "outputs": [],
   "source": [
    "results_dict = {\n",
    "    'Results_AR':random_search_AR,\n",
    "    'yh_AR':yh_test_AR,\n",
    "    'Results_PCA':random_search_PCA,\n",
    "    'yh_PCA':yh_test_PCA,\n",
    "}"
   ]
  },
  {
   "cell_type": "code",
   "execution_count": 24,
   "metadata": {
    "id": "lvEUSJdDDWkD"
   },
   "outputs": [],
   "source": [
    "a_file = open(\"TakeHome4_results_n_reps\"+str(N_REPS)+\".pkl\", \"wb\")\n",
    "pickle.dump(results_dict, a_file)\n",
    "a_file.close()"
   ]
  }
 ],
 "metadata": {
  "colab": {
   "collapsed_sections": [
    "vHLeCBuLD2SG",
    "qaHk1svV8t_N"
   ],
   "name": "HIML_Isabel_TakeHome4.ipynb",
   "provenance": []
  },
  "interpreter": {
   "hash": "ac59ebe37160ed0dfa835113d9b8498d9f09ceb179beaac4002f036b9467c963"
  },
  "kernelspec": {
   "display_name": "Python 3 (ipykernel)",
   "language": "python",
   "name": "python3"
  },
  "language_info": {
   "codemirror_mode": {
    "name": "ipython",
    "version": 3
   },
   "file_extension": ".py",
   "mimetype": "text/x-python",
   "name": "python",
   "nbconvert_exporter": "python",
   "pygments_lexer": "ipython3",
   "version": "3.9.12"
  }
 },
 "nbformat": 4,
 "nbformat_minor": 1
}
