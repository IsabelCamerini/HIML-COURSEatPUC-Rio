{
  "cells": [
    {
      "cell_type": "markdown",
      "metadata": {
        "id": "view-in-github",
        "colab_type": "text"
      },
      "source": [
        "<a href=\"https://colab.research.google.com/github/IsabelCamerini/HIML-COUSEatPUC-Rio/blob/main/HIML_Isabel_TakeHome3.ipynb\" target=\"_parent\"><img src=\"https://colab.research.google.com/assets/colab-badge.svg\" alt=\"Open In Colab\"/></a>"
      ]
    },
    {
      "cell_type": "markdown",
      "metadata": {
        "id": "NZZDmZGC4Zam"
      },
      "source": [
        "## :  Previous Script Available"
      ]
    },
    {
      "cell_type": "code",
      "execution_count": 1,
      "metadata": {
        "colab": {
          "base_uri": "https://localhost:8080/"
        },
        "id": "OONSA0gb2hAe",
        "outputId": "9b13fe3d-1ce5-4a63-d840-2182048828a6"
      },
      "outputs": [
        {
          "output_type": "stream",
          "name": "stdout",
          "text": [
            "--2022-04-06 20:19:23--  http://helon.usuarios.rdc.puc-rio.br/data/data3SS2009.mat\n",
            "Resolving helon.usuarios.rdc.puc-rio.br (helon.usuarios.rdc.puc-rio.br)... 139.82.34.10\n",
            "Connecting to helon.usuarios.rdc.puc-rio.br (helon.usuarios.rdc.puc-rio.br)|139.82.34.10|:80... connected.\n",
            "HTTP request sent, awaiting response... 200 OK\n",
            "Length: 267634147 (255M)\n",
            "Saving to: ‘data3SS2009.mat’\n",
            "\n",
            "data3SS2009.mat     100%[===================>] 255.24M  10.4MB/s    in 29s     \n",
            "\n",
            "2022-04-06 20:19:53 (8.81 MB/s) - ‘data3SS2009.mat’ saved [267634147/267634147]\n",
            "\n"
          ]
        }
      ],
      "source": [
        "# execute this for the 1st time\n",
        "# !pip install -r example-requirements.txt \n",
        "\n",
        "# download file \n",
        "!wget http://helon.usuarios.rdc.puc-rio.br/data/data3SS2009.mat # linux\n",
        "\n",
        "# and place in folder data/"
      ]
    },
    {
      "cell_type": "code",
      "execution_count": 2,
      "metadata": {
        "colab": {
          "base_uri": "https://localhost:8080/"
        },
        "id": "KEDeUHaMKOom",
        "outputId": "22d078a1-4440-4b98-d286-5c52d5b8d6b0"
      },
      "outputs": [
        {
          "output_type": "stream",
          "name": "stdout",
          "text": [
            "Collecting statsmodels==0.13.2\n",
            "  Downloading statsmodels-0.13.2-cp37-cp37m-manylinux_2_17_x86_64.manylinux2014_x86_64.whl (9.8 MB)\n",
            "\u001b[K     |████████████████████████████████| 9.8 MB 23.5 MB/s \n",
            "\u001b[?25hRequirement already satisfied: packaging>=21.3 in /usr/local/lib/python3.7/dist-packages (from statsmodels==0.13.2) (21.3)\n",
            "Requirement already satisfied: scipy>=1.3 in /usr/local/lib/python3.7/dist-packages (from statsmodels==0.13.2) (1.4.1)\n",
            "Requirement already satisfied: patsy>=0.5.2 in /usr/local/lib/python3.7/dist-packages (from statsmodels==0.13.2) (0.5.2)\n",
            "Requirement already satisfied: pandas>=0.25 in /usr/local/lib/python3.7/dist-packages (from statsmodels==0.13.2) (1.3.5)\n",
            "Requirement already satisfied: numpy>=1.17 in /usr/local/lib/python3.7/dist-packages (from statsmodels==0.13.2) (1.21.5)\n",
            "Requirement already satisfied: pyparsing!=3.0.5,>=2.0.2 in /usr/local/lib/python3.7/dist-packages (from packaging>=21.3->statsmodels==0.13.2) (3.0.7)\n",
            "Requirement already satisfied: pytz>=2017.3 in /usr/local/lib/python3.7/dist-packages (from pandas>=0.25->statsmodels==0.13.2) (2018.9)\n",
            "Requirement already satisfied: python-dateutil>=2.7.3 in /usr/local/lib/python3.7/dist-packages (from pandas>=0.25->statsmodels==0.13.2) (2.8.2)\n",
            "Requirement already satisfied: six in /usr/local/lib/python3.7/dist-packages (from patsy>=0.5.2->statsmodels==0.13.2) (1.15.0)\n",
            "Installing collected packages: statsmodels\n",
            "  Attempting uninstall: statsmodels\n",
            "    Found existing installation: statsmodels 0.10.2\n",
            "    Uninstalling statsmodels-0.10.2:\n",
            "      Successfully uninstalled statsmodels-0.10.2\n",
            "Successfully installed statsmodels-0.13.2\n"
          ]
        }
      ],
      "source": [
        "! pip install statsmodels==0.13.2"
      ]
    },
    {
      "cell_type": "code",
      "execution_count": 3,
      "metadata": {
        "id": "Ru-HAQce3LPe"
      },
      "outputs": [],
      "source": [
        "import numpy as np\n",
        "import matplotlib \n",
        "import scipy\n",
        "import sklearn\n",
        "# from sklearn.preprocessing import StandardScaler\n",
        "# from sklearn import preprocessing\n",
        "import statsmodels\n",
        "# import tsfresh\n",
        "import seaborn\n",
        "import pydot\n",
        "from sklearn.preprocessing import StandardScaler\n",
        "\n",
        "from statsmodels.tsa.ar_model import AutoReg "
      ]
    },
    {
      "cell_type": "code",
      "execution_count": 4,
      "metadata": {
        "id": "I_9yuzxxPB9o",
        "colab": {
          "base_uri": "https://localhost:8080/"
        },
        "outputId": "0f47f833-c2d1-42b6-9479-3dce2547377d"
      },
      "outputs": [
        {
          "output_type": "stream",
          "name": "stdout",
          "text": [
            "Mounted at /content/drive\n"
          ]
        }
      ],
      "source": [
        "from google.colab import drive\n",
        "drive.mount('/content/drive')"
      ]
    },
    {
      "cell_type": "code",
      "execution_count": 5,
      "metadata": {
        "id": "msOwr0Dx2hAh"
      },
      "outputs": [],
      "source": [
        "import scipy.io as sio\n",
        "import numpy as np\n",
        "from os import getcwd\n",
        "from os.path import join \n",
        "import matplotlib.pyplot as plt"
      ]
    },
    {
      "cell_type": "code",
      "execution_count": 6,
      "metadata": {
        "id": "gHT7bo3s2hAi",
        "colab": {
          "base_uri": "https://localhost:8080/"
        },
        "outputId": "15a23b7a-2679-49ec-f18b-a0f2a56ea702"
      },
      "outputs": [
        {
          "output_type": "execute_result",
          "data": {
            "text/plain": [
              "array([ 1,  1,  1,  1,  1,  1,  1,  1,  1,  1,  1,  1,  1,  1,  1,  1,  1,\n",
              "        1,  1,  1,  1,  1,  1,  1,  1,  1,  1,  1,  1,  1,  1,  1,  1,  1,\n",
              "        1,  1,  1,  1,  1,  1,  1,  1,  1,  1,  1,  1,  1,  1,  1,  1,  2,\n",
              "        2,  2,  2,  2,  2,  2,  2,  2,  2,  2,  2,  2,  2,  2,  2,  2,  2,\n",
              "        2,  2,  2,  2,  2,  2,  2,  2,  2,  2,  2,  2,  2,  2,  2,  2,  2,\n",
              "        2,  2,  2,  2,  2,  2,  2,  2,  2,  2,  2,  2,  2,  2,  2,  3,  3,\n",
              "        3,  3,  3,  3,  3,  3,  3,  3,  3,  3,  3,  3,  3,  3,  3,  3,  3,\n",
              "        3,  3,  3,  3,  3,  3,  3,  3,  3,  3,  3,  3,  3,  3,  3,  3,  3,\n",
              "        3,  3,  3,  3,  3,  3,  3,  3,  3,  3,  3,  3,  3,  3,  4,  4,  4,\n",
              "        4,  4,  4,  4,  4,  4,  4,  4,  4,  4,  4,  4,  4,  4,  4,  4,  4,\n",
              "        4,  4,  4,  4,  4,  4,  4,  4,  4,  4,  4,  4,  4,  4,  4,  4,  4,\n",
              "        4,  4,  4,  4,  4,  4,  4,  4,  4,  4,  4,  4,  4,  5,  5,  5,  5,\n",
              "        5,  5,  5,  5,  5,  5,  5,  5,  5,  5,  5,  5,  5,  5,  5,  5,  5,\n",
              "        5,  5,  5,  5,  5,  5,  5,  5,  5,  5,  5,  5,  5,  5,  5,  5,  5,\n",
              "        5,  5,  5,  5,  5,  5,  5,  5,  5,  5,  5,  5,  6,  6,  6,  6,  6,\n",
              "        6,  6,  6,  6,  6,  6,  6,  6,  6,  6,  6,  6,  6,  6,  6,  6,  6,\n",
              "        6,  6,  6,  6,  6,  6,  6,  6,  6,  6,  6,  6,  6,  6,  6,  6,  6,\n",
              "        6,  6,  6,  6,  6,  6,  6,  6,  6,  6,  6,  7,  7,  7,  7,  7,  7,\n",
              "        7,  7,  7,  7,  7,  7,  7,  7,  7,  7,  7,  7,  7,  7,  7,  7,  7,\n",
              "        7,  7,  7,  7,  7,  7,  7,  7,  7,  7,  7,  7,  7,  7,  7,  7,  7,\n",
              "        7,  7,  7,  7,  7,  7,  7,  7,  7,  7,  8,  8,  8,  8,  8,  8,  8,\n",
              "        8,  8,  8,  8,  8,  8,  8,  8,  8,  8,  8,  8,  8,  8,  8,  8,  8,\n",
              "        8,  8,  8,  8,  8,  8,  8,  8,  8,  8,  8,  8,  8,  8,  8,  8,  8,\n",
              "        8,  8,  8,  8,  8,  8,  8,  8,  8,  9,  9,  9,  9,  9,  9,  9,  9,\n",
              "        9,  9,  9,  9,  9,  9,  9,  9,  9,  9,  9,  9,  9,  9,  9,  9,  9,\n",
              "        9,  9,  9,  9,  9,  9,  9,  9,  9,  9,  9,  9,  9,  9,  9,  9,  9,\n",
              "        9,  9,  9,  9,  9,  9,  9,  9, 10, 10, 10, 10, 10, 10, 10, 10, 10,\n",
              "       10, 10, 10, 10, 10, 10, 10, 10, 10, 10, 10, 10, 10, 10, 10, 10, 10,\n",
              "       10, 10, 10, 10, 10, 10, 10, 10, 10, 10, 10, 10, 10, 10, 10, 10, 10,\n",
              "       10, 10, 10, 10, 10, 10, 10, 11, 11, 11, 11, 11, 11, 11, 11, 11, 11,\n",
              "       11, 11, 11, 11, 11, 11, 11, 11, 11, 11, 11, 11, 11, 11, 11, 11, 11,\n",
              "       11, 11, 11, 11, 11, 11, 11, 11, 11, 11, 11, 11, 11, 11, 11, 11, 11,\n",
              "       11, 11, 11, 11, 11, 11, 12, 12, 12, 12, 12, 12, 12, 12, 12, 12, 12,\n",
              "       12, 12, 12, 12, 12, 12, 12, 12, 12, 12, 12, 12, 12, 12, 12, 12, 12,\n",
              "       12, 12, 12, 12, 12, 12, 12, 12, 12, 12, 12, 12, 12, 12, 12, 12, 12,\n",
              "       12, 12, 12, 12, 12, 13, 13, 13, 13, 13, 13, 13, 13, 13, 13, 13, 13,\n",
              "       13, 13, 13, 13, 13, 13, 13, 13, 13, 13, 13, 13, 13, 13, 13, 13, 13,\n",
              "       13, 13, 13, 13, 13, 13, 13, 13, 13, 13, 13, 13, 13, 13, 13, 13, 13,\n",
              "       13, 13, 13, 13, 14, 14, 14, 14, 14, 14, 14, 14, 14, 14, 14, 14, 14,\n",
              "       14, 14, 14, 14, 14, 14, 14, 14, 14, 14, 14, 14, 14, 14, 14, 14, 14,\n",
              "       14, 14, 14, 14, 14, 14, 14, 14, 14, 14, 14, 14, 14, 14, 14, 14, 14,\n",
              "       14, 14, 14, 15, 15, 15, 15, 15, 15, 15, 15, 15, 15, 15, 15, 15, 15,\n",
              "       15, 15, 15, 15, 15, 15, 15, 15, 15, 15, 15, 15, 15, 15, 15, 15, 15,\n",
              "       15, 15, 15, 15, 15, 15, 15, 15, 15, 15, 15, 15, 15, 15, 15, 15, 15,\n",
              "       15, 15, 16, 16, 16, 16, 16, 16, 16, 16, 16, 16, 16, 16, 16, 16, 16,\n",
              "       16, 16, 16, 16, 16, 16, 16, 16, 16, 16, 16, 16, 16, 16, 16, 16, 16,\n",
              "       16, 16, 16, 16, 16, 16, 16, 16, 16, 16, 16, 16, 16, 16, 16, 16, 16,\n",
              "       16, 17, 17, 17, 17, 17, 17, 17, 17, 17, 17, 17, 17, 17, 17, 17, 17,\n",
              "       17, 17, 17, 17, 17, 17, 17, 17, 17, 17, 17, 17, 17, 17, 17, 17, 17,\n",
              "       17, 17, 17, 17, 17, 17, 17, 17, 17, 17, 17, 17, 17, 17, 17, 17, 17],\n",
              "      dtype=uint8)"
            ]
          },
          "metadata": {},
          "execution_count": 6
        }
      ],
      "source": [
        "fname = join(getcwd(),'data3SS2009.mat')\n",
        "\n",
        "mat_contents = sio.loadmat(fname)\n",
        "\n",
        "dataset = mat_contents['dataset']\n",
        "\n",
        "N, Chno, Nc = dataset.shape \n",
        "# N: number of samples\n",
        "# Chno: number of channels\n",
        "# Nc: number of cases\n",
        "\n",
        "y = mat_contents['labels'].reshape(Nc)\n",
        "y"
      ]
    },
    {
      "cell_type": "code",
      "execution_count": 7,
      "metadata": {
        "id": "32eH_sH1vi0G",
        "colab": {
          "base_uri": "https://localhost:8080/"
        },
        "outputId": "e5984dea-7384-4b39-d9c5-7a32cc7f0712"
      },
      "outputs": [
        {
          "output_type": "execute_result",
          "data": {
            "text/plain": [
              "(array([450, 451, 452, 453, 454, 455, 456, 457, 458, 459, 460, 461, 462,\n",
              "        463, 464, 465, 466, 467, 468, 469, 470, 471, 472, 473, 474, 475,\n",
              "        476, 477, 478, 479, 480, 481, 482, 483, 484, 485, 486, 487, 488,\n",
              "        489, 490, 491, 492, 493, 494, 495, 496, 497, 498, 499]),)"
            ]
          },
          "metadata": {},
          "execution_count": 7
        }
      ],
      "source": [
        "np.where(y==10)"
      ]
    },
    {
      "cell_type": "code",
      "execution_count": 8,
      "metadata": {
        "id": "3p4G6tHU0cuu",
        "colab": {
          "base_uri": "https://localhost:8080/"
        },
        "outputId": "e25e9b88-ade4-4651-85a9-5639dd7408df"
      },
      "outputs": [
        {
          "output_type": "execute_result",
          "data": {
            "text/plain": [
              "array([[0., 0., 0., 0., 0., 0., 0., 0., 0., 0., 0., 0., 0., 0., 0., 0.,\n",
              "        0., 0., 0., 0., 0., 0., 0., 0., 0., 0., 0., 0., 0., 0., 0., 0.,\n",
              "        0., 0., 0., 0., 0., 0., 0., 0., 0., 0., 0., 0., 0., 0., 0., 0.,\n",
              "        0., 0., 0., 0., 0., 0., 0., 0., 0., 0., 0., 0., 0., 0., 0., 0.,\n",
              "        0., 0., 0., 0., 0., 0., 0., 0., 0., 0., 0., 0., 0., 0., 0., 0.,\n",
              "        0., 0., 0., 0., 0., 0., 0., 0., 0., 0., 0., 0., 0., 0., 0., 0.,\n",
              "        0., 0., 0., 0., 0., 0., 0., 0., 0., 0., 0., 0., 0., 0., 0., 0.,\n",
              "        0., 0., 0., 0., 0., 0., 0., 0., 0., 0., 0., 0., 0., 0., 0., 0.,\n",
              "        0., 0., 0., 0., 0., 0., 0., 0., 0., 0., 0., 0., 0., 0., 0., 0.,\n",
              "        0., 0., 0., 0., 0., 0., 0., 0., 0., 0., 0., 0., 0., 0., 0., 0.,\n",
              "        0., 0., 0., 0., 0., 0., 0., 0., 0., 0., 0., 0., 0., 0., 0., 0.,\n",
              "        0., 0., 0., 0., 0., 0., 0., 0., 0., 0., 0., 0., 0., 0., 0., 0.,\n",
              "        0., 0., 0., 0., 0., 0., 0., 0., 0., 0., 0., 0., 0., 0., 0., 0.,\n",
              "        0., 0., 0., 0., 0., 0., 0., 0., 0., 0., 0., 0., 0., 0., 0., 0.,\n",
              "        0., 0., 0., 0., 0., 0., 0., 0., 0., 0., 0., 0., 0., 0., 0., 0.,\n",
              "        0., 0., 0., 0., 0., 0., 0., 0., 0., 0., 0., 0., 0., 0., 0., 0.,\n",
              "        0., 0., 0., 0., 0., 0., 0., 0., 0., 0., 0., 0., 0., 0., 0., 0.,\n",
              "        0., 0., 0., 0., 0., 0., 0., 0., 0., 0., 0., 0., 0., 0., 0., 0.,\n",
              "        0., 0., 0., 0., 0., 0., 0., 0., 0., 0., 0., 0., 0., 0., 0., 0.,\n",
              "        0., 0., 0., 0., 0., 0., 0., 0., 0., 0., 0., 0., 0., 0., 0., 0.,\n",
              "        0., 0., 0., 0., 0., 0., 0., 0., 0., 0., 0., 0., 0., 0., 0., 0.,\n",
              "        0., 0., 0., 0., 0., 0., 0., 0., 0., 0., 0., 0., 0., 0., 0., 0.,\n",
              "        0., 0., 0., 0., 0., 0., 0., 0., 0., 0., 0., 0., 0., 0., 0., 0.,\n",
              "        0., 0., 0., 0., 0., 0., 0., 0., 0., 0., 0., 0., 0., 0., 0., 0.,\n",
              "        0., 0., 0., 0., 0., 0., 0., 0., 0., 0., 0., 0., 0., 0., 0., 0.,\n",
              "        0., 0., 0., 0., 0., 0., 0., 0., 0., 0., 0., 0., 0., 0., 0., 0.,\n",
              "        0., 0., 0., 0., 0., 0., 0., 0., 0., 0., 0., 0., 0., 0., 0., 0.,\n",
              "        0., 0., 0., 0., 0., 0., 0., 0., 0., 0., 0., 0., 0., 0., 0., 0.,\n",
              "        0., 0., 1., 1., 1., 1., 1., 1., 1., 1., 1., 1., 1., 1., 1., 1.,\n",
              "        1., 1., 1., 1., 1., 1., 1., 1., 1., 1., 1., 1., 1., 1., 1., 1.,\n",
              "        1., 1., 1., 1., 1., 1., 1., 1., 1., 1., 1., 1., 1., 1., 1., 1.,\n",
              "        1., 1., 1., 1., 1., 1., 1., 1., 1., 1., 1., 1., 1., 1., 1., 1.,\n",
              "        1., 1., 1., 1., 1., 1., 1., 1., 1., 1., 1., 1., 1., 1., 1., 1.,\n",
              "        1., 1., 1., 1., 1., 1., 1., 1., 1., 1., 1., 1., 1., 1., 1., 1.,\n",
              "        1., 1., 1., 1., 1., 1., 1., 1., 1., 1., 1., 1., 1., 1., 1., 1.,\n",
              "        1., 1., 1., 1., 1., 1., 1., 1., 1., 1., 1., 1., 1., 1., 1., 1.,\n",
              "        1., 1., 1., 1., 1., 1., 1., 1., 1., 1., 1., 1., 1., 1., 1., 1.,\n",
              "        1., 1., 1., 1., 1., 1., 1., 1., 1., 1., 1., 1., 1., 1., 1., 1.,\n",
              "        1., 1., 1., 1., 1., 1., 1., 1., 1., 1., 1., 1., 1., 1., 1., 1.,\n",
              "        1., 1., 1., 1., 1., 1., 1., 1., 1., 1., 1., 1., 1., 1., 1., 1.,\n",
              "        1., 1., 1., 1., 1., 1., 1., 1., 1., 1., 1., 1., 1., 1., 1., 1.,\n",
              "        1., 1., 1., 1., 1., 1., 1., 1., 1., 1., 1., 1., 1., 1., 1., 1.,\n",
              "        1., 1., 1., 1., 1., 1., 1., 1., 1., 1., 1., 1., 1., 1., 1., 1.,\n",
              "        1., 1., 1., 1., 1., 1., 1., 1., 1., 1., 1., 1., 1., 1., 1., 1.,\n",
              "        1., 1., 1., 1., 1., 1., 1., 1., 1., 1., 1., 1., 1., 1., 1., 1.,\n",
              "        1., 1., 1., 1., 1., 1., 1., 1., 1., 1., 1., 1., 1., 1., 1., 1.,\n",
              "        1., 1., 1., 1., 1., 1., 1., 1., 1., 1., 1., 1., 1., 1., 1., 1.,\n",
              "        1., 1., 1., 1., 1., 1., 1., 1., 1., 1., 1., 1., 1., 1., 1., 1.,\n",
              "        1., 1., 1., 1., 1., 1., 1., 1., 1., 1., 1., 1., 1., 1., 1., 1.,\n",
              "        1., 1., 1., 1., 1., 1., 1., 1., 1., 1., 1., 1., 1., 1., 1., 1.,\n",
              "        1., 1., 1., 1., 1., 1., 1., 1., 1., 1., 1., 1., 1., 1., 1., 1.,\n",
              "        1., 1., 1., 1., 1., 1., 1., 1., 1., 1., 1., 1., 1., 1., 1., 1.,\n",
              "        1., 1., 1., 1., 1., 1., 1., 1., 1., 1., 1., 1., 1., 1., 1., 1.,\n",
              "        1., 1.]])"
            ]
          },
          "metadata": {},
          "execution_count": 8
        }
      ],
      "source": [
        "y_bin_damaged = np.zeros((1,850))\n",
        "y_bin_damaged[:,450:] = y_bin_damaged[:,450:] +1\n",
        "y_bin_damaged"
      ]
    },
    {
      "cell_type": "code",
      "execution_count": 9,
      "metadata": {
        "id": "e-gKqynj2hAj",
        "colab": {
          "base_uri": "https://localhost:8080/",
          "height": 573
        },
        "outputId": "0b84354e-b9d3-499d-a2da-ac3ce6fa8be9"
      },
      "outputs": [
        {
          "output_type": "display_data",
          "data": {
            "text/plain": [
              "<Figure size 432x288 with 2 Axes>"
            ],
            "image/png": "[encoded data removed]"
          },
          "metadata": {
            "needs_background": "light"
          }
        },
        {
          "output_type": "display_data",
          "data": {
            "text/plain": [
              "<Figure size 432x288 with 2 Axes>"
            ],
            "image/png": "[encoded data removed]"
          },
          "metadata": {
            "needs_background": "light"
          }
        }
      ],
      "source": [
        "Ch1 = dataset[:,0,:] # célula de carga: força do shaker\n",
        "Ch2 = dataset[:,1,:] # acelerômetro: base\n",
        "Ch3 = dataset[:,2,:] # acelerômetro: 1o andar\n",
        "Ch4 = dataset[:,3,:] # acelerômetro: 2o andar\n",
        "Ch5 = dataset[:,4,:] # acelerômetro: 3o andar\n",
        "\n",
        "Ts = 3.125 * 1e-3 # sampling time\n",
        "time = (np.linspace(1,N,N) - 1) * Ts\n",
        "\n",
        "for case in np.array([0,790]):\n",
        "    plt.figure(case)\n",
        "    plt.subplot(211)\n",
        "    plt.title('case %d, label %d' % (case, y[case]))\n",
        "    plt.plot(time,Ch1[:,case])\n",
        "    plt.ylabel('Force')\n",
        "    plt.subplot(212)\n",
        "    plt.plot(time,Ch2[:,case],time,Ch3[:,case],time,Ch4[:,case],time,Ch5[:,case])\n",
        "    plt.xlabel('Time')\n",
        "    plt.ylabel('Acceleration')\n",
        "    plt.show()"
      ]
    },
    {
      "cell_type": "code",
      "execution_count": 10,
      "metadata": {
        "id": "rLBlKrtd7Ot_",
        "colab": {
          "base_uri": "https://localhost:8080/"
        },
        "outputId": "31994bee-7795-42ca-c6f4-df8715efeb83"
      },
      "outputs": [
        {
          "output_type": "stream",
          "name": "stdout",
          "text": [
            "matrix X:  [[ 0.14656393  0.12344872 -0.42452564 ...  0.62527312  0.18531354\n",
            "  -0.08524884]\n",
            " [ 0.79236289  0.26123975 -0.52503197 ...  0.5761841   0.75775165\n",
            "  -0.38039847]\n",
            " [ 0.17113439  0.98893784  0.60084113 ... -0.10711284  0.6940215\n",
            "  -0.20874206]\n",
            " ...\n",
            " [ 0.21738063  0.40702133  0.44190305 ... -0.43805704  0.31272412\n",
            "   0.07283314]\n",
            " [-0.03923676  0.18921679  0.05709407 ... -0.40076345  0.02953589\n",
            "   0.34142521]\n",
            " [ 0.03684378 -0.30327268 -0.64940672 ... -0.17947949 -0.69738006\n",
            "   0.42497897]] \n",
            " matrix X.shape:  (32768, 850)\n"
          ]
        }
      ],
      "source": [
        "X = np.concatenate((Ch2,Ch3,Ch4,Ch5))\n",
        "\n",
        "X\n",
        "\n",
        "print( 'matrix X: ', X, '\\n matrix X.shape: ',X.shape)"
      ]
    },
    {
      "cell_type": "markdown",
      "metadata": {
        "id": "vHLeCBuLD2SG"
      },
      "source": [
        "## Feature extraction AR"
      ]
    },
    {
      "cell_type": "code",
      "execution_count": 11,
      "metadata": {
        "id": "xSuX_E4g8r6u"
      },
      "outputs": [],
      "source": [
        "FeatAR = []\n",
        "na = 29\n",
        "for i in range(0,850):\n",
        "  ARmodel2 = AutoReg(Ch2[:,i],na).fit()\n",
        "  ARmodel3 = AutoReg(Ch3[:,i],na).fit()\n",
        "  ARmodel4 = AutoReg(Ch4[:,i],na).fit()\n",
        "  ARmodel5 = AutoReg(Ch5[:,i],na).fit()\n",
        "  ARparams = np.concatenate([ARmodel2.params,ARmodel3.params, ARmodel4.params,ARmodel5.params])\n",
        "  FeatAR.append(ARparams)\n",
        "FeatAR = np.array(FeatAR)\n"
      ]
    },
    {
      "cell_type": "code",
      "execution_count": 12,
      "metadata": {
        "id": "vSWBx5Y5LUyN",
        "colab": {
          "base_uri": "https://localhost:8080/"
        },
        "outputId": "980c0d5c-d796-4603-854b-b63e2e3f42e7"
      },
      "outputs": [
        {
          "output_type": "execute_result",
          "data": {
            "text/plain": [
              "(850, 120)"
            ]
          },
          "metadata": {},
          "execution_count": 12
        }
      ],
      "source": [
        "FeatAR.shape"
      ]
    },
    {
      "cell_type": "markdown",
      "metadata": {
        "id": "qaHk1svV8t_N"
      },
      "source": [
        "## : feature extraction PCA \n"
      ]
    },
    {
      "cell_type": "code",
      "execution_count": 13,
      "metadata": {
        "id": "ufLv8LjkXVBR",
        "colab": {
          "base_uri": "https://localhost:8080/"
        },
        "outputId": "4304a4aa-a9cc-4041-d804-71eeb4fb4251"
      },
      "outputs": [
        {
          "output_type": "stream",
          "name": "stdout",
          "text": [
            "matrix X.shape:  (850, 6) \n",
            " X_PCA: [[ 7.66136505 -1.41780663  0.80665171  0.89625556 -1.19463583 -0.13840328]\n",
            " [ 6.8869037  -1.70474591  0.96095314 -0.0090899  -1.74358116 -0.49638477]\n",
            " [ 6.94763838 -1.5554447   0.94936492  0.13319058 -0.83617666 -0.46298613]\n",
            " ...\n",
            " [-5.24160818 -1.38243332  1.19297854 -2.02374849 -0.32984218  0.81221121]\n",
            " [-5.06151016 -1.37825724  1.20604602 -0.0969439   0.34497989  0.90045879]\n",
            " [-5.24563384 -1.14354112  1.67658163  0.0533145   0.28827159  0.88529276]]\n"
          ]
        }
      ],
      "source": [
        "from sklearn.decomposition import PCA\n",
        "\n",
        "pca = PCA(n_components=.95)\n",
        "X_pca = pca.fit_transform(FeatAR)\n",
        "\n",
        "print('matrix X.shape: ',X_pca.shape,'\\n X_PCA:', X_pca)"
      ]
    },
    {
      "cell_type": "code",
      "execution_count": 14,
      "metadata": {
        "id": "BrWey38AN301",
        "colab": {
          "base_uri": "https://localhost:8080/"
        },
        "outputId": "507e6948-6d16-4035-8209-3e2d9dcfc68d"
      },
      "outputs": [
        {
          "output_type": "stream",
          "name": "stdout",
          "text": [
            "[0.64699238 0.12653811 0.09021831 0.0510888  0.02622314 0.01953216] [131.93541573  58.34753064  49.26734492  37.0744467   26.56159486\n",
            "  22.92381596]\n"
          ]
        }
      ],
      "source": [
        "print(pca.explained_variance_ratio_ , pca.singular_values_)"
      ]
    },
    {
      "cell_type": "markdown",
      "metadata": {
        "id": "YxRH5I1mxeF7"
      },
      "source": [
        "## : Scale Feature"
      ]
    },
    {
      "cell_type": "code",
      "execution_count": 15,
      "metadata": {
        "id": "WDOZQnHB3OFp",
        "colab": {
          "base_uri": "https://localhost:8080/"
        },
        "outputId": "e6e59983-e106-4a8a-c716-41aa69bda2b0"
      },
      "outputs": [
        {
          "output_type": "stream",
          "name": "stdout",
          "text": [
            "Confirmando a normalização: \n",
            " X1 máximo normalizado:  1.0000000000000009 \n",
            " X1 minimo normalizado:  -1.0000000000000002 \n",
            " X2 máximo normalizado:  1.0 \n",
            " X2 minimo normalizado:  -1.0\n"
          ]
        }
      ],
      "source": [
        "from sklearn.preprocessing import MinMaxScaler\n",
        "\n",
        "# Normalizando AR\n",
        "X1_max_min = MinMaxScaler(feature_range=(-1,1))\n",
        "X1_train = X1_max_min.fit_transform(FeatAR)\n",
        "X1_train\n",
        "\n",
        "# Normalizando PCA\n",
        "X2_max_min = MinMaxScaler(feature_range=(-1,1))\n",
        "X2_train = X2_max_min.fit_transform(X_pca)\n",
        "X2_train\n",
        "\n",
        "print('Confirmando a normalização:','\\n X1 máximo normalizado: ', X1_train.max(), '\\n X1 minimo normalizado: ',X1_train.min(),'\\n X2 máximo normalizado: ', X2_train.max(), '\\n X2 minimo normalizado: ',X2_train.min())\n"
      ]
    },
    {
      "cell_type": "code",
      "execution_count": 16,
      "metadata": {
        "id": "aE9NrN3wKGH9",
        "colab": {
          "base_uri": "https://localhost:8080/",
          "height": 544
        },
        "outputId": "85cf71cc-7f59-4a5d-c240-0ef0dca35b71"
      },
      "outputs": [
        {
          "output_type": "display_data",
          "data": {
            "text/plain": [
              "<Figure size 432x288 with 1 Axes>"
            ],
            "image/png": "[encoded data removed]"
          },
          "metadata": {
            "needs_background": "light"
          }
        },
        {
          "output_type": "display_data",
          "data": {
            "text/plain": [
              "<Figure size 432x288 with 1 Axes>"
            ],
            "image/png": "[encoded data removed]"
          },
          "metadata": {
            "needs_background": "light"
          }
        }
      ],
      "source": [
        "# Plotando os resultados comparando o X1 com X2 \n",
        "\n",
        "# Dividi o problema em duas soluções:  - Não danificado em AZUL e Danificado em vermelho\n",
        "\n",
        "\n",
        "Y1 = np.array(range(0,120))\n",
        "Y2 = np.array(range(0,6))\n",
        "\n",
        "# Plot do AR\n",
        "for case in range(0,850):\n",
        "  if y_bin_damaged[0,case]==0:\n",
        "    color_name = 'blue'\n",
        "  else:\n",
        "    color_name = 'red'\n",
        "    plt.title('Modelo 1 - separado por Danificado/Não Danificado - Por AR ')\n",
        "  plt.scatter(Y1,X1_train[case,:], color = color_name)\n",
        "plt.show()\n",
        "\n",
        "# Plot do PCA\n",
        "for case in range(0,850):\n",
        "  if y_bin_damaged[0,case]==0:\n",
        "    color_name = 'blue'\n",
        "  else:\n",
        "    color_name = 'red'\n",
        "    plt.title('Modelo 1 - separado por Danificado/Não Danificado - Por PCA ')\n",
        "  plt.scatter(Y2,X2_train[case,:], color = color_name)\n",
        "plt.show()\n",
        "  "
      ]
    },
    {
      "cell_type": "markdown",
      "source": [
        "Ao plotar o modelo AR é possível observar que a grande quantidade de dados dificulas a leitura e interpretação do problema. Quando ao gráfico com PCA, a redução de variaveis facilita a interpretação dos resultados neste caso."
      ],
      "metadata": {
        "id": "LtR-1NNyoaos"
      }
    },
    {
      "cell_type": "markdown",
      "source": [
        "## : SOFTMAX"
      ],
      "metadata": {
        "id": "eUkY12rhoZe1"
      }
    },
    {
      "cell_type": "code",
      "execution_count": 17,
      "metadata": {
        "id": "wdhebdtmh5n4",
        "colab": {
          "base_uri": "https://localhost:8080/"
        },
        "outputId": "5a6dfa27-c66b-4437-948a-7e0263a3e4aa"
      },
      "outputs": [
        {
          "output_type": "stream",
          "name": "stdout",
          "text": [
            "score_1 0.9988235294117647 \n",
            " score_2 0.908235294117647\n"
          ]
        }
      ],
      "source": [
        "from sklearn.linear_model import LogisticRegression\n",
        "\n",
        "softmax1 = LogisticRegression(random_state=0,max_iter= 2000).fit(X1_train,y)\n",
        "softmax2 = LogisticRegression(random_state=0,max_iter= 2000).fit(X2_train,y)\n",
        "\n",
        "\n",
        "predict_1 = softmax1.predict(X1_train)\n",
        "proba_1 = softmax1.predict_proba(X1_train)\n",
        "score_1 = softmax1.score(X1_train,y)                           \n",
        "\n",
        "predict_2 = softmax2.predict(X2_train)\n",
        "proba_2 = softmax2.predict_proba(X2_train)\n",
        "score_2 = softmax2.score(X2_train,y)  \n",
        "\n",
        "print('score_1', score_1,'\\n score_2', score_2)"
      ]
    },
    {
      "cell_type": "markdown",
      "source": [
        "## : SVC"
      ],
      "metadata": {
        "id": "ZKTBR95PAn-G"
      }
    },
    {
      "cell_type": "code",
      "source": [
        "from sklearn import svm\n",
        "\n",
        "svc_linear_1 = svm.SVC(C=1.0, kernel='linear').fit(X1_train,y)\n",
        "svc_poly_1 = svm.SVC(C=1.0, kernel='poly').fit(X1_train,y)\n",
        "svc_rbf_1 = svm.SVC(C=1.0, kernel='rbf').fit(X1_train,y)\n",
        "svc_sig_1 = svm.SVC(C=1.0, kernel='sigmoid').fit(X1_train,y)\n",
        "\n",
        "linear_1_predict = svc_linear_1.predict(X1_train)\n",
        "poly_1_predict = svc_poly_1.predict(X1_train)\n",
        "rbf_1_predict = svc_rbf_1.predict(X1_train)\n",
        "sig_1_predict = svc_sig_1.predict(X1_train)\n",
        "\n",
        "svc_linear_2 = svm.SVC(C=1.0, kernel='linear').fit(X2_train,y)\n",
        "svc_poly_2 = svm.SVC(C=1.0, kernel='poly').fit(X2_train,y)\n",
        "svc_rbf_2 = svm.SVC(C=1.0, kernel='rbf').fit(X2_train,y)\n",
        "svc_sig_2 = svm.SVC(C=1.0, kernel='sigmoid').fit(X2_train,y)\n",
        "\n",
        "linear_2_predict = svc_linear_2.predict(X2_train)\n",
        "poly_2_predict = svc_poly_2.predict(X2_train)\n",
        "rbf_2_predict = svc_rbf_2.predict(X2_train)\n",
        "sig_2_predict = svc_sig_2.predict(X2_train)\n",
        "\n",
        "\n",
        "# AR\n",
        "svm_linear_1 = svc_linear_1.score(X1_train,y)\n",
        "svm_ploy_1 = svc_poly_1.score(X1_train,y) \n",
        "svm_rbf_1 = svc_rbf_1.score(X1_train,y) \n",
        "svm_sig_1 = svc_sig_1.score(X1_train,y)\n",
        "\n",
        "#PCA\n",
        "svm_linear_2 = svc_linear_2.score(X2_train,y)\n",
        "svm_poly_2 = svc_poly_2.score(X2_train,y) \n",
        "svm_rbf_2 = svc_rbf_2.score(X2_train,y) \n",
        "svm_sig_2 = svc_sig_2.score(X2_train,y) \n",
        "\n",
        "print('svm_linear_1', svm_linear_1, '\\n svm_ploy_1', svm_ploy_1, '\\n svm_rbf_1', svm_rbf_1, '\\n svm_sig_1', svm_sig_1)\n",
        "print('\\n svm_linear_2', svm_linear_2, '\\n svm_poly_2', svm_poly_2, '\\n svm_rbf_2', svm_rbf_2, '\\n svm_sig_2', svm_sig_2)"
      ],
      "metadata": {
        "id": "lOu6RCTwAqLb",
        "colab": {
          "base_uri": "https://localhost:8080/"
        },
        "outputId": "04f82199-8efa-4612-b215-7e46d4faed65"
      },
      "execution_count": 18,
      "outputs": [
        {
          "output_type": "stream",
          "name": "stdout",
          "text": [
            "svm_linear_1 1.0 \n",
            " svm_ploy_1 0.9988235294117647 \n",
            " svm_rbf_1 0.9976470588235294 \n",
            " svm_sig_1 0.9847058823529412\n",
            "\n",
            " svm_linear_2 0.9364705882352942 \n",
            " svm_poly_2 0.9341176470588235 \n",
            " svm_rbf_2 0.9364705882352942 \n",
            " svm_sig_2 0.8505882352941176\n"
          ]
        }
      ]
    },
    {
      "cell_type": "markdown",
      "source": [
        "## : kNN"
      ],
      "metadata": {
        "id": "AtykIan22OeT"
      }
    },
    {
      "cell_type": "code",
      "source": [
        "from sklearn.neighbors import KNeighborsClassifier\n",
        "\n",
        "#AR\n",
        "knn_5_1 = KNeighborsClassifier(n_neighbors=5).fit(X1_train,y)\n",
        "knn_10_1 = KNeighborsClassifier(n_neighbors=10).fit(X1_train,y)\n",
        "knn_15_1 = KNeighborsClassifier(n_neighbors=15).fit(X1_train,y)\n",
        "knn_20_1 = KNeighborsClassifier(n_neighbors=20).fit(X1_train,y)\n",
        "\n",
        "knn_5_ar = knn_5_1.score(X1_train,y)\n",
        "knn_10_ar = knn_10_1.score(X1_train,y) \n",
        "knn_15_ar = knn_15_1.score(X1_train,y) \n",
        "knn_20_ar = knn_20_1.score(X1_train,y)\n",
        "\n",
        "\n",
        "#PCA\n",
        "knn_5_2 = KNeighborsClassifier(n_neighbors=5).fit(X2_train,y)\n",
        "knn_10_2 = KNeighborsClassifier(n_neighbors=10).fit(X2_train,y)\n",
        "knn_15_2 = KNeighborsClassifier(n_neighbors=15).fit(X2_train,y)\n",
        "knn_20_2 = KNeighborsClassifier(n_neighbors=20).fit(X2_train,y)\n",
        "\n",
        "knn_5_pca = knn_5_2.score(X2_train,y)\n",
        "knn_10_pca = knn_10_2.score(X2_train,y) \n",
        "knn_15_pca = knn_15_2.score(X2_train,y) \n",
        "knn_20_pca = knn_20_2.score(X2_train,y)\n",
        "\n",
        "print(' knn_5_ar', knn_5_ar, '\\n knn_10_ar', knn_10_ar, '\\n knn_15_ar', knn_15_ar, '\\n knn_20_ar', knn_20_ar)\n",
        "print('\\n knn_5_pca', knn_5_pca, '\\n knn_10_pca', knn_10_pca, '\\n knn_15_pca', knn_15_pca, '\\n knn_20_pca', knn_20_pca)"
      ],
      "metadata": {
        "colab": {
          "base_uri": "https://localhost:8080/"
        },
        "id": "uVcZx5ds2Q5m",
        "outputId": "5939e244-d95c-42f2-b480-25a1b18a761d"
      },
      "execution_count": 19,
      "outputs": [
        {
          "output_type": "stream",
          "name": "stdout",
          "text": [
            " knn_5_ar 0.9941176470588236 \n",
            " knn_10_ar 0.9894117647058823 \n",
            " knn_15_ar 0.9870588235294118 \n",
            " knn_20_ar 0.9870588235294118\n",
            "\n",
            " knn_5_pca 0.9376470588235294 \n",
            " knn_10_pca 0.9376470588235294 \n",
            " knn_15_pca 0.9294117647058824 \n",
            " knn_20_pca 0.9235294117647059\n"
          ]
        }
      ]
    },
    {
      "cell_type": "markdown",
      "source": [
        "Observa-se em todos os casos que o modelos treinados com o banco de dados gerado pelo AR são maiores quando comparado com o dados do PCA. O que é coerente, pois este tem um banco de dados maior. \n",
        "\n",
        "Comparando os modelos, para os dados do AR, tem-se o melhor resultado para SVM linear que tem uma aceitação de 100%. para os dados PCA o melhor modelo é o kNN com 5 e 10 interações."
      ],
      "metadata": {
        "id": "amCAne16punT"
      }
    }
  ],
  "metadata": {
    "colab": {
      "collapsed_sections": [],
      "name": "HIML_Isabel_TakeHome3.ipynb",
      "provenance": [],
      "include_colab_link": true
    },
    "interpreter": {
      "hash": "ac59ebe37160ed0dfa835113d9b8498d9f09ceb179beaac4002f036b9467c963"
    },
    "kernelspec": {
      "display_name": "Python 3.9.11 64-bit",
      "language": "python",
      "name": "python3"
    },
    "language_info": {
      "codemirror_mode": {
        "name": "ipython",
        "version": 3
      },
      "file_extension": ".py",
      "mimetype": "text/x-python",
      "name": "python",
      "nbconvert_exporter": "python",
      "pygments_lexer": "ipython3",
      "version": "3.9.11"
    }
  },
  "nbformat": 4,
  "nbformat_minor": 0
}