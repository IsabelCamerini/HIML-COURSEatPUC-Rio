{
 "cells": [
  {
   "cell_type": "markdown",
   "metadata": {
    "id": "NZZDmZGC4Zam"
   },
   "source": [
    "## :  Import Data"
   ]
  },
  {
   "cell_type": "code",
   "execution_count": 1,
   "metadata": {
    "id": "Ru-HAQce3LPe"
   },
   "outputs": [],
   "source": [
    "import numpy as np\n",
    "import matplotlib \n",
    "import scipy\n",
    "import sklearn\n",
    "import statsmodels\n",
    "import seaborn\n",
    "import pydot\n",
    "from sklearn.preprocessing import StandardScaler\n",
    "\n",
    "from statsmodels.tsa.ar_model import AutoReg \n",
    "\n",
    "from sklearn.linear_model import LogisticRegression\n",
    "from sklearn import svm\n",
    "from sklearn.neighbors import KNeighborsClassifier\n",
    "\n",
    "\n",
    "from scipy import stats\n",
    "from scipy.stats.stats import mode\n",
    "from scipy.stats import uniform\n",
    "from sklearn.model_selection import (train_test_split, RepeatedKFold,RandomizedSearchCV)\n",
    "\n",
    "from sklearn.linear_model import Ridge\n",
    "\n",
    "from sklearn.svm import SVR\n",
    "from sklearn.svm import SVC\n",
    "\n",
    "from sklearn.neighbors import KNeighborsRegressor\n",
    "from sklearn.pipeline import Pipeline\n",
    "\n",
    "from sklearn.tree import DecisionTreeRegressor\n",
    "\n",
    "from sklearn.ensemble import RandomForestClassifier\n",
    "from sklearn.datasets import make_classification\n",
    "from sklearn.ensemble import RandomForestRegressor\n",
    "from sklearn.datasets import make_regression\n",
    "\n",
    "import pickle\n",
    "\n",
    "\n",
    "from sklearn.cluster import KMeans\n",
    "from sklearn.model_selection import train_test_split\n",
    "import pandas as pd\n",
    "import plotly.express as px\n",
    "\n",
    "from sklearn.manifold import TSNE\n",
    "\n",
    "from sklearn.datasets import make_classification\n",
    "from sklearn.model_selection import train_test_split\n",
    "from sklearn.metrics import f1_score\n",
    "from sklearn.svm import OneClassSVM\n",
    "\n",
    "\n",
    "from os import listdir\n",
    "from os.path import isfile, join"
   ]
  },
  {
   "cell_type": "code",
   "execution_count": 2,
   "metadata": {
    "id": "msOwr0Dx2hAh"
   },
   "outputs": [],
   "source": [
    "import scipy.io as sio\n",
    "import numpy as np\n",
    "from os import getcwd\n",
    "from os.path import join \n",
    "import matplotlib.pyplot as plt"
   ]
  },
  {
   "cell_type": "markdown",
   "metadata": {
    "id": "lk4aof4BAjNG"
   },
   "source": [
    "## : Início do processamento"
   ]
  },
  {
   "cell_type": "code",
   "execution_count": 3,
   "metadata": {
    "colab": {
     "base_uri": "https://localhost:8080/"
    },
    "id": "gHT7bo3s2hAi",
    "outputId": "15f2ae6d-68aa-4115-9741-057ebaa5fe86"
   },
   "outputs": [
    {
     "name": "stdout",
     "output_type": "stream",
     "text": [
      "(130, 19500) [[-1.78150000e-03 -4.29500000e-04  6.71406150e-05 ...  3.59000000e-04\n",
      "   1.89500000e-04  5.09000000e-04]\n",
      " [-5.78500000e-04  2.38500000e-04 -2.22500000e-04 ... -4.12618910e-04\n",
      "  -8.59000000e-04 -4.47646360e-04]\n",
      " [-3.23500000e-04 -1.67500000e-04 -6.26500000e-04 ... -1.09000000e-04\n",
      "   9.60000000e-05  8.65000000e-04]\n",
      " ...\n",
      " [ 1.31500000e-04 -3.63500000e-04  4.43000000e-04 ...  2.93650000e-03\n",
      "  -3.99550000e-03 -7.26700000e-03]\n",
      " [-3.49020235e-04  1.40000000e-04  1.16500000e-04 ... -4.43900000e-03\n",
      "  -9.55100000e-03 -5.01650000e-03]\n",
      " [ 5.15000000e-04  7.81500000e-04 -1.95000000e-04 ...  3.61300000e-03\n",
      "   1.20700000e-02  1.00765000e-02]]\n"
     ]
    }
   ],
   "source": [
    "input_files = [f for f in listdir('data/') if isfile(join('data/',f))\n",
    "               and f.endswith('h2.csv') # to change Hidrophone, chande de h + number of hidrphone\n",
    "               and 'sur_pos' not in f \n",
    "               and 'time' not in f]\n",
    "input_files\n",
    "\n",
    "# time = [f for f in listdir('data/') if isfile(join('data/',f))\n",
    "#                and f.endswith('time.csv') ] \n",
    "\n",
    "data = np.zeros((len(input_files),19500))\n",
    "label = pd.read_csv(r'data/y.csv') \n",
    "\n",
    "# time = pd.read_csv(r'data/sinc50kHz_casing_9_CE_samp_1_time.csv')\n",
    "i = 0\n",
    "\n",
    "for name in input_files:\n",
    "    aux = np.genfromtxt('data/'+name, delimiter=',', skip_header = 1)\n",
    "    aux = aux.transpose()\n",
    "    x  = aux.reshape((1,-1))\n",
    "    data[i,:] = x\n",
    "\n",
    "    \n",
    "    i = i+1\n",
    "\n",
    "print(data.shape, data)"
   ]
  },
  {
   "cell_type": "code",
   "execution_count": 4,
   "metadata": {
    "colab": {
     "base_uri": "https://localhost:8080/"
    },
    "id": "32eH_sH1vi0G",
    "outputId": "83620bf9-d3cf-4a9a-ef05-205ab4373066"
   },
   "outputs": [
    {
     "data": {
      "text/plain": [
       "['sinc50kHz_casing_9_CE-E1_samp_10_h2.csv',\n",
       " 'sinc50kHz_casing_9_CE-E1_samp_1_h2.csv',\n",
       " 'sinc50kHz_casing_9_CE-E1_samp_2_h2.csv',\n",
       " 'sinc50kHz_casing_9_CE-E1_samp_3_h2.csv',\n",
       " 'sinc50kHz_casing_9_CE-E1_samp_4_h2.csv',\n",
       " 'sinc50kHz_casing_9_CE-E1_samp_5_h2.csv',\n",
       " 'sinc50kHz_casing_9_CE-E1_samp_6_h2.csv',\n",
       " 'sinc50kHz_casing_9_CE-E1_samp_7_h2.csv',\n",
       " 'sinc50kHz_casing_9_CE-E1_samp_8_h2.csv',\n",
       " 'sinc50kHz_casing_9_CE-E1_samp_9_h2.csv',\n",
       " 'sinc50kHz_casing_9_CE-E2_samp_10_h2.csv',\n",
       " 'sinc50kHz_casing_9_CE-E2_samp_1_h2.csv',\n",
       " 'sinc50kHz_casing_9_CE-E2_samp_2_h2.csv',\n",
       " 'sinc50kHz_casing_9_CE-E2_samp_3_h2.csv',\n",
       " 'sinc50kHz_casing_9_CE-E2_samp_4_h2.csv',\n",
       " 'sinc50kHz_casing_9_CE-E2_samp_5_h2.csv',\n",
       " 'sinc50kHz_casing_9_CE-E2_samp_6_h2.csv',\n",
       " 'sinc50kHz_casing_9_CE-E2_samp_7_h2.csv',\n",
       " 'sinc50kHz_casing_9_CE-E2_samp_8_h2.csv',\n",
       " 'sinc50kHz_casing_9_CE-E2_samp_9_h2.csv',\n",
       " 'sinc50kHz_casing_9_CE_samp_10_h2.csv',\n",
       " 'sinc50kHz_casing_9_CE_samp_11_h2.csv',\n",
       " 'sinc50kHz_casing_9_CE_samp_12_h2.csv',\n",
       " 'sinc50kHz_casing_9_CE_samp_13_h2.csv',\n",
       " 'sinc50kHz_casing_9_CE_samp_14_h2.csv',\n",
       " 'sinc50kHz_casing_9_CE_samp_15_h2.csv',\n",
       " 'sinc50kHz_casing_9_CE_samp_16_h2.csv',\n",
       " 'sinc50kHz_casing_9_CE_samp_17_h2.csv',\n",
       " 'sinc50kHz_casing_9_CE_samp_18_h2.csv',\n",
       " 'sinc50kHz_casing_9_CE_samp_19_h2.csv',\n",
       " 'sinc50kHz_casing_9_CE_samp_1_h2.csv',\n",
       " 'sinc50kHz_casing_9_CE_samp_20_h2.csv',\n",
       " 'sinc50kHz_casing_9_CE_samp_2_h2.csv',\n",
       " 'sinc50kHz_casing_9_CE_samp_3_h2.csv',\n",
       " 'sinc50kHz_casing_9_CE_samp_4_h2.csv',\n",
       " 'sinc50kHz_casing_9_CE_samp_5_h2.csv',\n",
       " 'sinc50kHz_casing_9_CE_samp_6_h2.csv',\n",
       " 'sinc50kHz_casing_9_CE_samp_7_h2.csv',\n",
       " 'sinc50kHz_casing_9_CE_samp_8_h2.csv',\n",
       " 'sinc50kHz_casing_9_CE_samp_9_h2.csv',\n",
       " 'sinc50kHz_casing_9_CH-E1_samp_10_h2.csv',\n",
       " 'sinc50kHz_casing_9_CH-E1_samp_1_h2.csv',\n",
       " 'sinc50kHz_casing_9_CH-E1_samp_2_h2.csv',\n",
       " 'sinc50kHz_casing_9_CH-E1_samp_3_h2.csv',\n",
       " 'sinc50kHz_casing_9_CH-E1_samp_4_h2.csv',\n",
       " 'sinc50kHz_casing_9_CH-E1_samp_5_h2.csv',\n",
       " 'sinc50kHz_casing_9_CH-E1_samp_6_h2.csv',\n",
       " 'sinc50kHz_casing_9_CH-E1_samp_7_h2.csv',\n",
       " 'sinc50kHz_casing_9_CH-E1_samp_8_h2.csv',\n",
       " 'sinc50kHz_casing_9_CH-E1_samp_9_h2.csv',\n",
       " 'sinc50kHz_casing_9_CH-E2_samp_10_h2.csv',\n",
       " 'sinc50kHz_casing_9_CH-E2_samp_1_h2.csv',\n",
       " 'sinc50kHz_casing_9_CH-E2_samp_2_h2.csv',\n",
       " 'sinc50kHz_casing_9_CH-E2_samp_3_h2.csv',\n",
       " 'sinc50kHz_casing_9_CH-E2_samp_4_h2.csv',\n",
       " 'sinc50kHz_casing_9_CH-E2_samp_5_h2.csv',\n",
       " 'sinc50kHz_casing_9_CH-E2_samp_6_h2.csv',\n",
       " 'sinc50kHz_casing_9_CH-E2_samp_7_h2.csv',\n",
       " 'sinc50kHz_casing_9_CH-E2_samp_8_h2.csv',\n",
       " 'sinc50kHz_casing_9_CH-E2_samp_9_h2.csv',\n",
       " 'sinc50kHz_casing_9_CH-NE_samp_10_h2.csv',\n",
       " 'sinc50kHz_casing_9_CH-NE_samp_1_h2.csv',\n",
       " 'sinc50kHz_casing_9_CH-NE_samp_2_h2.csv',\n",
       " 'sinc50kHz_casing_9_CH-NE_samp_3_h2.csv',\n",
       " 'sinc50kHz_casing_9_CH-NE_samp_4_h2.csv',\n",
       " 'sinc50kHz_casing_9_CH-NE_samp_5_h2.csv',\n",
       " 'sinc50kHz_casing_9_CH-NE_samp_6_h2.csv',\n",
       " 'sinc50kHz_casing_9_CH-NE_samp_7_h2.csv',\n",
       " 'sinc50kHz_casing_9_CH-NE_samp_8_h2.csv',\n",
       " 'sinc50kHz_casing_9_CH-NE_samp_9_h2.csv',\n",
       " 'sinc50kHz_casing_9_CL-E1_samp_10_h2.csv',\n",
       " 'sinc50kHz_casing_9_CL-E1_samp_1_h2.csv',\n",
       " 'sinc50kHz_casing_9_CL-E1_samp_2_h2.csv',\n",
       " 'sinc50kHz_casing_9_CL-E1_samp_3_h2.csv',\n",
       " 'sinc50kHz_casing_9_CL-E1_samp_4_h2.csv',\n",
       " 'sinc50kHz_casing_9_CL-E1_samp_5_h2.csv',\n",
       " 'sinc50kHz_casing_9_CL-E1_samp_6_h2.csv',\n",
       " 'sinc50kHz_casing_9_CL-E1_samp_7_h2.csv',\n",
       " 'sinc50kHz_casing_9_CL-E1_samp_8_h2.csv',\n",
       " 'sinc50kHz_casing_9_CL-E1_samp_9_h2.csv',\n",
       " 'sinc50kHz_casing_9_CL-E2_samp_10_h2.csv',\n",
       " 'sinc50kHz_casing_9_CL-E2_samp_1_h2.csv',\n",
       " 'sinc50kHz_casing_9_CL-E2_samp_2_h2.csv',\n",
       " 'sinc50kHz_casing_9_CL-E2_samp_3_h2.csv',\n",
       " 'sinc50kHz_casing_9_CL-E2_samp_4_h2.csv',\n",
       " 'sinc50kHz_casing_9_CL-E2_samp_5_h2.csv',\n",
       " 'sinc50kHz_casing_9_CL-E2_samp_6_h2.csv',\n",
       " 'sinc50kHz_casing_9_CL-E2_samp_7_h2.csv',\n",
       " 'sinc50kHz_casing_9_CL-E2_samp_8_h2.csv',\n",
       " 'sinc50kHz_casing_9_CL-E2_samp_9_h2.csv',\n",
       " 'sinc50kHz_casing_9_CL-NE_samp_10_h2.csv',\n",
       " 'sinc50kHz_casing_9_CL-NE_samp_1_h2.csv',\n",
       " 'sinc50kHz_casing_9_CL-NE_samp_2_h2.csv',\n",
       " 'sinc50kHz_casing_9_CL-NE_samp_3_h2.csv',\n",
       " 'sinc50kHz_casing_9_CL-NE_samp_4_h2.csv',\n",
       " 'sinc50kHz_casing_9_CL-NE_samp_5_h2.csv',\n",
       " 'sinc50kHz_casing_9_CL-NE_samp_6_h2.csv',\n",
       " 'sinc50kHz_casing_9_CL-NE_samp_7_h2.csv',\n",
       " 'sinc50kHz_casing_9_CL-NE_samp_8_h2.csv',\n",
       " 'sinc50kHz_casing_9_CL-NE_samp_9_h2.csv',\n",
       " 'sinc50kHz_casing_9_E1_samp_10_h2.csv',\n",
       " 'sinc50kHz_casing_9_E1_samp_1_h2.csv',\n",
       " 'sinc50kHz_casing_9_E1_samp_2_h2.csv',\n",
       " 'sinc50kHz_casing_9_E1_samp_3_h2.csv',\n",
       " 'sinc50kHz_casing_9_E1_samp_4_h2.csv',\n",
       " 'sinc50kHz_casing_9_E1_samp_5_h2.csv',\n",
       " 'sinc50kHz_casing_9_E1_samp_6_h2.csv',\n",
       " 'sinc50kHz_casing_9_E1_samp_7_h2.csv',\n",
       " 'sinc50kHz_casing_9_E1_samp_8_h2.csv',\n",
       " 'sinc50kHz_casing_9_E1_samp_9_h2.csv',\n",
       " 'sinc50kHz_casing_9_E2_samp_10_h2.csv',\n",
       " 'sinc50kHz_casing_9_E2_samp_1_h2.csv',\n",
       " 'sinc50kHz_casing_9_E2_samp_2_h2.csv',\n",
       " 'sinc50kHz_casing_9_E2_samp_3_h2.csv',\n",
       " 'sinc50kHz_casing_9_E2_samp_4_h2.csv',\n",
       " 'sinc50kHz_casing_9_E2_samp_5_h2.csv',\n",
       " 'sinc50kHz_casing_9_E2_samp_6_h2.csv',\n",
       " 'sinc50kHz_casing_9_E2_samp_7_h2.csv',\n",
       " 'sinc50kHz_casing_9_E2_samp_8_h2.csv',\n",
       " 'sinc50kHz_casing_9_E2_samp_9_h2.csv',\n",
       " 'sinc50kHz_casing_9_NE_samp_10_h2.csv',\n",
       " 'sinc50kHz_casing_9_NE_samp_1_h2.csv',\n",
       " 'sinc50kHz_casing_9_NE_samp_2_h2.csv',\n",
       " 'sinc50kHz_casing_9_NE_samp_3_h2.csv',\n",
       " 'sinc50kHz_casing_9_NE_samp_4_h2.csv',\n",
       " 'sinc50kHz_casing_9_NE_samp_5_h2.csv',\n",
       " 'sinc50kHz_casing_9_NE_samp_6_h2.csv',\n",
       " 'sinc50kHz_casing_9_NE_samp_7_h2.csv',\n",
       " 'sinc50kHz_casing_9_NE_samp_8_h2.csv',\n",
       " 'sinc50kHz_casing_9_NE_samp_9_h2.csv']"
      ]
     },
     "execution_count": 4,
     "metadata": {},
     "output_type": "execute_result"
    }
   ],
   "source": [
    "input_files"
   ]
  },
  {
   "cell_type": "code",
   "execution_count": 5,
   "metadata": {
    "colab": {
     "base_uri": "https://localhost:8080/",
     "height": 573
    },
    "id": "e-gKqynj2hAj",
    "outputId": "2c28d37e-c9b0-4853-a6fa-bb1a7c8b3454"
   },
   "outputs": [
    {
     "data": {
      "image/png": "[encoded data removed]",
      "text/plain": [
       "<Figure size 432x288 with 1 Axes>"
      ]
     },
     "metadata": {
      "needs_background": "light"
     },
     "output_type": "display_data"
    }
   ],
   "source": [
    "Ch1 = data[1,:].reshape((13,-1))\n",
    "\n",
    "Ts = 3.125 * 1e-3 # sampling time\n",
    "# time = pd.read_csv(r'data/sinc50kHz_casing_9_CE_samp_1_time.csv')\n",
    "time = pd.read_csv(r'data/sinc50kHz_casing_9_CE_samp_1_time.csv') #* Ts\n",
    "pos = pd.read_csv(r'data/sinc50kHz_casing_9_CE_samp_1_sur_pos.csv')\n",
    "\n",
    "fig, ax = plt.subplots()\n",
    "\n",
    "for case in range(0,13):\n",
    "    ax.plot(time.values,Ch1[case,:] + pos.values[case][0], 'k')\n",
    "\n",
    "plt.savefig('plot_test.png', dpi=400, format='png')\n",
    "\n",
    "\n",
    "# for case in np.array([0,790]):\n",
    "#     plt.figure(case)\n",
    "#     plt.subplot(211)\n",
    "#     plt.title('case %d, label %d' % (case, y[case]))\n",
    "#     plt.plot(time,Ch1[:,case])\n",
    "#     plt.ylabel('Force')\n",
    "#     plt.subplot(212)\n",
    "#     plt.plot(time,Ch2[:,case],time,Ch3[:,case],time,Ch4[:,case],time,Ch5[:,case])\n",
    "#     plt.xlabel('Time')\n",
    "#     plt.ylabel('Acceleration')\n",
    "#     plt.show()"
   ]
  },
  {
   "cell_type": "code",
   "execution_count": 6,
   "metadata": {},
   "outputs": [
    {
     "data": {
      "text/plain": [
       "array([[0.000e+00],\n",
       "       [4.000e-06],\n",
       "       [8.000e-06],\n",
       "       ...,\n",
       "       [5.988e-03],\n",
       "       [5.992e-03],\n",
       "       [5.996e-03]])"
      ]
     },
     "execution_count": 6,
     "metadata": {},
     "output_type": "execute_result"
    }
   ],
   "source": [
    "time.values"
   ]
  },
  {
   "cell_type": "code",
   "execution_count": 7,
   "metadata": {},
   "outputs": [
    {
     "data": {
      "text/plain": [
       "array([[-5.7850000e-04,  2.3850000e-04, -2.2250000e-04, ...,\n",
       "         1.6350000e-04,  9.1900000e-04,  5.1100000e-04],\n",
       "       [-6.2000000e-05,  9.5500000e-05, -6.9964315e-05, ...,\n",
       "         1.1930000e-03,  1.9940000e-03,  7.2250000e-04],\n",
       "       [ 2.9227246e-04, -3.5500000e-05, -4.7300000e-04, ...,\n",
       "        -7.4300000e-04, -8.3850000e-04, -2.9876192e-04],\n",
       "       ...,\n",
       "       [-1.4950000e-04, -4.5900000e-04,  3.4250000e-04, ...,\n",
       "        -8.0000000e-06,  7.7050000e-04,  5.2018440e-05],\n",
       "       [ 9.0000000e-05, -9.0000000e-05,  2.1250000e-04, ...,\n",
       "        -2.2450000e-04, -9.1950000e-04, -8.5550000e-04],\n",
       "       [-1.9050000e-04, -1.5000000e-06,  1.8529577e-04, ...,\n",
       "        -4.1261891e-04, -8.5900000e-04, -4.4764636e-04]])"
      ]
     },
     "execution_count": 7,
     "metadata": {},
     "output_type": "execute_result"
    }
   ],
   "source": [
    "Ch1"
   ]
  },
  {
   "cell_type": "markdown",
   "metadata": {
    "id": "qaHk1svV8t_N"
   },
   "source": [
    "## : feature extraction PCA \n"
   ]
  },
  {
   "cell_type": "code",
   "execution_count": 8,
   "metadata": {
    "colab": {
     "base_uri": "https://localhost:8080/"
    },
    "id": "ufLv8LjkXVBR",
    "outputId": "2b0f52ca-3fbf-41ea-8a5a-4437b8b0cd93"
   },
   "outputs": [
    {
     "name": "stdout",
     "output_type": "stream",
     "text": [
      "matrix X.shape:  (130, 29) \n",
      " X_PCA: [[-0.38681421 -0.26186959 -0.30030816 ...  0.06200051  0.08777963\n",
      "   0.05735348]\n",
      " [ 0.33161885  0.07850756 -0.36637792 ... -0.04918447 -0.06194632\n",
      "  -0.1015151 ]\n",
      " [-0.18840814 -0.12674486 -0.16353836 ...  0.21731099 -0.05342635\n",
      "  -0.20863634]\n",
      " ...\n",
      " [-0.22524856 -1.69045903  0.16656301 ...  0.00794452  0.07148432\n",
      "  -0.05003675]\n",
      " [-0.20028812 -1.6016784   0.24805238 ...  0.219046   -0.36124246\n",
      "   0.318735  ]\n",
      " [-0.59172438 -1.19999485 -0.34580985 ... -0.25929762  0.33365249\n",
      "  -0.35025086]]\n"
     ]
    }
   ],
   "source": [
    "from sklearn.decomposition import PCA\n",
    "\n",
    "pca = PCA(n_components=.95)\n",
    "X_pca = pca.fit_transform(data)\n",
    "\n",
    "print('matrix X.shape: ',X_pca.shape,'\\n X_PCA:', X_pca)"
   ]
  },
  {
   "cell_type": "code",
   "execution_count": 9,
   "metadata": {
    "colab": {
     "base_uri": "https://localhost:8080/"
    },
    "id": "BrWey38AN301",
    "outputId": "c7d184a9-75b0-4213-94ec-4a79ce75739b"
   },
   "outputs": [
    {
     "name": "stdout",
     "output_type": "stream",
     "text": [
      "[0.28797957 0.11772908 0.10635468 0.08685454 0.04754849 0.03879924\n",
      " 0.03194181 0.02971554 0.0276225  0.02000241 0.01846119 0.0166423\n",
      " 0.01509645 0.01357587 0.01225009 0.01052555 0.00937789 0.00879208\n",
      " 0.0074729  0.00694817 0.00632212 0.00522983 0.00475988 0.00451877\n",
      " 0.00421178 0.00410908 0.00369224 0.00323622 0.00298987] [16.71313238 10.68609169 10.15676301  9.17853283  6.79118229  6.1346333\n",
      "  5.56617438  5.36869614  5.17616952  4.40471846  4.23162179  4.01775691\n",
      "  3.82661171  3.62878137  3.4470424   3.19520981  3.01598746  2.92026867\n",
      "  2.6922892   2.59604461  2.47632853  2.2522724   2.14869699  2.09356832\n",
      "  2.02120234  1.99640729  1.89243987  1.77172398  1.70295594]\n"
     ]
    }
   ],
   "source": [
    "print(pca.explained_variance_ratio_ , pca.singular_values_)"
   ]
  },
  {
   "cell_type": "markdown",
   "metadata": {
    "id": "YxRH5I1mxeF7"
   },
   "source": [
    "## : Scale Feature"
   ]
  },
  {
   "cell_type": "code",
   "execution_count": 10,
   "metadata": {
    "colab": {
     "base_uri": "https://localhost:8080/"
    },
    "id": "WDOZQnHB3OFp",
    "outputId": "9f067fe0-4e2f-46d8-e6a3-0b1f436a16d0"
   },
   "outputs": [
    {
     "name": "stdout",
     "output_type": "stream",
     "text": [
      "Confirmando a normalização: \n",
      " X1 máximo normalizado:  1.0000000000000004 \n",
      " X1 minimo normalizado:  -1.0\n"
     ]
    }
   ],
   "source": [
    "from sklearn.preprocessing import MinMaxScaler\n",
    "\n",
    "# Normalizando PCA\n",
    "X1_max_min = MinMaxScaler(feature_range=(-1,1))\n",
    "X1_train = X1_max_min.fit_transform(X_pca)\n",
    "X1_train\n",
    "\n",
    "print('Confirmando a normalização:','\\n X1 máximo normalizado: ', X1_train.max(), '\\n X1 minimo normalizado: ',X1_train.min())\n"
   ]
  }
 ],
 "metadata": {
  "colab": {
   "collapsed_sections": [
    "vHLeCBuLD2SG",
    "qaHk1svV8t_N"
   ],
   "name": "HIML_Isabel_TakeHome4.ipynb",
   "provenance": []
  },
  "interpreter": {
   "hash": "ac59ebe37160ed0dfa835113d9b8498d9f09ceb179beaac4002f036b9467c963"
  },
  "kernelspec": {
   "display_name": "Python 3 (ipykernel)",
   "language": "python",
   "name": "python3"
  },
  "language_info": {
   "codemirror_mode": {
    "name": "ipython",
    "version": 3
   },
   "file_extension": ".py",
   "mimetype": "text/x-python",
   "name": "python",
   "nbconvert_exporter": "python",
   "pygments_lexer": "ipython3",
   "version": "3.9.12"
  }
 },
 "nbformat": 4,
 "nbformat_minor": 1
}
