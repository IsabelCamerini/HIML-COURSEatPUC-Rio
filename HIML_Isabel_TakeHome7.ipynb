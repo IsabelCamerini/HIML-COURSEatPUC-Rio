{
  "cells": [
    {
      "cell_type": "markdown",
      "metadata": {
        "id": "NZZDmZGC4Zam"
      },
      "source": [
        "## :  Previous Script Available"
      ]
    },
    {
      "cell_type": "code",
      "source": [
        "# execute this for the 1st time\n",
        "# !pip install -r example-requirements.txt \n",
        "\n",
        "# download file \n",
        "!wget http://helon.usuarios.rdc.puc-rio.br/data/data3SS2009.mat # linux\n",
        "\n",
        "# and place in folder data/"
      ],
      "metadata": {
        "colab": {
          "base_uri": "https://localhost:8080/"
        },
        "id": "24Q5IHa3phJb",
        "outputId": "7c479933-b75f-4373-924f-bb523dc0e949"
      },
      "execution_count": 1,
      "outputs": [
        {
          "output_type": "stream",
          "name": "stdout",
          "text": [
            "--2022-05-30 11:28:49--  http://helon.usuarios.rdc.puc-rio.br/data/data3SS2009.mat\n",
            "Resolving helon.usuarios.rdc.puc-rio.br (helon.usuarios.rdc.puc-rio.br)... 139.82.34.10\n",
            "Connecting to helon.usuarios.rdc.puc-rio.br (helon.usuarios.rdc.puc-rio.br)|139.82.34.10|:80... connected.\n",
            "HTTP request sent, awaiting response... 200 OK\n",
            "Length: 267634147 (255M)\n",
            "Saving to: ‘data3SS2009.mat.1’\n",
            "\n",
            "data3SS2009.mat.1   100%[===================>] 255.24M  10.3MB/s    in 28s     \n",
            "\n",
            "2022-05-30 11:29:17 (9.23 MB/s) - ‘data3SS2009.mat.1’ saved [267634147/267634147]\n",
            "\n"
          ]
        }
      ]
    },
    {
      "cell_type": "code",
      "source": [
        "! pip install statsmodels==0.13.2"
      ],
      "metadata": {
        "id": "9EWGd4fYtyna",
        "outputId": "694bd35f-1f2a-463b-8db9-40fb916221ec",
        "colab": {
          "base_uri": "https://localhost:8080/"
        }
      },
      "execution_count": 3,
      "outputs": [
        {
          "output_type": "stream",
          "name": "stdout",
          "text": [
            "Looking in indexes: https://pypi.org/simple, https://us-python.pkg.dev/colab-wheels/public/simple/\n",
            "Requirement already satisfied: statsmodels==0.13.2 in /usr/local/lib/python3.7/dist-packages (0.13.2)\n",
            "Requirement already satisfied: numpy>=1.17 in /usr/local/lib/python3.7/dist-packages (from statsmodels==0.13.2) (1.21.6)\n",
            "Requirement already satisfied: scipy>=1.3 in /usr/local/lib/python3.7/dist-packages (from statsmodels==0.13.2) (1.4.1)\n",
            "Requirement already satisfied: packaging>=21.3 in /usr/local/lib/python3.7/dist-packages (from statsmodels==0.13.2) (21.3)\n",
            "Requirement already satisfied: patsy>=0.5.2 in /usr/local/lib/python3.7/dist-packages (from statsmodels==0.13.2) (0.5.2)\n",
            "Requirement already satisfied: pandas>=0.25 in /usr/local/lib/python3.7/dist-packages (from statsmodels==0.13.2) (1.3.5)\n",
            "Requirement already satisfied: pyparsing!=3.0.5,>=2.0.2 in /usr/local/lib/python3.7/dist-packages (from packaging>=21.3->statsmodels==0.13.2) (3.0.9)\n",
            "Requirement already satisfied: python-dateutil>=2.7.3 in /usr/local/lib/python3.7/dist-packages (from pandas>=0.25->statsmodels==0.13.2) (2.8.2)\n",
            "Requirement already satisfied: pytz>=2017.3 in /usr/local/lib/python3.7/dist-packages (from pandas>=0.25->statsmodels==0.13.2) (2022.1)\n",
            "Requirement already satisfied: six in /usr/local/lib/python3.7/dist-packages (from patsy>=0.5.2->statsmodels==0.13.2) (1.15.0)\n"
          ]
        }
      ]
    },
    {
      "cell_type": "code",
      "execution_count": 31,
      "metadata": {
        "id": "Ru-HAQce3LPe"
      },
      "outputs": [],
      "source": [
        "import numpy as np\n",
        "import matplotlib \n",
        "import scipy\n",
        "import sklearn\n",
        "import statsmodels\n",
        "import seaborn\n",
        "import pydot\n",
        "from sklearn.preprocessing import StandardScaler\n",
        "\n",
        "from statsmodels.tsa.ar_model import AutoReg \n",
        "\n",
        "from sklearn.linear_model import LogisticRegression\n",
        "from sklearn import svm\n",
        "from sklearn.neighbors import KNeighborsClassifier\n",
        "\n",
        "\n",
        "from scipy import stats\n",
        "from scipy.stats.stats import mode\n",
        "from scipy.stats import uniform\n",
        "from sklearn.model_selection import (train_test_split, RepeatedKFold,RandomizedSearchCV)\n",
        "\n",
        "from sklearn.linear_model import Ridge\n",
        "\n",
        "from sklearn.svm import SVR\n",
        "from sklearn.svm import SVC\n",
        "\n",
        "from sklearn.neighbors import KNeighborsRegressor\n",
        "from sklearn.pipeline import Pipeline\n",
        "\n",
        "from sklearn.tree import DecisionTreeRegressor\n",
        "\n",
        "from sklearn.ensemble import RandomForestClassifier\n",
        "from sklearn.datasets import make_classification\n",
        "from sklearn.ensemble import RandomForestRegressor\n",
        "from sklearn.datasets import make_regression\n",
        "\n",
        "import pickle\n",
        "\n",
        "\n",
        "from sklearn.cluster import KMeans\n",
        "from sklearn.model_selection import train_test_split\n",
        "import pandas as pd\n",
        "import plotly.express as px\n",
        "from sklearn.svm import OneClassSVM\n",
        "\n",
        "from sklearn.manifold import TSNE\n",
        "\n",
        "\n",
        "from keras.models import Sequential\n",
        "from keras.layers import Dense\n",
        "from sklearn.model_selection import train_test_split"
      ]
    },
    {
      "cell_type": "code",
      "execution_count": 5,
      "metadata": {
        "id": "msOwr0Dx2hAh"
      },
      "outputs": [],
      "source": [
        "import scipy.io as sio\n",
        "import numpy as np\n",
        "from os import getcwd\n",
        "from os.path import join \n",
        "import matplotlib.pyplot as plt"
      ]
    },
    {
      "cell_type": "code",
      "source": [
        "from google.colab import drive\n",
        "drive.mount('/content/drive')"
      ],
      "metadata": {
        "colab": {
          "base_uri": "https://localhost:8080/"
        },
        "id": "nZIa6EnRu-mL",
        "outputId": "560aa488-27e5-491b-f42d-175c6f6304cf"
      },
      "execution_count": 6,
      "outputs": [
        {
          "output_type": "stream",
          "name": "stdout",
          "text": [
            "Mounted at /content/drive\n"
          ]
        }
      ]
    },
    {
      "cell_type": "markdown",
      "metadata": {
        "id": "lk4aof4BAjNG"
      },
      "source": [
        "## : Início do processamento"
      ]
    },
    {
      "cell_type": "code",
      "execution_count": 7,
      "metadata": {
        "colab": {
          "base_uri": "https://localhost:8080/"
        },
        "id": "gHT7bo3s2hAi",
        "outputId": "a0d66df2-ae74-4c44-f340-5709910e26af"
      },
      "outputs": [
        {
          "output_type": "execute_result",
          "data": {
            "text/plain": [
              "array([ 1,  1,  1,  1,  1,  1,  1,  1,  1,  1,  1,  1,  1,  1,  1,  1,  1,\n",
              "        1,  1,  1,  1,  1,  1,  1,  1,  1,  1,  1,  1,  1,  1,  1,  1,  1,\n",
              "        1,  1,  1,  1,  1,  1,  1,  1,  1,  1,  1,  1,  1,  1,  1,  1,  2,\n",
              "        2,  2,  2,  2,  2,  2,  2,  2,  2,  2,  2,  2,  2,  2,  2,  2,  2,\n",
              "        2,  2,  2,  2,  2,  2,  2,  2,  2,  2,  2,  2,  2,  2,  2,  2,  2,\n",
              "        2,  2,  2,  2,  2,  2,  2,  2,  2,  2,  2,  2,  2,  2,  2,  3,  3,\n",
              "        3,  3,  3,  3,  3,  3,  3,  3,  3,  3,  3,  3,  3,  3,  3,  3,  3,\n",
              "        3,  3,  3,  3,  3,  3,  3,  3,  3,  3,  3,  3,  3,  3,  3,  3,  3,\n",
              "        3,  3,  3,  3,  3,  3,  3,  3,  3,  3,  3,  3,  3,  3,  4,  4,  4,\n",
              "        4,  4,  4,  4,  4,  4,  4,  4,  4,  4,  4,  4,  4,  4,  4,  4,  4,\n",
              "        4,  4,  4,  4,  4,  4,  4,  4,  4,  4,  4,  4,  4,  4,  4,  4,  4,\n",
              "        4,  4,  4,  4,  4,  4,  4,  4,  4,  4,  4,  4,  4,  5,  5,  5,  5,\n",
              "        5,  5,  5,  5,  5,  5,  5,  5,  5,  5,  5,  5,  5,  5,  5,  5,  5,\n",
              "        5,  5,  5,  5,  5,  5,  5,  5,  5,  5,  5,  5,  5,  5,  5,  5,  5,\n",
              "        5,  5,  5,  5,  5,  5,  5,  5,  5,  5,  5,  5,  6,  6,  6,  6,  6,\n",
              "        6,  6,  6,  6,  6,  6,  6,  6,  6,  6,  6,  6,  6,  6,  6,  6,  6,\n",
              "        6,  6,  6,  6,  6,  6,  6,  6,  6,  6,  6,  6,  6,  6,  6,  6,  6,\n",
              "        6,  6,  6,  6,  6,  6,  6,  6,  6,  6,  6,  7,  7,  7,  7,  7,  7,\n",
              "        7,  7,  7,  7,  7,  7,  7,  7,  7,  7,  7,  7,  7,  7,  7,  7,  7,\n",
              "        7,  7,  7,  7,  7,  7,  7,  7,  7,  7,  7,  7,  7,  7,  7,  7,  7,\n",
              "        7,  7,  7,  7,  7,  7,  7,  7,  7,  7,  8,  8,  8,  8,  8,  8,  8,\n",
              "        8,  8,  8,  8,  8,  8,  8,  8,  8,  8,  8,  8,  8,  8,  8,  8,  8,\n",
              "        8,  8,  8,  8,  8,  8,  8,  8,  8,  8,  8,  8,  8,  8,  8,  8,  8,\n",
              "        8,  8,  8,  8,  8,  8,  8,  8,  8,  9,  9,  9,  9,  9,  9,  9,  9,\n",
              "        9,  9,  9,  9,  9,  9,  9,  9,  9,  9,  9,  9,  9,  9,  9,  9,  9,\n",
              "        9,  9,  9,  9,  9,  9,  9,  9,  9,  9,  9,  9,  9,  9,  9,  9,  9,\n",
              "        9,  9,  9,  9,  9,  9,  9,  9, 10, 10, 10, 10, 10, 10, 10, 10, 10,\n",
              "       10, 10, 10, 10, 10, 10, 10, 10, 10, 10, 10, 10, 10, 10, 10, 10, 10,\n",
              "       10, 10, 10, 10, 10, 10, 10, 10, 10, 10, 10, 10, 10, 10, 10, 10, 10,\n",
              "       10, 10, 10, 10, 10, 10, 10, 11, 11, 11, 11, 11, 11, 11, 11, 11, 11,\n",
              "       11, 11, 11, 11, 11, 11, 11, 11, 11, 11, 11, 11, 11, 11, 11, 11, 11,\n",
              "       11, 11, 11, 11, 11, 11, 11, 11, 11, 11, 11, 11, 11, 11, 11, 11, 11,\n",
              "       11, 11, 11, 11, 11, 11, 12, 12, 12, 12, 12, 12, 12, 12, 12, 12, 12,\n",
              "       12, 12, 12, 12, 12, 12, 12, 12, 12, 12, 12, 12, 12, 12, 12, 12, 12,\n",
              "       12, 12, 12, 12, 12, 12, 12, 12, 12, 12, 12, 12, 12, 12, 12, 12, 12,\n",
              "       12, 12, 12, 12, 12, 13, 13, 13, 13, 13, 13, 13, 13, 13, 13, 13, 13,\n",
              "       13, 13, 13, 13, 13, 13, 13, 13, 13, 13, 13, 13, 13, 13, 13, 13, 13,\n",
              "       13, 13, 13, 13, 13, 13, 13, 13, 13, 13, 13, 13, 13, 13, 13, 13, 13,\n",
              "       13, 13, 13, 13, 14, 14, 14, 14, 14, 14, 14, 14, 14, 14, 14, 14, 14,\n",
              "       14, 14, 14, 14, 14, 14, 14, 14, 14, 14, 14, 14, 14, 14, 14, 14, 14,\n",
              "       14, 14, 14, 14, 14, 14, 14, 14, 14, 14, 14, 14, 14, 14, 14, 14, 14,\n",
              "       14, 14, 14, 15, 15, 15, 15, 15, 15, 15, 15, 15, 15, 15, 15, 15, 15,\n",
              "       15, 15, 15, 15, 15, 15, 15, 15, 15, 15, 15, 15, 15, 15, 15, 15, 15,\n",
              "       15, 15, 15, 15, 15, 15, 15, 15, 15, 15, 15, 15, 15, 15, 15, 15, 15,\n",
              "       15, 15, 16, 16, 16, 16, 16, 16, 16, 16, 16, 16, 16, 16, 16, 16, 16,\n",
              "       16, 16, 16, 16, 16, 16, 16, 16, 16, 16, 16, 16, 16, 16, 16, 16, 16,\n",
              "       16, 16, 16, 16, 16, 16, 16, 16, 16, 16, 16, 16, 16, 16, 16, 16, 16,\n",
              "       16, 17, 17, 17, 17, 17, 17, 17, 17, 17, 17, 17, 17, 17, 17, 17, 17,\n",
              "       17, 17, 17, 17, 17, 17, 17, 17, 17, 17, 17, 17, 17, 17, 17, 17, 17,\n",
              "       17, 17, 17, 17, 17, 17, 17, 17, 17, 17, 17, 17, 17, 17, 17, 17, 17],\n",
              "      dtype=uint8)"
            ]
          },
          "metadata": {},
          "execution_count": 7
        }
      ],
      "source": [
        "fname = join(getcwd(),'data3SS2009.mat')\n",
        "\n",
        "mat_contents = sio.loadmat(fname)\n",
        "\n",
        "dataset = mat_contents['dataset']\n",
        "\n",
        "N, Chno, Nc = dataset.shape \n",
        "# N: number of samples\n",
        "# Chno: number of channels\n",
        "# Nc: number of cases\n",
        "\n",
        "y = mat_contents['labels'].reshape(Nc)\n",
        "y"
      ]
    },
    {
      "cell_type": "code",
      "execution_count": 9,
      "metadata": {
        "colab": {
          "base_uri": "https://localhost:8080/"
        },
        "id": "32eH_sH1vi0G",
        "outputId": "22384ed5-aaab-428c-b38b-96021b9c1f6a"
      },
      "outputs": [
        {
          "output_type": "stream",
          "name": "stdout",
          "text": [
            "(8192, 5, 850)\n"
          ]
        }
      ],
      "source": [
        "np.where(y==10)\n",
        "print(dataset.shape)"
      ]
    },
    {
      "cell_type": "code",
      "execution_count": 10,
      "metadata": {
        "colab": {
          "base_uri": "https://localhost:8080/"
        },
        "id": "3p4G6tHU0cuu",
        "outputId": "67691560-6b1e-44c6-c561-6dc601c5be0a"
      },
      "outputs": [
        {
          "output_type": "execute_result",
          "data": {
            "text/plain": [
              "array([[0., 0., 0., 0., 0., 0., 0., 0., 0., 0., 0., 0., 0., 0., 0., 0.,\n",
              "        0., 0., 0., 0., 0., 0., 0., 0., 0., 0., 0., 0., 0., 0., 0., 0.,\n",
              "        0., 0., 0., 0., 0., 0., 0., 0., 0., 0., 0., 0., 0., 0., 0., 0.,\n",
              "        0., 0., 0., 0., 0., 0., 0., 0., 0., 0., 0., 0., 0., 0., 0., 0.,\n",
              "        0., 0., 0., 0., 0., 0., 0., 0., 0., 0., 0., 0., 0., 0., 0., 0.,\n",
              "        0., 0., 0., 0., 0., 0., 0., 0., 0., 0., 0., 0., 0., 0., 0., 0.,\n",
              "        0., 0., 0., 0., 0., 0., 0., 0., 0., 0., 0., 0., 0., 0., 0., 0.,\n",
              "        0., 0., 0., 0., 0., 0., 0., 0., 0., 0., 0., 0., 0., 0., 0., 0.,\n",
              "        0., 0., 0., 0., 0., 0., 0., 0., 0., 0., 0., 0., 0., 0., 0., 0.,\n",
              "        0., 0., 0., 0., 0., 0., 0., 0., 0., 0., 0., 0., 0., 0., 0., 0.,\n",
              "        0., 0., 0., 0., 0., 0., 0., 0., 0., 0., 0., 0., 0., 0., 0., 0.,\n",
              "        0., 0., 0., 0., 0., 0., 0., 0., 0., 0., 0., 0., 0., 0., 0., 0.,\n",
              "        0., 0., 0., 0., 0., 0., 0., 0., 0., 0., 0., 0., 0., 0., 0., 0.,\n",
              "        0., 0., 0., 0., 0., 0., 0., 0., 0., 0., 0., 0., 0., 0., 0., 0.,\n",
              "        0., 0., 0., 0., 0., 0., 0., 0., 0., 0., 0., 0., 0., 0., 0., 0.,\n",
              "        0., 0., 0., 0., 0., 0., 0., 0., 0., 0., 0., 0., 0., 0., 0., 0.,\n",
              "        0., 0., 0., 0., 0., 0., 0., 0., 0., 0., 0., 0., 0., 0., 0., 0.,\n",
              "        0., 0., 0., 0., 0., 0., 0., 0., 0., 0., 0., 0., 0., 0., 0., 0.,\n",
              "        0., 0., 0., 0., 0., 0., 0., 0., 0., 0., 0., 0., 0., 0., 0., 0.,\n",
              "        0., 0., 0., 0., 0., 0., 0., 0., 0., 0., 0., 0., 0., 0., 0., 0.,\n",
              "        0., 0., 0., 0., 0., 0., 0., 0., 0., 0., 0., 0., 0., 0., 0., 0.,\n",
              "        0., 0., 0., 0., 0., 0., 0., 0., 0., 0., 0., 0., 0., 0., 0., 0.,\n",
              "        0., 0., 0., 0., 0., 0., 0., 0., 0., 0., 0., 0., 0., 0., 0., 0.,\n",
              "        0., 0., 0., 0., 0., 0., 0., 0., 0., 0., 0., 0., 0., 0., 0., 0.,\n",
              "        0., 0., 0., 0., 0., 0., 0., 0., 0., 0., 0., 0., 0., 0., 0., 0.,\n",
              "        0., 0., 0., 0., 0., 0., 0., 0., 0., 0., 0., 0., 0., 0., 0., 0.,\n",
              "        0., 0., 0., 0., 0., 0., 0., 0., 0., 0., 0., 0., 0., 0., 0., 0.,\n",
              "        0., 0., 0., 0., 0., 0., 0., 0., 0., 0., 0., 0., 0., 0., 0., 0.,\n",
              "        0., 0., 1., 1., 1., 1., 1., 1., 1., 1., 1., 1., 1., 1., 1., 1.,\n",
              "        1., 1., 1., 1., 1., 1., 1., 1., 1., 1., 1., 1., 1., 1., 1., 1.,\n",
              "        1., 1., 1., 1., 1., 1., 1., 1., 1., 1., 1., 1., 1., 1., 1., 1.,\n",
              "        1., 1., 1., 1., 1., 1., 1., 1., 1., 1., 1., 1., 1., 1., 1., 1.,\n",
              "        1., 1., 1., 1., 1., 1., 1., 1., 1., 1., 1., 1., 1., 1., 1., 1.,\n",
              "        1., 1., 1., 1., 1., 1., 1., 1., 1., 1., 1., 1., 1., 1., 1., 1.,\n",
              "        1., 1., 1., 1., 1., 1., 1., 1., 1., 1., 1., 1., 1., 1., 1., 1.,\n",
              "        1., 1., 1., 1., 1., 1., 1., 1., 1., 1., 1., 1., 1., 1., 1., 1.,\n",
              "        1., 1., 1., 1., 1., 1., 1., 1., 1., 1., 1., 1., 1., 1., 1., 1.,\n",
              "        1., 1., 1., 1., 1., 1., 1., 1., 1., 1., 1., 1., 1., 1., 1., 1.,\n",
              "        1., 1., 1., 1., 1., 1., 1., 1., 1., 1., 1., 1., 1., 1., 1., 1.,\n",
              "        1., 1., 1., 1., 1., 1., 1., 1., 1., 1., 1., 1., 1., 1., 1., 1.,\n",
              "        1., 1., 1., 1., 1., 1., 1., 1., 1., 1., 1., 1., 1., 1., 1., 1.,\n",
              "        1., 1., 1., 1., 1., 1., 1., 1., 1., 1., 1., 1., 1., 1., 1., 1.,\n",
              "        1., 1., 1., 1., 1., 1., 1., 1., 1., 1., 1., 1., 1., 1., 1., 1.,\n",
              "        1., 1., 1., 1., 1., 1., 1., 1., 1., 1., 1., 1., 1., 1., 1., 1.,\n",
              "        1., 1., 1., 1., 1., 1., 1., 1., 1., 1., 1., 1., 1., 1., 1., 1.,\n",
              "        1., 1., 1., 1., 1., 1., 1., 1., 1., 1., 1., 1., 1., 1., 1., 1.,\n",
              "        1., 1., 1., 1., 1., 1., 1., 1., 1., 1., 1., 1., 1., 1., 1., 1.,\n",
              "        1., 1., 1., 1., 1., 1., 1., 1., 1., 1., 1., 1., 1., 1., 1., 1.,\n",
              "        1., 1., 1., 1., 1., 1., 1., 1., 1., 1., 1., 1., 1., 1., 1., 1.,\n",
              "        1., 1., 1., 1., 1., 1., 1., 1., 1., 1., 1., 1., 1., 1., 1., 1.,\n",
              "        1., 1., 1., 1., 1., 1., 1., 1., 1., 1., 1., 1., 1., 1., 1., 1.,\n",
              "        1., 1., 1., 1., 1., 1., 1., 1., 1., 1., 1., 1., 1., 1., 1., 1.,\n",
              "        1., 1., 1., 1., 1., 1., 1., 1., 1., 1., 1., 1., 1., 1., 1., 1.,\n",
              "        1., 1.]])"
            ]
          },
          "metadata": {},
          "execution_count": 10
        }
      ],
      "source": [
        "y_bin_damaged = np.zeros((1,850))\n",
        "y_bin_damaged[:,450:] = y_bin_damaged[:,450:] +1\n",
        "y_bin_damaged"
      ]
    },
    {
      "cell_type": "code",
      "execution_count": 11,
      "metadata": {
        "colab": {
          "base_uri": "https://localhost:8080/",
          "height": 573
        },
        "id": "e-gKqynj2hAj",
        "outputId": "2f3c4e16-875b-4619-c159-4a31e3d2659c"
      },
      "outputs": [
        {
          "output_type": "display_data",
          "data": {
            "text/plain": [
              "<Figure size 432x288 with 2 Axes>"
            ],
            "image/png": "[encoded data removed]"
          },
          "metadata": {
            "needs_background": "light"
          }
        },
        {
          "output_type": "display_data",
          "data": {
            "text/plain": [
              "<Figure size 432x288 with 2 Axes>"
            ],
            "image/png": "[encoded data removed]"
          },
          "metadata": {
            "needs_background": "light"
          }
        }
      ],
      "source": [
        "Ch1 = dataset[:,0,:] # célula de carga: força do shaker\n",
        "Ch2 = dataset[:,1,:] # acelerômetro: base\n",
        "Ch3 = dataset[:,2,:] # acelerômetro: 1o andar\n",
        "Ch4 = dataset[:,3,:] # acelerômetro: 2o andar\n",
        "Ch5 = dataset[:,4,:] # acelerômetro: 3o andar\n",
        "\n",
        "Ts = 3.125 * 1e-3 # sampling time\n",
        "time = (np.linspace(1,N,N) - 1) * Ts\n",
        "\n",
        "for case in np.array([0,790]):\n",
        "    plt.figure(case)\n",
        "    plt.subplot(211)\n",
        "    plt.title('case %d, label %d' % (case, y[case]))\n",
        "    plt.plot(time,Ch1[:,case])\n",
        "    plt.ylabel('Force')\n",
        "    plt.subplot(212)\n",
        "    plt.plot(time,Ch2[:,case],time,Ch3[:,case],time,Ch4[:,case],time,Ch5[:,case])\n",
        "    plt.xlabel('Time')\n",
        "    plt.ylabel('Acceleration')\n",
        "    plt.show()"
      ]
    },
    {
      "cell_type": "code",
      "execution_count": 12,
      "metadata": {
        "id": "NI2NihompeEQ",
        "outputId": "ccd87a2b-185e-45c2-ed61-adaa7ec7f369",
        "colab": {
          "base_uri": "https://localhost:8080/"
        }
      },
      "outputs": [
        {
          "output_type": "execute_result",
          "data": {
            "text/plain": [
              "(8192, 850)"
            ]
          },
          "metadata": {},
          "execution_count": 12
        }
      ],
      "source": [
        "Ch2.shape"
      ]
    },
    {
      "cell_type": "code",
      "execution_count": 13,
      "metadata": {
        "colab": {
          "base_uri": "https://localhost:8080/"
        },
        "id": "rLBlKrtd7Ot_",
        "outputId": "8b65912b-c3a8-4f41-d80a-94a29d98b8ff"
      },
      "outputs": [
        {
          "output_type": "stream",
          "name": "stdout",
          "text": [
            "matrix X:  [[ 0.14656393  0.12344872 -0.42452564 ...  0.62527312  0.18531354\n",
            "  -0.08524884]\n",
            " [ 0.79236289  0.26123975 -0.52503197 ...  0.5761841   0.75775165\n",
            "  -0.38039847]\n",
            " [ 0.17113439  0.98893784  0.60084113 ... -0.10711284  0.6940215\n",
            "  -0.20874206]\n",
            " ...\n",
            " [ 0.21738063  0.40702133  0.44190305 ... -0.43805704  0.31272412\n",
            "   0.07283314]\n",
            " [-0.03923676  0.18921679  0.05709407 ... -0.40076345  0.02953589\n",
            "   0.34142521]\n",
            " [ 0.03684378 -0.30327268 -0.64940672 ... -0.17947949 -0.69738006\n",
            "   0.42497897]] \n",
            " matrix X.shape:  (32768, 850)\n"
          ]
        }
      ],
      "source": [
        "X = np.concatenate((Ch2,Ch3,Ch4,Ch5))\n",
        "\n",
        "X\n",
        "\n",
        "print( 'matrix X: ', X, '\\n matrix X.shape: ',X.shape)"
      ]
    },
    {
      "cell_type": "markdown",
      "metadata": {
        "id": "vHLeCBuLD2SG"
      },
      "source": [
        "## Feature extraction AR"
      ]
    },
    {
      "cell_type": "code",
      "execution_count": 14,
      "metadata": {
        "id": "xSuX_E4g8r6u"
      },
      "outputs": [],
      "source": [
        "FeatAR = []\n",
        "na = 29\n",
        "for i in range(0,850):\n",
        "  ARmodel2 = AutoReg(Ch2[:,i],na).fit()\n",
        "  ARmodel3 = AutoReg(Ch3[:,i],na).fit()\n",
        "  ARmodel4 = AutoReg(Ch4[:,i],na).fit()\n",
        "  ARmodel5 = AutoReg(Ch5[:,i],na).fit()\n",
        "  ARparams = np.concatenate([ARmodel2.params,ARmodel3.params, ARmodel4.params,ARmodel5.params])\n",
        "  FeatAR.append(ARparams)\n",
        "FeatAR = np.array(FeatAR)\n"
      ]
    },
    {
      "cell_type": "code",
      "execution_count": 15,
      "metadata": {
        "colab": {
          "base_uri": "https://localhost:8080/"
        },
        "id": "vSWBx5Y5LUyN",
        "outputId": "2eb62bbc-7135-4a30-f194-58e172d67f9f"
      },
      "outputs": [
        {
          "output_type": "execute_result",
          "data": {
            "text/plain": [
              "(850, 120)"
            ]
          },
          "metadata": {},
          "execution_count": 15
        }
      ],
      "source": [
        "FeatAR.shape"
      ]
    },
    {
      "cell_type": "markdown",
      "metadata": {
        "id": "qaHk1svV8t_N"
      },
      "source": [
        "## : feature extraction PCA \n"
      ]
    },
    {
      "cell_type": "code",
      "execution_count": 16,
      "metadata": {
        "colab": {
          "base_uri": "https://localhost:8080/"
        },
        "id": "ufLv8LjkXVBR",
        "outputId": "09e8490c-3d68-468c-f676-0a83976a84dc"
      },
      "outputs": [
        {
          "output_type": "stream",
          "name": "stdout",
          "text": [
            "matrix X.shape:  (850, 6) \n",
            " X_PCA: [[ 7.66136505 -1.41780663  0.80665171  0.89625556 -1.19463583 -0.13840328]\n",
            " [ 6.8869037  -1.70474591  0.96095314 -0.0090899  -1.74358116 -0.49638477]\n",
            " [ 6.94763838 -1.5554447   0.94936492  0.13319058 -0.83617666 -0.46298613]\n",
            " ...\n",
            " [-5.24160818 -1.38243332  1.19297854 -2.02374849 -0.32984218  0.81221121]\n",
            " [-5.06151016 -1.37825724  1.20604602 -0.0969439   0.34497989  0.90045879]\n",
            " [-5.24563384 -1.14354112  1.67658163  0.0533145   0.28827159  0.88529276]]\n"
          ]
        }
      ],
      "source": [
        "from sklearn.decomposition import PCA\n",
        "\n",
        "pca = PCA(n_components=.95)\n",
        "X_pca = pca.fit_transform(FeatAR)\n",
        "\n",
        "print('matrix X.shape: ',X_pca.shape,'\\n X_PCA:', X_pca)"
      ]
    },
    {
      "cell_type": "code",
      "execution_count": 17,
      "metadata": {
        "colab": {
          "base_uri": "https://localhost:8080/"
        },
        "id": "BrWey38AN301",
        "outputId": "d505827e-8b5f-4f6c-f02c-3cced84c833d"
      },
      "outputs": [
        {
          "output_type": "stream",
          "name": "stdout",
          "text": [
            "[0.64699238 0.12653811 0.09021831 0.0510888  0.02622314 0.01953216] [131.93541573  58.34753064  49.26734492  37.0744467   26.56159486\n",
            "  22.92381596]\n"
          ]
        }
      ],
      "source": [
        "print(pca.explained_variance_ratio_ , pca.singular_values_)"
      ]
    },
    {
      "cell_type": "markdown",
      "metadata": {
        "id": "YxRH5I1mxeF7"
      },
      "source": [
        "## : Scale Feature"
      ]
    },
    {
      "cell_type": "code",
      "execution_count": 18,
      "metadata": {
        "colab": {
          "base_uri": "https://localhost:8080/"
        },
        "id": "WDOZQnHB3OFp",
        "outputId": "260e916f-2c15-41ae-bf58-f90f001c1f9a"
      },
      "outputs": [
        {
          "output_type": "stream",
          "name": "stdout",
          "text": [
            "Confirmando a normalização: \n",
            " X1 máximo normalizado:  1.0000000000000009 \n",
            " X1 minimo normalizado:  -1.0000000000000002 \n",
            " X2 máximo normalizado:  1.0 \n",
            " X2 minimo normalizado:  -1.0\n"
          ]
        }
      ],
      "source": [
        "from sklearn.preprocessing import MinMaxScaler\n",
        "\n",
        "# Normalizando AR\n",
        "X1_max_min = MinMaxScaler(feature_range=(-1,1))\n",
        "X1_train = X1_max_min.fit_transform(FeatAR)\n",
        "X1_train\n",
        "\n",
        "# Normalizando PCA\n",
        "X2_max_min = MinMaxScaler(feature_range=(-1,1))\n",
        "X2_train = X2_max_min.fit_transform(X_pca)\n",
        "X2_train\n",
        "\n",
        "print('Confirmando a normalização:','\\n X1 máximo normalizado: ', X1_train.max(), '\\n X1 minimo normalizado: ',X1_train.min(),'\\n X2 máximo normalizado: ', X2_train.max(), '\\n X2 minimo normalizado: ',X2_train.min())\n"
      ]
    },
    {
      "cell_type": "code",
      "execution_count": 19,
      "metadata": {
        "colab": {
          "base_uri": "https://localhost:8080/",
          "height": 545
        },
        "id": "aE9NrN3wKGH9",
        "outputId": "6840195d-2b12-4683-cf05-14512eafc401"
      },
      "outputs": [
        {
          "output_type": "display_data",
          "data": {
            "text/plain": [
              "<Figure size 432x288 with 1 Axes>"
            ],
            "image/png": "[encoded data removed]"
          },
          "metadata": {
            "needs_background": "light"
          }
        },
        {
          "output_type": "display_data",
          "data": {
            "text/plain": [
              "<Figure size 432x288 with 1 Axes>"
            ],
            "image/png": "[encoded data removed]"
          },
          "metadata": {
            "needs_background": "light"
          }
        }
      ],
      "source": [
        "# Plotando os resultados comparando o X1 com X2 \n",
        "\n",
        "# Dividi o problema em duas soluções:  - Não danificado em AZUL e Danificado em vermelho\n",
        "\n",
        "\n",
        "Y1 = np.array(range(0,120))\n",
        "Y2 = np.array(range(0,6))\n",
        "\n",
        "# Plot do AR\n",
        "for case in range(0,850):\n",
        "  if y_bin_damaged[0,case]==0:\n",
        "    color_name = 'blue'\n",
        "  else:\n",
        "    color_name = 'red'\n",
        "    plt.title('Modelo 1 - separado por Danificado/Não Danificado - Por AR ')\n",
        "  plt.scatter(Y1,X1_train[case,:], color = color_name)\n",
        "plt.show()\n",
        "\n",
        "# Plot do PCA\n",
        "for case in range(0,850):\n",
        "  if y_bin_damaged[0,case]==0:\n",
        "    color_name = 'blue'\n",
        "  else:\n",
        "    color_name = 'red'\n",
        "    plt.title('Modelo 1 - separado por Danificado/Não Danificado - Por PCA ')\n",
        "  plt.scatter(Y2,X2_train[case,:], color = color_name)\n",
        "plt.show()\n",
        "  "
      ]
    },
    {
      "cell_type": "markdown",
      "metadata": {
        "id": "LtR-1NNyoaos"
      },
      "source": [
        "Ao plotar o modelo AR é possível observar que a grande quantidade de dados dificulas a leitura e interpretação do problema. Quando ao gráfico com PCA, a redução de variaveis facilita a interpretação dos resultados neste caso."
      ]
    },
    {
      "cell_type": "markdown",
      "metadata": {
        "id": "eUkY12rhoZe1"
      },
      "source": [
        "## : SOFTMAX"
      ]
    },
    {
      "cell_type": "code",
      "execution_count": 20,
      "metadata": {
        "colab": {
          "base_uri": "https://localhost:8080/"
        },
        "id": "wdhebdtmh5n4",
        "outputId": "0d2901b6-6dbf-4bcb-bde4-de5a4344927e"
      },
      "outputs": [
        {
          "output_type": "stream",
          "name": "stdout",
          "text": [
            "score_1 0.9988235294117647 \n",
            " score_2 0.908235294117647\n"
          ]
        }
      ],
      "source": [
        "\n",
        "\n",
        "softmax1 = LogisticRegression(random_state=0,max_iter= 2000).fit(X1_train,y)\n",
        "softmax2 = LogisticRegression(random_state=0,max_iter= 2000).fit(X2_train,y)\n",
        "\n",
        "\n",
        "predict_1 = softmax1.predict(X1_train)\n",
        "proba_1 = softmax1.predict_proba(X1_train)\n",
        "score_1 = softmax1.score(X1_train,y)                           \n",
        "\n",
        "predict_2 = softmax2.predict(X2_train)\n",
        "proba_2 = softmax2.predict_proba(X2_train)\n",
        "score_2 = softmax2.score(X2_train,y)  \n",
        "\n",
        "print('score_1', score_1,'\\n score_2', score_2)"
      ]
    },
    {
      "cell_type": "markdown",
      "metadata": {
        "id": "ZKTBR95PAn-G"
      },
      "source": [
        "## : SVC"
      ]
    },
    {
      "cell_type": "code",
      "execution_count": 21,
      "metadata": {
        "colab": {
          "base_uri": "https://localhost:8080/"
        },
        "id": "lOu6RCTwAqLb",
        "outputId": "4013e89d-5a16-43f5-b72a-c9623c9608d5"
      },
      "outputs": [
        {
          "output_type": "stream",
          "name": "stdout",
          "text": [
            "svm_linear_1 1.0 \n",
            " svm_ploy_1 0.9988235294117647 \n",
            " svm_rbf_1 0.9976470588235294 \n",
            " svm_sig_1 0.9847058823529412\n",
            "\n",
            " svm_linear_2 0.9364705882352942 \n",
            " svm_poly_2 0.9341176470588235 \n",
            " svm_rbf_2 0.9364705882352942 \n",
            " svm_sig_2 0.8505882352941176\n"
          ]
        }
      ],
      "source": [
        "# AR\n",
        "\n",
        "svc_linear_1 = svm.SVC(C=1.0, kernel='linear').fit(X1_train,y)\n",
        "svc_poly_1 = svm.SVC(C=1.0, kernel='poly').fit(X1_train,y)\n",
        "svc_rbf_1 = svm.SVC(C=1.0, kernel='rbf').fit(X1_train,y)\n",
        "svc_sig_1 = svm.SVC(C=1.0, kernel='sigmoid').fit(X1_train,y)\n",
        "\n",
        "linear_1_predict = svc_linear_1.predict(X1_train)\n",
        "poly_1_predict = svc_poly_1.predict(X1_train)\n",
        "rbf_1_predict = svc_rbf_1.predict(X1_train)\n",
        "sig_1_predict = svc_sig_1.predict(X1_train)\n",
        "\n",
        "svm_linear_1 = svc_linear_1.score(X1_train,y)\n",
        "svm_ploy_1 = svc_poly_1.score(X1_train,y) \n",
        "svm_rbf_1 = svc_rbf_1.score(X1_train,y) \n",
        "svm_sig_1 = svc_sig_1.score(X1_train,y)\n",
        "\n",
        "# PCA\n",
        "\n",
        "svc_linear_2 = svm.SVC(C=1.0, kernel='linear').fit(X2_train,y)\n",
        "svc_poly_2 = svm.SVC(C=1.0, kernel='poly').fit(X2_train,y)\n",
        "svc_rbf_2 = svm.SVC(C=1.0, kernel='rbf').fit(X2_train,y)\n",
        "svc_sig_2 = svm.SVC(C=1.0, kernel='sigmoid').fit(X2_train,y)\n",
        "\n",
        "linear_2_predict = svc_linear_2.predict(X2_train)\n",
        "poly_2_predict = svc_poly_2.predict(X2_train)\n",
        "rbf_2_predict = svc_rbf_2.predict(X2_train)\n",
        "sig_2_predict = svc_sig_2.predict(X2_train)\n",
        "\n",
        "svm_linear_2 = svc_linear_2.score(X2_train,y)\n",
        "svm_poly_2 = svc_poly_2.score(X2_train,y) \n",
        "svm_rbf_2 = svc_rbf_2.score(X2_train,y) \n",
        "svm_sig_2 = svc_sig_2.score(X2_train,y) \n",
        "\n",
        "print('svm_linear_1', svm_linear_1, '\\n svm_ploy_1', svm_ploy_1, '\\n svm_rbf_1', svm_rbf_1, '\\n svm_sig_1', svm_sig_1)\n",
        "print('\\n svm_linear_2', svm_linear_2, '\\n svm_poly_2', svm_poly_2, '\\n svm_rbf_2', svm_rbf_2, '\\n svm_sig_2', svm_sig_2)"
      ]
    },
    {
      "cell_type": "markdown",
      "metadata": {
        "id": "AtykIan22OeT"
      },
      "source": [
        "## : kNN"
      ]
    },
    {
      "cell_type": "code",
      "execution_count": 22,
      "metadata": {
        "colab": {
          "base_uri": "https://localhost:8080/"
        },
        "id": "uVcZx5ds2Q5m",
        "outputId": "e8c4b399-5841-4dac-8c33-cdcf35ddeeb8"
      },
      "outputs": [
        {
          "output_type": "stream",
          "name": "stdout",
          "text": [
            " knn_5_ar 0.9941176470588236 \n",
            " knn_10_ar 0.9894117647058823 \n",
            " knn_15_ar 0.9870588235294118 \n",
            " knn_20_ar 0.9870588235294118\n",
            "\n",
            " knn_5_pca 0.9376470588235294 \n",
            " knn_10_pca 0.9376470588235294 \n",
            " knn_15_pca 0.9294117647058824 \n",
            " knn_20_pca 0.9235294117647059\n"
          ]
        }
      ],
      "source": [
        "#AR\n",
        "knn_5_1 = KNeighborsClassifier(n_neighbors=5).fit(X1_train,y)\n",
        "knn_10_1 = KNeighborsClassifier(n_neighbors=10).fit(X1_train,y)\n",
        "knn_15_1 = KNeighborsClassifier(n_neighbors=15).fit(X1_train,y)\n",
        "knn_20_1 = KNeighborsClassifier(n_neighbors=20).fit(X1_train,y)\n",
        "\n",
        "knn_5_ar = knn_5_1.score(X1_train,y)\n",
        "knn_10_ar = knn_10_1.score(X1_train,y) \n",
        "knn_15_ar = knn_15_1.score(X1_train,y) \n",
        "knn_20_ar = knn_20_1.score(X1_train,y)\n",
        "\n",
        "\n",
        "#PCA\n",
        "knn_5_2 = KNeighborsClassifier(n_neighbors=5).fit(X2_train,y)\n",
        "knn_10_2 = KNeighborsClassifier(n_neighbors=10).fit(X2_train,y)\n",
        "knn_15_2 = KNeighborsClassifier(n_neighbors=15).fit(X2_train,y)\n",
        "knn_20_2 = KNeighborsClassifier(n_neighbors=20).fit(X2_train,y)\n",
        "\n",
        "knn_5_pca = knn_5_2.score(X2_train,y)\n",
        "knn_10_pca = knn_10_2.score(X2_train,y) \n",
        "knn_15_pca = knn_15_2.score(X2_train,y) \n",
        "knn_20_pca = knn_20_2.score(X2_train,y)\n",
        "\n",
        "print(' knn_5_ar', knn_5_ar, '\\n knn_10_ar', knn_10_ar, '\\n knn_15_ar', knn_15_ar, '\\n knn_20_ar', knn_20_ar)\n",
        "print('\\n knn_5_pca', knn_5_pca, '\\n knn_10_pca', knn_10_pca, '\\n knn_15_pca', knn_15_pca, '\\n knn_20_pca', knn_20_pca)"
      ]
    },
    {
      "cell_type": "markdown",
      "metadata": {
        "id": "SYpTRZs3U7uJ"
      },
      "source": [
        "## : Creates List of Dictionaries"
      ]
    },
    {
      "cell_type": "code",
      "execution_count": 23,
      "metadata": {
        "id": "yEJ4mqRBVEy4"
      },
      "outputs": [],
      "source": [
        "param_grid = []\n",
        "\n",
        "param_grid.append(\n",
        "    [\n",
        "     {\n",
        "      \"LGR__C\": stats.loguniform(1e-2,1e2),\n",
        "     }\n",
        "    ]\n",
        ")\n",
        "\n",
        "\n",
        "param_grid.append(\n",
        "    [\n",
        "     {\n",
        "      \"SVC__C\": stats.loguniform(1e-2,1e2),\n",
        "      \"SVC__kernel\": [\"linear\",\"poly\",\"rbf\",\"sigmoid\"],   \n",
        "     }\n",
        "    ]\n",
        ")\n",
        "\n",
        "\n",
        "\n",
        "param_grid.append(\n",
        "    [\n",
        "     {\n",
        "      \"KNN__n_neighbors\": stats.randint(2,100),\n",
        "      \"KNN__weights\": [\"uniform\",\"distance\"],\n",
        "     }\n",
        "    ]\n",
        ")\n",
        "\n",
        "param_grid.append(\n",
        "    [\n",
        "        {\n",
        "            \"DTR__criterion\": [ \"friedman_mse\"],\n",
        "            \"DTR__splitter\": [\"best\",\"random\"],\n",
        "            \"DTR__max_features\": stats.uniform(),\n",
        "        }\n",
        "    ]\n",
        "\n",
        ")\n",
        "\n",
        "\n",
        "param_grid.append(\n",
        "    [\n",
        "        {\n",
        "            \"RFR__n_estimators\": stats.randint(2,100),\n",
        "            \"RFR__criterion\": [\"absolute_error\"],\n",
        "            \"RFR__max_depth\": stats.randint(2,20),\n",
        "            \"RFR__max_features\": stats.uniform(),\n",
        "        }\n",
        "    ]\n",
        "\n",
        ")\n",
        "\n",
        "\n",
        "\n",
        "models = []\n",
        "\n",
        "models.append((\"LGR\", LogisticRegression(max_iter=1000)))\n",
        "models.append((\"SVC\",SVC()))\n",
        "models.append((\"KNN\", KNeighborsRegressor()))\n",
        "models.append((\"DTR\", DecisionTreeRegressor()))\n",
        "models.append((\"RFR\", RandomForestRegressor()))"
      ]
    },
    {
      "cell_type": "code",
      "execution_count": 24,
      "metadata": {
        "id": "ozjGaZG_8Wr6"
      },
      "outputs": [],
      "source": [
        "N_REPS=2#50\n",
        "N_SPLITS=2#5\n",
        "N_ITERS=5#100\n",
        "models_list=['LGR','SVC','KNN','DTR','RFR']"
      ]
    },
    {
      "cell_type": "markdown",
      "metadata": {
        "id": "ZwYuhrcqr1Ti"
      },
      "source": [
        "## : Hyperparameter"
      ]
    },
    {
      "cell_type": "code",
      "execution_count": 38,
      "metadata": {
        "colab": {
          "base_uri": "https://localhost:8080/"
        },
        "id": "W6UoYaRKr0Kq",
        "outputId": "5ef12848-52a2-42a2-bcc8-e52e0a8df14d"
      },
      "outputs": [
        {
          "output_type": "stream",
          "name": "stdout",
          "text": [
            "Fitting 4 folds for each of 5 candidates, totalling 20 fits\n",
            "Accuracy Score:  LGR  AR:  -0.0\n",
            "Fitting 4 folds for each of 5 candidates, totalling 20 fits\n",
            "Accuracy Score:  SVC  AR:  -0.0\n",
            "Fitting 4 folds for each of 5 candidates, totalling 20 fits\n",
            "Accuracy Score:  KNN  AR:  -0.5433670343137255\n",
            "Fitting 4 folds for each of 5 candidates, totalling 20 fits\n",
            "Accuracy Score:  DTR  AR:  -1.2\n",
            "Fitting 4 folds for each of 5 candidates, totalling 20 fits\n",
            "Accuracy Score:  RFR  AR:  -0.34101011789013125\n",
            "Fitting 4 folds for each of 5 candidates, totalling 20 fits\n",
            "Accuracy Score:  LGR  PCA:  -0.0\n",
            "Fitting 4 folds for each of 5 candidates, totalling 20 fits\n",
            "Accuracy Score:  SVC  PCA:  -0.0\n",
            "Fitting 4 folds for each of 5 candidates, totalling 20 fits\n",
            "Accuracy Score:  KNN  PCA:  -0.5433670343137255\n",
            "Fitting 4 folds for each of 5 candidates, totalling 20 fits\n",
            "Accuracy Score:  DTR  PCA:  -1.2\n",
            "Fitting 4 folds for each of 5 candidates, totalling 20 fits\n",
            "Accuracy Score:  RFR  PCA:  -0.34101011789013125\n"
          ]
        }
      ],
      "source": [
        "from sklearn.model_selection import train_test_split\n",
        "\n",
        "# AR\n",
        "\n",
        "random_search_AR={}\n",
        "param_grids_AR={}\n",
        "yh_test_AR={}\n",
        "acc1={}\n",
        "for k in range(0,5):\n",
        "  X_train_AR, X_test_AR, y_train_AR, y_test_AR = train_test_split(X1_train,y, \n",
        "                                                                  test_size=0.6, \n",
        "                                                                  random_state=42)\n",
        "  rkf = RepeatedKFold(n_splits=N_SPLITS,n_repeats=N_REPS,random_state=42)\n",
        "  clf = Pipeline([(\"scaler\",StandardScaler()), (models[k])])\n",
        "  param_grids_AR[models_list[k]] = param_grid[k]\n",
        "  random_search_AR[models_list[k]] = RandomizedSearchCV(clf,verbose=1, \n",
        "                                                        scoring=\"neg_mean_squared_error\",\n",
        "                                                        param_distributions=param_grids_AR[models_list[k]],\n",
        "                                                        n_iter=N_ITERS,\n",
        "                                                        n_jobs=-1,\n",
        "                                                        cv=rkf,\n",
        "                                                        random_state=42)\n",
        "  random_search_AR[models_list[k]].fit(X_train_AR,y_train_AR)\n",
        "\n",
        "  yh_test_AR[models_list[k]] = random_search_AR[models_list[k]].predict(X_test_AR)\n",
        "  acc1[models_list[k]] = random_search_AR[models_list[k]].score(X_test_AR, y_test_AR)\n",
        "  print('Accuracy Score: ',models_list[k], ' AR: ', acc1[models_list[k]])\n",
        "\n",
        "# PCA\n",
        "\n",
        "random_search_PCA={}\n",
        "param_grids_PCA={}\n",
        "yh_test_PCA={}\n",
        "acc2={}\n",
        "for k in range(0,5):\n",
        "\n",
        "  X_train_PCA, X_test_PCA, y_train_PCA, y_test_PCA = train_test_split(X2_train,y, \n",
        "                                                                      test_size=0.6, \n",
        "                                                                      random_state=42)\n",
        "  rkf = RepeatedKFold(n_splits=N_SPLITS,n_repeats=N_REPS,random_state=42)\n",
        "  clf = Pipeline([(\"scaler\",StandardScaler()), (models[k])])\n",
        "  param_grids_PCA[models_list[k]] = param_grid[k]\n",
        "  random_search_PCA[models_list[k]] = RandomizedSearchCV(clf,verbose=1, \n",
        "                                                         scoring=\"neg_mean_squared_error\",\n",
        "                                                         param_distributions=param_grids_PCA[models_list[k]],\n",
        "                                                         n_iter=N_ITERS,\n",
        "                                                         n_jobs=-1,\n",
        "                                                         cv=rkf,\n",
        "                                                         random_state=42)\n",
        "  random_search_PCA[models_list[k]].fit(X_train_PCA,y_train_PCA)  \n",
        "  yh_test_PCA[models_list[k]] = random_search_PCA[models_list[k]].predict(X_test_PCA)\n",
        "  acc2[models_list[k]] = random_search_PCA[models_list[k]].score(X_test_PCA, y_test_PCA)\n",
        "  print('Accuracy Score: ',models_list[k], ' PCA: ', acc1[models_list[k]])"
      ]
    },
    {
      "cell_type": "code",
      "execution_count": 26,
      "metadata": {
        "id": "GlRZN4NlDXAZ"
      },
      "outputs": [],
      "source": [
        "results_dict = {\n",
        "    'Results_AR':random_search_AR,\n",
        "    'yh_AR':yh_test_AR,\n",
        "    'Results_PCA':random_search_PCA,\n",
        "    'yh_PCA':yh_test_PCA,\n",
        "}"
      ]
    },
    {
      "cell_type": "code",
      "execution_count": 27,
      "metadata": {
        "id": "lvEUSJdDDWkD"
      },
      "outputs": [],
      "source": [
        "a_file = open(\"TakeHome5_results_n_reps\"+str(N_REPS)+\".pkl\", \"wb\")\n",
        "pickle.dump(results_dict, a_file)\n",
        "a_file.close()"
      ]
    },
    {
      "cell_type": "markdown",
      "metadata": {
        "id": "v8DTCdctpeEX"
      },
      "source": [
        "## :Unsupervised Learning"
      ]
    },
    {
      "cell_type": "code",
      "execution_count": 28,
      "metadata": {
        "scrolled": false,
        "id": "DnnffyxTpeEX",
        "outputId": "3506bc22-a834-41b5-b249-6c498c191b87",
        "colab": {
          "base_uri": "https://localhost:8080/",
          "height": 1000
        }
      },
      "outputs": [
        {
          "output_type": "display_data",
          "data": {
            "text/html": [
              "<html>\n",
              "<head><meta charset=\"utf-8\" /></head>\n",
              "<body>\n",
              "    <div>            <script src=\"https://cdnjs.cloudflare.com/ajax/libs/mathjax/2.7.5/MathJax.js?config=TeX-AMS-MML_SVG\"></script><script type=\"text/javascript\">if (window.MathJax) {MathJax.Hub.Config({SVG: {font: \"STIX-Web\"}});}</script>                <script type=\"text/javascript\">window.PlotlyConfig = {MathJaxConfig: 'local'};</script>\n",
              "        <script src=\"https://cdn.plot.ly/plotly-2.8.3.min.js\"></script>                <div id=\"44b31fff-eba8-40c0-9d79-1b8e1afa9c01\" class=\"plotly-graph-div\" style=\"height:525px; width:100%;\"></div>            <script type=\"text/javascript\">                                    window.PLOTLYENV=window.PLOTLYENV || {};                                    if (document.getElementById(\"44b31fff-eba8-40c0-9d79-1b8e1afa9c01\")) {                    Plotly.newPlot(                        \"44b31fff-eba8-40c0-9d79-1b8e1afa9c01\",                        [{\"hovertemplate\":\"0=%{x}<br>1=%{y}<br>2=%{z}<br>yh=%{marker.color}<extra></extra>\",\"legendgroup\":\"\",\"marker\":{\"color\":[5,4,0,3,0,0,1,6,1,1,1,4,1,5,2,5,6,0,4,5,6,4,2,2,4,5,2,5,6,3,1,6,5,5,2,5,1,1,7,0,5,0,0,2,1,6,3,5,1,1,0,6,1,5,7,3,5,4,4,3,0,4,1,5,5,6,4,5,6,2,0,1,0,3,5,4,0,1,1,6,5,6,0,1,0,5,0,5,5,3,4,3,3,1,0,0,1,6,4,0,3,1,5,0,0,1,3,5,0,3,6,6,4,3,6,6,7,4,4,6,5,5,0,0,5,1,6,2,3,2,0,1,5,6,5,1,0,0,3,7,4,0,6,5,0,5,5,4,6,0,7,4,5,5,5,5,1,4,3,5,3,5,3,5,0,6,7,6,0,4,6,4,6,0,2,1,2,2,3,1,1,5,6,5,3,5,1,1,4,0,0,4,5,6,4,1,6,4,0,4,2,5,0,3,5,5,6,1,2,3,5,4,6,4,0,7,3,5,4,3,5,5,5,4,6,3,1,0,1,7,1,5,1,7,0,1,0,0,6,0,4,4,6,1,2,0,0,7,7,0,1,7,1,5,1,0,1,4,0,7,0,5,5,0,3,1,5,0,2,2,6,4,0,5,1,1,0,5,0,4,0,1,5,1,0,6,1,4,0,4,1,5,6,4,3,4,4,0,5,1,0,0,5,6,6,3,1,7,4,5,2,1,5,4,4,1,5,7,3,1,7,2,5,1,0,0,1,4,0,0,6,0,1,0,3,1,1,5,5,0,0,1,0,0,6,7,1,5,3,3,7,3,5,7,3,3,3,6,3,6,5,0,0,4,6,4,4,4,2,1,4,4,6,3,0,2,0,4,2,5,1,3,5,6,1,2,2,0,1,1,5,6,7,3,5,7,0,5,5,6,0,3,7,6,5,5,2,0,1,0,0,3,6,2,0,5,4,1,4,5,0,6,3,0,2,3,1,1,6,6,3,0,5,5,1,5,4,6,3,6,4,6,1,0,6,4,1,6,7,5,1,0,0,3,1,0,4,3,1,5,3,7,6,5,0,5,0,0,3,1,7,5,0,6,4,5,5,6,4,1,0,1,4,5,0,4,6,6,0,7,3,6,4,1,0,4,4,6,4,0,5,7,5,0,7,2,6,1,4,3],\"coloraxis\":\"coloraxis\",\"symbol\":\"circle\"},\"mode\":\"markers\",\"name\":\"\",\"scene\":\"scene\",\"showlegend\":false,\"x\":[0.15674950813455268,0.019397489599105366,0.05665595530853995,-0.0030446549148308577,0.1789103619918051,0.27391915584386517,0.15964123244481998,0.32665037355079507,0.30043242069532683,-0.5979730172608222,0.11683810039215237,0.1441307261971656,0.18884064430619008,0.12317576229510685,0.2887521717870425,0.10608141859949605,0.4739058228506221,0.32834019773770384,-0.03391004701157918,0.13143366467159012,0.27210059275466136,0.1881320269853206,0.26164561613417625,0.37152717837457594,-0.06977980708154741,-0.03597975339419035,0.31923443112581085,0.16649410502746687,0.13758069385491378,0.09285454231393953,0.22965112177111235,0.2633019160279013,0.14092333944527846,-0.14966061696237354,0.20307906025250722,0.10908485633631759,-0.5607578592110305,0.14715963515427033,-0.5139675219301507,0.42024462947297936,0.2715187416998668,0.6099116210738318,0.23645437041603756,0.22132562546202905,0.18191482343868293,0.2695855109833132,0.008992630012810032,0.17102901495353207,-0.047689779146594,0.11008576590301589,0.14712146793575576,0.15942089233319878,0.05190510650015456,-0.003933350717232553,-0.7598428186034742,0.051154376159519455,-0.07605075300784092,-0.14352413618961846,-0.03682165817979044,0.05806847493497047,0.15002355849766857,-0.11348756530880832,0.32628118907263204,0.0361198742246005,0.08965840504107403,0.5080408174859801,-0.045289797161052636,0.007012646262715361,0.2871343201605403,0.6451287093902449,0.2506695534351038,-0.08746756242063647,0.30216334982119974,0.04254880804338468,0.11760768957611134,-0.1195719497615162,0.20177989998372325,-0.8677155368124994,-0.6544374668359225,0.14188197375110567,0.11737308637362043,0.24284934146964066,0.16730711719771252,-0.627717857516866,0.17726437691089014,0.1775591379172048,0.25588492868094415,0.23477077305524396,0.15184802695504018,0.16462583455390245,-0.023547864141958197,0.02430055570389511,0.09717903958215235,-0.004838323435928604,0.1729551743668023,0.15787068080470945,0.1614455797485932,0.33539975577180137,0.06093162967777355,0.29229699892238914,0.2381913952467869,0.020926583778472452,0.03964171102849656,0.2340462644351744,0.3469024944416299,0.20121724209598035,-0.03871909123744288,0.06864175736857314,0.09897337012151297,0.12844303512567112,0.2073560198280764,0.25591077028416187,0.008320108748763655,0.07754930988358666,0.40069549770428825,0.32669477796452195,-0.804841646157203,0.00042213844635652364,0.047274555988402245,0.2965327365227779,0.03253072227632048,-0.004151092246008847,0.03305618223140083,0.20599735923933027,0.16485779645165266,0.1692178889769349,0.2479924632326309,0.256429561121172,0.14250688894934926,0.40347058362539157,0.3010330418300393,0.18120002645969668,-0.024294182353503224,0.4836708148362723,0.11901843501307185,-0.6362103641281802,0.1541227432279011,0.07101814566140163,0.07374121179535909,-0.8476837783580207,0.0448452469175602,0.06766874630638142,0.6572806048682618,0.21072425865004352,0.23831933019047424,-0.018964544630944324,0.12521337224540519,-0.006334223685099616,0.3777186025599666,0.37078792244460823,-0.7045834047922992,-0.019923978829531563,0.41726214166477327,0.24774001375781518,-0.11360357108699182,0.05227142504766613,0.09942363518139397,0.03007761466589276,0.11981036210691354,0.02242597410539915,0.011103002237341286,0.5604844269116132,0.06822667276865335,-0.02112374046143284,0.12246492640587414,0.3322144999308376,-0.8823618401324591,0.3834070885548577,0.27684253586334506,-0.15504362906096336,0.4524351672385767,-0.0837786104127618,0.40808848415892207,0.21392981346787776,0.29643015518412463,-0.6612778680519713,0.36789365438759036,0.3995410130095598,0.21651393333072244,0.279172555743914,0.08190104303583334,0.23183024313190703,0.34439817196334577,0.25645619899014527,0.18349055887983834,-0.021409692876996456,0.2552151296938421,-0.7912840035582978,0.1188254736002814,0.24532452487127454,0.17411856162084094,0.07536070673066719,0.2335229125832763,0.34287591678919194,-0.06105435770959122,0.08654930079522938,0.5145545315566644,0.08242205697435256,0.25589554061986464,0.012549539798269116,0.45609789237996035,0.1452041105007842,0.12948839883916108,0.04129843630717733,0.19323735452459445,0.19913439918658193,0.2608744499987856,0.4932632539190749,0.49301736663070894,0.10232311867025734,0.014258383858639423,0.06874253418903908,0.39758450331289996,-0.04632755531039878,0.21456177242426921,-0.6798085891036743,0.1771957935497639,0.17227420251850756,0.07699384773667717,0.0961832669505922,-0.012139638686633702,0.2692580002456424,-0.02895797598412342,-0.13448468580463935,0.42033647665783214,0.076863763814774,0.16013470965249477,0.29079583842019874,0.20841630332328265,-0.637721516231152,-0.6848794562005573,-0.042042686247770966,0.043177116086322354,-0.6755088681775918,0.28745084318361336,-0.6795830094886339,0.2512662784180999,0.3330938431321733,0.32714113215603424,0.18201554934051245,0.09069153682524256,-0.09612582753981469,0.6362090987901938,-0.7091724535679362,0.2560909039447008,0.1992029807031419,0.2591912416803308,-0.7403292208776837,-0.6489097633955683,0.2823025452636867,-0.7749549607006347,-0.7025289437064144,0.14981994597083625,-0.010536147818046349,-0.8278243960755245,0.06618141632195584,0.14987072076433083,-0.09782387728957476,0.14361857603203232,-0.9513287475543568,0.0649418696949442,0.0494306305759995,-0.0013897657314818623,0.2907502781055795,0.056467778462198304,0.10144277523980394,0.1632398810048592,0.028561139304931427,0.3133964926862798,0.22355267813551372,0.40746773798751246,-0.021206563309857707,0.1320244505024175,0.15352339199721854,-0.5755004146947051,-0.5676674860341397,0.26343346940513523,-0.02063482820373652,0.05152673331299695,-0.19684585749871486,0.22550096815123855,0.19581809063324762,0.21044450842200657,-0.7541093993627723,0.3663435771154462,0.2538731032453687,0.07465298542471688,0.12999492023589365,0.062497975565324104,0.07394350444015396,0.30447113516312063,0.5870991195039605,0.24824081487625138,-0.061178414086349164,0.06160807781087563,-0.09264026539792036,0.036647293358252675,0.21544033512509353,0.04102179717264853,-0.6616924861732119,0.24008006052837327,0.23866055275620424,0.06003403936016527,0.4591978040847713,0.38920240209506973,0.19090384799179727,-0.4897152406749723,-0.8429132015853873,0.0005114279673774647,0.3074509724813588,0.23952006362425715,-0.7231152880304279,0.005225842992023999,0.07010607683335435,0.015187967268772251,-0.5755031229825622,0.36450873024648267,-0.8781657783907604,0.12122569254494131,0.20437208825740116,-0.8988053415668777,0.3832709388368363,0.5625778333390754,0.06691320050283567,0.18404879805775032,0.0768081064625421,-0.6050851748994175,0.019012687609937018,0.08645848387462651,-0.08541941627425009,0.43967243661684297,0.42298751974790916,0.30339231738947214,0.29153589449003414,0.4394231341958572,0.27707152844309846,0.19979555058255904,0.10092919275023116,0.11528264125329368,0.15771667343774265,0.061784700165871786,-0.014097993574915701,0.21713060831067743,0.17234879148248883,0.41083385666706107,-0.7497517002630829,0.1840680050413055,0.10200055096358174,0.13308953877495622,0.12380894849083557,-0.9754246694170425,0.22387980324509682,-0.04878632347958156,-0.7150620681373461,0.1492925629835442,0.013109728038366075,0.18979759439789978,0.25441482044831343,0.11590759473755252,0.535115451815219,0.08556841486491074,0.16318667788070007,0.021160142881746502,0.11238364050874639,0.28764900681483185,0.03899810382962876,-0.061945847603927184,0.05230568774321931,0.40432573837791574,0.21458363768752875,0.17436807179555336,-0.0581652421357437,0.38368693022784583,0.20176354377781003,0.10438955546349638,0.3250651155097901,0.01889476314718941,-0.022591263034203557,0.24593211245113578,0.0986074203780829,0.07568251863747211,0.10179854775237063,-0.01413846466488966,0.4995176310525773,0.17705548197248167,0.29901744487894355,0.30706996881736526,0.16784973918172774,-0.7982683880032817,0.32431434174066043,0.4318838399650433,0.33813076516764706,-0.6280250152831997,0.12357543527711945,-0.11396954773700951,-0.9036633682678863,0.2987657447517309,0.07395119261759175,0.21033377562089584,0.3324259685442956,0.3140085655390825,1.0,-0.7203352993166612,0.31360805678977854,0.09615540252123367,0.17948937999372827,0.3694525720944757,0.41300494979662483,0.21695966764747876,0.3642418574985533,0.31126071382287757,-0.025906441445153305,0.41498976944316635,0.10557503124990664,0.2888095874710821,-0.10374884307623589,-0.08877430953774157,0.1555534204259832,0.09064204973860068,0.06034274316737376,0.3418233649601419,0.4493670362068518,0.11044983863086788,0.26652580671504156,0.19423209998748225,0.101150439442522,-0.8533576690191325,-0.6387910829724084,0.1774352643653403,0.310640367300659,0.038129426985773485,0.14551536659088393,-0.01743527371592002,0.28408639103296895,0.028000893139379812,0.14409806163676286,-0.15096287162659872,0.4512814316250475,0.20433255496493752,0.0926230144052278,0.04962874598540168,0.21941674890613205,0.19366340131002202,0.20566036533167598,0.4050613637426266,-0.0184325828940759,0.11144354183508964,0.2785589755697857,-0.4775709764668443,0.046240639841498954,0.24208371321556177,0.19514149008698123,0.2695166753398581,0.1502211978355783,-0.6805396879590764,0.059669906451409016,0.14429697451392443,0.001875810755140872,0.25091060520490327,-0.052373708747868175,0.3908230316011858,-0.9464280402048915,0.2969864928254893,0.3482150990211106,0.24284864786295168,0.20585791648465346,0.2112309766749938,0.23398160649276933,0.039906782530692464,0.22243059732933235,-0.6797718349197117,0.17808260603621973,0.11511434565561673,0.3737030602031495,0.24590503357950189,0.17227453533171255,0.2672670966620543,0.3453048299661936,0.1787292001856624,0.037514065336783364,0.28825440605640695,-0.825828892850589,-0.06982332541523295,0.2851384465392117,0.05016868470725866,-0.20628777590693925,0.24489395014144089,0.3390790191505064,0.17600293544690793,-0.745503987313274,0.17203411265687407,0.3762210639518284,-0.03556062483988809,0.11104671944836397,0.2704795179439996,-0.10081169234951526,-0.07420102495398506,0.1743596871802202,-0.16229028780598087,0.22182080687878525,-0.041263736948463414,-0.8402014912538958,0.27512756430684426,0.12358298497596332,-0.924309682394429,0.506868470042551,0.2523963614675444,0.1624228388774993,-0.07444301597041036,0.17577086793773544],\"y\":[-0.5517270351950758,-0.7104774745745956,-0.8945160564451236,-0.7508724786147818,-0.5830413984078131,-0.20764084639346336,-0.5631083774038617,-0.5157192407217099,-0.3900859443757181,-0.5219961483165649,-0.314960512854209,-0.30664593157373954,-0.20005908942680062,-0.3616894963602286,0.44080494145117743,-0.6619643693030923,-0.6044446319309884,-0.12221161807487135,-0.5583520366158226,-0.5263507738150413,-0.3604940836382369,-0.42972196422305675,0.35278826895156357,0.5873733952143501,-0.5379730141571404,-0.6036795458245523,0.5337678578144405,-0.5427888798870173,-0.4289298076269681,-0.5942523606967658,-0.08257859779333288,-0.4317072327075966,-0.5214711551327698,-0.6589394162378692,0.3483432791725152,-0.5959908961667066,-0.537473685478461,-0.2550793109924916,-0.09839456422729942,-0.41736241121020345,-0.36240853265887196,0.0629291167004169,-0.675110538831265,0.44160487795115566,-0.2727932132762376,-0.4801331007423171,-0.6256704526957542,-0.3734693674005607,-0.9703029051312972,-0.7508690815536836,-0.7616726126082893,-0.7496143218818405,-0.7632249661575834,-0.7810255895462621,-0.3175051066492065,-0.6040151369619515,-0.6867889261189415,-0.6697100017696753,-0.812633259846999,-0.5903023728512,-0.592279080211263,-0.6635254106150308,-0.05080069267031284,-0.6015819396465858,-0.6678623627141729,-0.25169378984013324,-0.8625945052554798,-0.6216918717829003,-0.6292255901788986,0.9999999999999996,-0.37105010838492714,-0.8570047058233312,-0.09897741306613295,-0.5857471754567021,-0.4927763329504984,-0.8173683260855702,-0.21339139304532218,-0.7562942876292089,-0.4790242304120449,-0.8691786184978012,-0.6167955222985766,-0.7532070172549012,-0.7273085189647563,-0.4738765602850785,-0.3072848863421731,-0.5083901745911152,-0.580989971790653,-0.5358282016468054,-0.8688305633929616,-0.6385738283635138,-0.5306743240264451,-0.69930286020083,-0.5652883875591455,-0.5169681489227997,-0.6554671978219151,-0.6379565266164171,-0.2650148413705731,-0.37951914993182,-0.6680827006082408,-0.1513547824208734,-0.489039847199364,-0.46731702294809896,-0.7226395216443171,-0.10897322080588534,-0.07992719716710983,-0.07614857544786613,-0.6678477150654558,-0.5910204310338916,-0.5512065067613738,-0.501123165188746,-0.475697781154623,-0.827173355566182,-0.3575029058649246,-0.5916149186678705,-0.6432471013830696,-0.6673202037594841,-0.11906371257282888,-0.37198893226908414,-0.7963823506775745,-0.7862685367104545,-0.5488554611284995,-0.5769514327273608,-0.7621474528483692,-0.18276006683249957,-0.49044746647570925,-0.691750643681333,-0.7217282102673135,0.4042293565353785,-0.4741488471408797,0.5145160288559771,-0.15509496169058323,-0.6189590189573186,-0.6745314863249456,-0.36260182968054533,-0.6418392719853205,-0.4730564759629807,-0.3955726507548585,-0.827101842257667,-0.7051853056246831,-0.2962999599045819,-0.7526066382488592,-0.6213162824162382,-0.33601178255369213,-0.5551766142338801,-0.6778682403287641,-0.735881882321463,-0.4573317839257527,-0.5077223871183767,-0.4701980598882285,0.034300596572022,-0.2592760702125627,-0.7647079172987032,-0.30726736741478433,-0.4287101023489335,-0.7832999409864296,-0.5128842316014852,-0.7578511062344004,-0.4210290852433243,-0.40886389528048017,-0.9507241711859624,-0.6665870066923585,-0.1691628529070659,-0.6185795145819091,-0.671590397845069,-0.7012229912317833,-0.7633235052171639,-0.27950665227158744,-0.27852864562642843,-0.5009397392774035,-0.9436943409774114,-0.43919414603466755,-0.7770098310552402,-0.4657112448137486,-0.7064573182103757,0.4847735515515046,-0.46486789615236646,0.4176935927203833,0.5198968308950498,-0.37974953462529637,-0.10706912189687579,-0.7926566083895805,-0.5481822755089549,-0.4911379598891896,-0.464164952410659,-0.534695765400877,-0.5780369036772104,-0.6239723658157343,-0.60195605290287,-0.35968151612041854,-0.15233723862167103,-0.7476625335530027,-0.6678531157675947,-0.564250367242388,-0.47124992670764687,-0.814242881442949,-0.7001889791024265,-0.2827019205943504,-0.524728083240813,-0.5720207276949427,-0.36729635618696754,0.6230371090127051,-0.557895098420774,-0.26903712720655903,-0.6362372018892364,-0.424977971499251,-0.5078701149945752,-0.46607144817602997,-0.34402706316612175,0.8367490172949283,-0.7095762032884565,-0.6973900962268589,-0.28600284688048117,-0.3473194726259061,-0.4598406169354874,-0.20447059953859092,-0.2664430056668827,-0.4290353258849908,-0.5292958698517065,-0.4249600157387521,-0.5711242910349554,-0.6719315868998699,-0.2702414977333758,-0.6036531123022293,-0.781345321258005,-0.5860924787273412,-0.5518272897451526,-0.6523904414802466,-0.2106062552719532,-0.677417488645145,-0.06402994956893515,-0.5620128270384699,-0.6846272770108932,-0.8297896120727444,0.12530997100903996,-0.16303199587733275,-0.594533457640023,-0.6286016149004201,-0.37404682601596484,-0.5622484917198767,-0.21732059873000598,-0.3954262859504345,-0.9403870365771736,-0.09572878566209031,-0.6379362667332513,0.3751043584995335,-0.5988184953148545,-0.20664808177455019,-0.06650905476711966,-0.06966018447221245,-0.4825332064891654,-0.5348510550810586,-0.17875144380768315,-0.7238589695672974,-0.6160019144775131,-0.7461873644845953,-0.7766928613369153,-0.48304613206632663,-0.5268542963715532,-0.8189151934487935,-0.21774790371310893,-0.6837602469166866,-0.5629185482680032,-0.7604742179314483,-0.11661296663020693,-0.7519467000414348,-0.2462134568537655,-0.47614458802358506,-0.8782699025856537,0.3467317577439344,0.4161607687339064,-0.5153550627439234,-0.6209930813767777,-0.6425976257871655,-0.45527821860796713,-0.43837361930051255,-0.43004226675832946,-0.5347328295472913,-0.7295065694440028,-0.6994770884531096,-0.8764042108325754,-0.14315993224800572,-0.15289738690047816,-0.460905722164064,-0.5969963580178366,-0.43072254990946046,-0.5521752758736884,-0.7529466547469239,-0.6248286613155418,-0.523859060409734,-0.5476864645922799,-0.4876701755430508,-0.3494897998375244,-0.6947351732503035,-0.7980048564943809,-0.5529230912448302,-0.6222908605038739,-0.4942457604890045,-0.45227292669686125,-0.43534575375004003,-0.524415970321515,-0.12495494416897301,-0.2599781153051426,-0.4999518423059728,-0.5011984837858527,-0.32765760365706864,-0.40487070442372186,-0.5842085327027293,-0.12125930097592352,-0.7584905813731959,-0.3486255306677606,0.6133566743599257,-0.5663158314778665,-0.47337237457466586,-0.23710203925630413,-0.6941359901279887,-0.49131006378587916,-0.2772622963545146,-0.12695220843458,-0.7096573737512708,-0.5472225100333912,-0.22591367072243962,0.4945322629644342,-0.2495246041524668,-0.8505800467171358,-0.3157547631418067,-0.6270402164853284,-0.5157311924793229,-0.2662982359990522,-0.5920157380214146,-0.8582878750823353,-0.4001078497505972,-0.09838414215828717,-0.5542995062053286,-0.18658881836268737,-0.30101036128866365,-0.6219892615487153,-0.640374606307371,-0.708273824493193,-0.5409445900072365,-0.3325460936860356,-0.6782351552731525,-0.8150481206502631,-0.6359982882675359,-0.7333399928365756,-0.24774213695919123,0.07191053629522592,-0.3306824967946467,-0.6599115367919532,-0.47536816902535417,-0.5367560162235812,-0.3214359108538538,-0.3331150010573589,-0.8489320351421892,-0.09172517052523066,-0.5704424114353488,-0.6609567799293643,-0.1841357002433215,-0.6635141406900864,-0.6854642012084771,-0.29720781017237474,-0.6322872806556932,-0.6057006798157278,-0.6764369719257628,-0.48717964433055627,-0.5533154397899276,-0.38004971490793693,-0.6641568988521174,-0.5637312918033617,0.6794616278064196,-0.1827810537241037,-0.39144924793360847,-0.7460448531061781,-0.42714762716272503,-0.4737329623964488,-0.6385972401079272,0.4478822358497032,-0.9123216641259013,-0.6121561112987424,0.3837851023613714,-0.7047039786618754,-0.26830196604377665,-0.5482121861345082,-0.5350293650724591,-0.23880289959004308,-0.22718534297957316,0.45559908371380997,0.4218999344269143,-0.3335771675541954,-0.6336161056552232,-0.46676225571656627,-0.1631721860515345,-0.6105910520404061,-0.0646742151693811,-0.5839228775682956,-0.8306779675816092,-0.1687214161319286,-0.1557990050700946,-0.6402194551104552,-0.5652890527784082,-0.5033249415194385,-0.06363382709945586,0.2316000346904472,-0.14327242426468434,-0.5420632806095842,-0.46077721095675805,-0.490740469131028,0.5978876495050973,-0.05409581255764717,-0.13414235026829768,-0.39155191134982736,-0.4828672076668843,-0.745479570902865,-0.4600435265101508,0.20060400243594678,-0.42195897742445077,-0.7320209808056735,-0.5983846720048698,-0.33902385807572255,-0.6078684157539342,-0.5686139941234556,-0.45954150915294534,-0.49989157394249073,-0.5025119831398275,-0.36949431279337297,0.319234744975029,-0.538405030917751,-0.6796048282280216,-0.565459356153557,-0.793626072340964,-0.4361500721429623,-0.6356880865798678,-0.6723375844372237,-0.7141811769137192,-0.3828806096936823,-0.8042306676834494,-0.3717150352044092,-0.7640558371108792,-0.5165663886966012,-0.4299395767941352,-0.6767799725206354,-0.4211974651329973,-0.5146696376782876,-0.2990170862274857,-0.6106351094110698,-0.5252899612751412,-0.7533626389747754,-0.27377711831363705,-0.6400721481527478,-0.013240022530928819,-0.5075812445150243,-0.050084668622282,-0.4684914265145297,-0.09894335065065629,-0.37674214135067086,-0.5690697779843132,-0.6550027323267811,-0.27749670875610377,-0.7814871927640743,-0.6142928991780661,-0.7287492017183617,-0.30493531538609275,-0.3093215256727211,-0.3063565979271061,-0.30849102385341975,-0.2537003605633874,-0.495978093734883,-0.7265430164730766,-0.45271378205372237,-0.6081902919775404,-0.141040591288089,-0.10741969292942954,-0.4191452846981285,-0.3290054013339434,-0.394560422594866,-0.1850284872461092,-0.4439209757193794,-0.4234029775520911,-0.4001709943699945,-0.6290678340960536,-0.7955300399095018,-0.5491402087286925,-0.849794742194379,-0.6321780794249579,-0.5144460651490821,-0.6141159918692463,-0.8479297941619546,-0.5992353314679342,-0.44445188262234403,-0.6742032350729579,-0.0819973397122098,-0.5253501653080113,-0.4023226088458527,-0.7414403507433374,-0.7843021191762469,-0.6576587159801628,-0.6853501863993205,-0.6036100380288572,-0.5591624757840474,-0.9377308897287779,-0.6370248022197513,-0.5602047172682303,-0.1769662027879333,-0.23312864673960831,-0.6419974218262157,-0.22770063461127865,0.5934092850377981,-0.7256911548487892,-0.1702582331965825,-0.5113390197344465,-0.3081610372229573],\"z\":[-0.332082916302749,-0.43928232792005595,-0.7891007404856722,-0.5540323875658775,-0.6309062319534497,0.004669259718056651,-0.627490720653924,-0.5946573518386398,-0.46080459761165393,-0.3062078075379784,-0.2982420454303867,-0.21082904065507613,-0.20571826108626112,-0.28984720768000116,0.46751233614587484,-0.5119019051227767,-0.41790886425401474,0.058365813232375885,-0.4199937629307051,-0.46096936210218864,-0.015947098913578373,-0.21157357668477417,0.5666014031837232,0.6823503326022209,-0.3772345394525125,-0.6178275000712894,0.591134801639912,-0.4635575925992601,0.006300189933050149,-0.4869311001069505,-0.045596509852469325,-0.11390473317753269,-0.3946681424868377,-0.6118191651783977,0.4388103826803196,-0.44499933758595844,-0.4132662275697552,-0.1894838446147542,-0.03957792754708045,-0.3758965638737308,-0.3195891410388878,0.32099305623564156,-0.6786054580692475,0.47751914807492035,-0.054177517915766416,-0.12699689322708707,-0.6343133617465924,-0.3414438306778056,-0.8886139156072659,-0.746977325372324,-0.6189201215239972,-0.6854404732748289,-0.7485297819225423,-0.7194902078511642,-0.23768371753698325,-0.35107785718693485,-0.5638659855811277,-0.49440355476473563,-0.5768086020682546,-0.46524243703290225,-0.6076431276118477,-0.5018695903429169,-0.044335961534949675,-0.5582566166934466,-0.5330628035346336,0.11143416145360163,-0.6158217261081234,-0.6673092942723482,-0.6437024554074782,1.0,-0.10223003252296259,-0.8907168638426874,-0.07623729892439712,-0.4722003000594057,-0.4815572230031542,-0.6836742359945163,-0.20264518071809867,-0.6888777526216376,-0.4276525876026742,-0.7118212444409284,-0.5546945879703191,-0.5925466985283503,-0.6199168225292535,-0.3637219269856242,-0.24415860889670782,-0.5079112583495196,-0.5304157029025891,-0.4184842965812905,-0.713314184000728,-0.5162620510731077,-0.4126715014948914,-0.540660004787247,-0.4080696732372875,-0.3480314529807522,-0.6618850957092821,-0.6114228310188548,-0.18934338122461014,-0.13848817509797762,-0.5014413135643512,-0.047000984499570464,-0.45208807402829976,-0.38466572799205245,-0.6036624038255649,-0.06382650666390255,0.02258211384510389,-0.031189755867835345,-0.4287146699744291,-0.5253309098084991,-0.6273207547112616,-0.4574060820333372,-0.14891235236535927,-0.795231418269033,-0.26529472520482145,-0.4416712184844336,-0.4944340026728504,-0.5441004629103876,-0.0513791504910035,-0.30970261180394587,-0.6373157030790395,-0.655524674214842,-0.46765988244095524,-0.44096548850419026,-0.7093948190671462,0.04988172934496404,-0.41184049906454767,-0.7049602221676938,-0.762212214473756,0.500029577256333,-0.48793210658455166,0.7629878447325122,0.02755372028033065,-0.502423280937462,-0.7557636966449621,-0.004501941505965945,-0.527932681957374,-0.46321291454611924,-0.24741687984802319,-0.7301406710441682,-0.4444435993108584,-0.15254247000017962,-0.4828591829894062,-0.6491516540419049,-0.30256947279075064,-0.5880114459889221,-0.5831566962397421,-0.549206042081348,-0.4625900159633254,-0.2616076810255539,-0.1870367714727319,0.12774510394298844,-0.30930048346349537,-0.7566901548533949,-0.2238881772076624,-0.38497529399934827,-0.8586442018411713,-0.49753785670725925,-0.7433151054518792,-0.2805603894130133,-0.3588591300445838,-0.7646589357678906,-0.4971749974116353,-0.06577673760274116,-0.4710044128933948,-0.5526955182950424,-0.6104467418368031,-0.614328959039371,-0.2934450783193441,-0.0456179079102359,-0.3916264669317737,-0.8505605757630441,-0.11828764881140508,-0.6719474619851908,-0.3194208422958038,-0.5039259942113841,0.5863620669642469,-0.3749452364970125,0.6574450753880505,0.5862272739247096,-0.2875247521821649,-0.03119411725642962,-0.8264277367735797,-0.3713005679542629,-0.1924954085206192,-0.4156274703467382,-0.4432474465463443,-0.5851228174373766,-0.5817204151772071,-0.5214623489363053,-0.3120584239919779,-0.08888632571981248,-0.6260443202951169,-0.55310103474263,-0.5516731074770611,-0.12444589192196176,-0.6988183235764751,-0.6519298531042175,0.1369789477896486,-0.35136203484763584,-0.5443193981198124,-0.2754144695391645,0.6589353727551188,-0.5962875120085016,-0.1602872447957786,-0.4881868732905428,-0.37290056588322607,-0.4338420616459153,-0.03698933920267322,-0.3306600781797826,0.8483516636329362,-0.48364156589024887,-0.5757531161937912,-0.13917580582508826,-0.0637418139607,-0.3291296369280996,-0.07494721760503076,-0.28219618940246605,-0.202434175028408,-0.506836511228407,-0.3484790355506018,-0.38657521803742867,-0.7251285731789832,-0.3272260259345696,-0.5917113465859405,-0.681899706553919,-0.42019770535578616,-0.35024237880342923,-0.5438056820333657,-0.1662426757480393,-0.5631580286742235,-0.032799933151659744,-0.5363511682677498,-0.5515598852818187,-0.8451299949525577,0.061508166639432815,-0.11643297571240296,-0.533740711254211,-0.4812463810767351,-0.35475220234357074,-0.49625854997404595,-0.16304275391281742,-0.21317729673043573,-0.7675626523993362,0.20911051953842197,-0.4335575983917703,0.4765813884892278,-0.5966653899013092,-0.09200736664439724,-0.030426619376090258,0.03681222682972418,-0.4706293990329975,-0.4846725165029291,-0.15280632241718806,-0.653548623266234,-0.6662323625832816,-0.5607581562749555,-0.7586117564029955,-0.21990542945687075,-0.5217830858514141,-0.7595907348959052,-0.17281962239293414,-0.6428941619426549,-0.5489916314648795,-0.6118306100267308,-0.11723189517553578,-0.7677479841371948,-0.16998395053709636,-0.43013465042263554,-0.8382427087687407,0.5691945592841989,0.5055288936818982,-0.030940582988256082,-0.5677516295175256,-0.6801015301294786,-0.33439929609015095,-0.36552597112463836,-0.34988509003495594,-0.5713431228332997,-0.6755167102089388,-0.7237712814762869,-0.8469525496600596,0.05518286250231874,-0.11522965238557603,-0.43713622872174973,-0.554318958396161,-0.29819147326840323,-0.24064048780425296,-0.6810197562645275,-0.6136319292485553,-0.3025819465617854,-0.38772864503978965,-0.29951265198924304,-0.02851608445518039,-0.5929173642031014,-0.8255768174221085,-0.5373018104652765,-0.398469139463959,-0.42922830197569084,-0.5770803532364148,-0.3708749680617345,-0.38974847714082017,-0.14961960363192617,-0.016273040817775808,-0.39628252931697894,-0.42039319571582645,-0.0791287644332197,-0.391667319088981,-0.3569953622334001,-0.12532350184847374,-0.5954499527898527,-0.22835486816005535,0.5456076613162324,-0.48967843545905865,-0.5155825139004158,-0.18004664734122855,-0.543639823212617,-0.3595076914935902,-0.2802921108601808,-0.08720638611103126,-0.5053900849789699,-0.4998847054931961,-0.257977948437361,0.6510828028838347,-0.054002868146017846,-0.7781226842679221,-0.21678668599140494,-0.6409885298031543,-0.40477904146583654,-0.3128070730532144,-0.5762567009382504,-0.878366749627796,-0.06047827651861937,0.07508636099278654,-0.476435897892042,-0.09657255810528476,-0.31890484223317017,-0.4515604887889726,-0.6296085975513872,-0.6169694715764251,-0.3967563206266824,-0.3120107363919651,-0.7072751165015561,-0.9438815298469265,-0.4926191364719017,-0.6605449581644489,0.033159647328444564,-0.03958626086061834,-0.16198760515962185,-0.5340666878832678,-0.3549667964988412,-0.3303574364378239,-0.3326283347495185,-0.2876576176192671,-0.6809000799732985,0.018692506242860674,-0.4504679263297966,-0.44097244513088185,-0.29051990955840523,-0.5708029471621838,-0.513178982057731,-0.03514985863877662,-0.5577062700289641,-0.5446297086056315,-0.7856675403839262,-0.2926166018920302,-0.5096697147314764,-0.34665489780732806,-0.4112930647749504,-0.462807956879292,0.792518031106292,-0.025100053200349137,-0.1736844114283418,-0.6205071051858244,-0.1286864034878885,-0.28681431091362697,-0.6190637727851467,0.5058792120065334,-0.7686449764062804,-0.549397198208645,0.5357482947138266,-0.7523614314363716,-0.28770099892156153,-0.5044632492999135,-0.5611970813723062,0.06270452014430283,-0.10433539368007416,0.6848615399805063,0.6672856928996609,-0.19726139082073146,-0.47193805683083134,-0.3842979169906666,-0.04677284920751035,-0.4774671573988307,-0.01831400339574074,-0.47700612215071025,-0.6601558546192425,-0.23638946253726978,-0.07261559139798557,-0.6487955590908943,-0.4135832193385838,-0.49016651576874715,-0.038387025017206255,0.4129175525856894,-0.1613413648359483,-0.5321895739146836,-0.295776469062627,-0.4516071150894323,0.6529981008613319,0.06645845627017088,-0.06460411647126207,-0.4414969418885857,-0.44053149446895645,-0.561829761581329,-0.38972244170910564,0.21254772474427064,-0.37382442602042865,-0.796402720106304,-0.4615872313778073,-0.20721747828232928,-0.612075611002485,-0.5300035730025634,-0.4018726707289435,-0.3935059641892966,-0.3870361263623252,-0.5206938771754572,0.4717702167276645,-0.5369067116955577,-0.6513748783575721,-0.616759318536765,-0.7295424961534689,-0.1378584442002353,-0.4264825922419355,-0.604633641199829,-0.4652124910890727,-0.3427549800798282,-0.7702414275841516,-0.27163433229264733,-0.7841634013370413,-0.4198652634643132,-0.3615235559949497,-0.2589311893625226,-0.30438854999100684,-0.12831712508988424,-0.12440932450707898,-0.4726164791565104,-0.16926430257618463,-0.44088772970075674,-0.2361364846005003,-0.6622455537063541,0.09560240881102544,-0.6102245635764554,0.03240481341651069,-0.5788540139578409,0.05503204687968477,-0.4166223316967397,-0.5557374902774495,-0.6133490203401415,-0.13157158528699497,-0.5034847199110377,-0.5327006763468027,-0.666461598592825,-0.21062410113524344,-0.28737623295539017,-0.011954424736147828,-0.2359476898170687,-0.10183076118564571,-0.4857740517461071,-0.6131436591709836,-0.4666652989635214,-0.56071469834521,-0.21425800488098368,-0.025306645572744202,-0.37924567193402403,-0.1520394599674244,-0.09581738306991738,-0.12166128023359946,-0.41146974979775663,-0.31169064487010445,-0.06984952371017172,-0.3589646416949801,-0.7448142530995341,-0.5287156054697348,-0.6088130398957166,-0.6570871667153604,-0.30660166536278055,-0.6852556222717112,-0.9217970768333146,-0.6106612514092671,-0.09379146431120233,-0.6890884772034287,-0.07608967044047965,-0.3951304251817582,-0.09353935582658579,-0.7102540288974382,-0.775123571825052,-0.5033097950165484,-0.5956966326924302,-0.44724114648929536,-0.15638277007557377,-0.8015940266500277,-0.5865384228910937,-0.4682520071271963,-0.13615838063618924,-0.2189101570506491,-0.6564823936478987,-0.19005637698382394,0.7546959550289376,-0.5993376677666689,-0.08877712096944634,-0.4072294046152152,-0.27061226090891033],\"type\":\"scatter3d\"}],                        {\"template\":{\"data\":{\"bar\":[{\"error_x\":{\"color\":\"#2a3f5f\"},\"error_y\":{\"color\":\"#2a3f5f\"},\"marker\":{\"line\":{\"color\":\"#E5ECF6\",\"width\":0.5},\"pattern\":{\"fillmode\":\"overlay\",\"size\":10,\"solidity\":0.2}},\"type\":\"bar\"}],\"barpolar\":[{\"marker\":{\"line\":{\"color\":\"#E5ECF6\",\"width\":0.5},\"pattern\":{\"fillmode\":\"overlay\",\"size\":10,\"solidity\":0.2}},\"type\":\"barpolar\"}],\"carpet\":[{\"aaxis\":{\"endlinecolor\":\"#2a3f5f\",\"gridcolor\":\"white\",\"linecolor\":\"white\",\"minorgridcolor\":\"white\",\"startlinecolor\":\"#2a3f5f\"},\"baxis\":{\"endlinecolor\":\"#2a3f5f\",\"gridcolor\":\"white\",\"linecolor\":\"white\",\"minorgridcolor\":\"white\",\"startlinecolor\":\"#2a3f5f\"},\"type\":\"carpet\"}],\"choropleth\":[{\"colorbar\":{\"outlinewidth\":0,\"ticks\":\"\"},\"type\":\"choropleth\"}],\"contour\":[{\"colorbar\":{\"outlinewidth\":0,\"ticks\":\"\"},\"colorscale\":[[0.0,\"#0d0887\"],[0.1111111111111111,\"#46039f\"],[0.2222222222222222,\"#7201a8\"],[0.3333333333333333,\"#9c179e\"],[0.4444444444444444,\"#bd3786\"],[0.5555555555555556,\"#d8576b\"],[0.6666666666666666,\"#ed7953\"],[0.7777777777777778,\"#fb9f3a\"],[0.8888888888888888,\"#fdca26\"],[1.0,\"#f0f921\"]],\"type\":\"contour\"}],\"contourcarpet\":[{\"colorbar\":{\"outlinewidth\":0,\"ticks\":\"\"},\"type\":\"contourcarpet\"}],\"heatmap\":[{\"colorbar\":{\"outlinewidth\":0,\"ticks\":\"\"},\"colorscale\":[[0.0,\"#0d0887\"],[0.1111111111111111,\"#46039f\"],[0.2222222222222222,\"#7201a8\"],[0.3333333333333333,\"#9c179e\"],[0.4444444444444444,\"#bd3786\"],[0.5555555555555556,\"#d8576b\"],[0.6666666666666666,\"#ed7953\"],[0.7777777777777778,\"#fb9f3a\"],[0.8888888888888888,\"#fdca26\"],[1.0,\"#f0f921\"]],\"type\":\"heatmap\"}],\"heatmapgl\":[{\"colorbar\":{\"outlinewidth\":0,\"ticks\":\"\"},\"colorscale\":[[0.0,\"#0d0887\"],[0.1111111111111111,\"#46039f\"],[0.2222222222222222,\"#7201a8\"],[0.3333333333333333,\"#9c179e\"],[0.4444444444444444,\"#bd3786\"],[0.5555555555555556,\"#d8576b\"],[0.6666666666666666,\"#ed7953\"],[0.7777777777777778,\"#fb9f3a\"],[0.8888888888888888,\"#fdca26\"],[1.0,\"#f0f921\"]],\"type\":\"heatmapgl\"}],\"histogram\":[{\"marker\":{\"pattern\":{\"fillmode\":\"overlay\",\"size\":10,\"solidity\":0.2}},\"type\":\"histogram\"}],\"histogram2d\":[{\"colorbar\":{\"outlinewidth\":0,\"ticks\":\"\"},\"colorscale\":[[0.0,\"#0d0887\"],[0.1111111111111111,\"#46039f\"],[0.2222222222222222,\"#7201a8\"],[0.3333333333333333,\"#9c179e\"],[0.4444444444444444,\"#bd3786\"],[0.5555555555555556,\"#d8576b\"],[0.6666666666666666,\"#ed7953\"],[0.7777777777777778,\"#fb9f3a\"],[0.8888888888888888,\"#fdca26\"],[1.0,\"#f0f921\"]],\"type\":\"histogram2d\"}],\"histogram2dcontour\":[{\"colorbar\":{\"outlinewidth\":0,\"ticks\":\"\"},\"colorscale\":[[0.0,\"#0d0887\"],[0.1111111111111111,\"#46039f\"],[0.2222222222222222,\"#7201a8\"],[0.3333333333333333,\"#9c179e\"],[0.4444444444444444,\"#bd3786\"],[0.5555555555555556,\"#d8576b\"],[0.6666666666666666,\"#ed7953\"],[0.7777777777777778,\"#fb9f3a\"],[0.8888888888888888,\"#fdca26\"],[1.0,\"#f0f921\"]],\"type\":\"histogram2dcontour\"}],\"mesh3d\":[{\"colorbar\":{\"outlinewidth\":0,\"ticks\":\"\"},\"type\":\"mesh3d\"}],\"parcoords\":[{\"line\":{\"colorbar\":{\"outlinewidth\":0,\"ticks\":\"\"}},\"type\":\"parcoords\"}],\"pie\":[{\"automargin\":true,\"type\":\"pie\"}],\"scatter\":[{\"marker\":{\"colorbar\":{\"outlinewidth\":0,\"ticks\":\"\"}},\"type\":\"scatter\"}],\"scatter3d\":[{\"line\":{\"colorbar\":{\"outlinewidth\":0,\"ticks\":\"\"}},\"marker\":{\"colorbar\":{\"outlinewidth\":0,\"ticks\":\"\"}},\"type\":\"scatter3d\"}],\"scattercarpet\":[{\"marker\":{\"colorbar\":{\"outlinewidth\":0,\"ticks\":\"\"}},\"type\":\"scattercarpet\"}],\"scattergeo\":[{\"marker\":{\"colorbar\":{\"outlinewidth\":0,\"ticks\":\"\"}},\"type\":\"scattergeo\"}],\"scattergl\":[{\"marker\":{\"colorbar\":{\"outlinewidth\":0,\"ticks\":\"\"}},\"type\":\"scattergl\"}],\"scattermapbox\":[{\"marker\":{\"colorbar\":{\"outlinewidth\":0,\"ticks\":\"\"}},\"type\":\"scattermapbox\"}],\"scatterpolar\":[{\"marker\":{\"colorbar\":{\"outlinewidth\":0,\"ticks\":\"\"}},\"type\":\"scatterpolar\"}],\"scatterpolargl\":[{\"marker\":{\"colorbar\":{\"outlinewidth\":0,\"ticks\":\"\"}},\"type\":\"scatterpolargl\"}],\"scatterternary\":[{\"marker\":{\"colorbar\":{\"outlinewidth\":0,\"ticks\":\"\"}},\"type\":\"scatterternary\"}],\"surface\":[{\"colorbar\":{\"outlinewidth\":0,\"ticks\":\"\"},\"colorscale\":[[0.0,\"#0d0887\"],[0.1111111111111111,\"#46039f\"],[0.2222222222222222,\"#7201a8\"],[0.3333333333333333,\"#9c179e\"],[0.4444444444444444,\"#bd3786\"],[0.5555555555555556,\"#d8576b\"],[0.6666666666666666,\"#ed7953\"],[0.7777777777777778,\"#fb9f3a\"],[0.8888888888888888,\"#fdca26\"],[1.0,\"#f0f921\"]],\"type\":\"surface\"}],\"table\":[{\"cells\":{\"fill\":{\"color\":\"#EBF0F8\"},\"line\":{\"color\":\"white\"}},\"header\":{\"fill\":{\"color\":\"#C8D4E3\"},\"line\":{\"color\":\"white\"}},\"type\":\"table\"}]},\"layout\":{\"annotationdefaults\":{\"arrowcolor\":\"#2a3f5f\",\"arrowhead\":0,\"arrowwidth\":1},\"autotypenumbers\":\"strict\",\"coloraxis\":{\"colorbar\":{\"outlinewidth\":0,\"ticks\":\"\"}},\"colorscale\":{\"diverging\":[[0,\"#8e0152\"],[0.1,\"#c51b7d\"],[0.2,\"#de77ae\"],[0.3,\"#f1b6da\"],[0.4,\"#fde0ef\"],[0.5,\"#f7f7f7\"],[0.6,\"#e6f5d0\"],[0.7,\"#b8e186\"],[0.8,\"#7fbc41\"],[0.9,\"#4d9221\"],[1,\"#276419\"]],\"sequential\":[[0.0,\"#0d0887\"],[0.1111111111111111,\"#46039f\"],[0.2222222222222222,\"#7201a8\"],[0.3333333333333333,\"#9c179e\"],[0.4444444444444444,\"#bd3786\"],[0.5555555555555556,\"#d8576b\"],[0.6666666666666666,\"#ed7953\"],[0.7777777777777778,\"#fb9f3a\"],[0.8888888888888888,\"#fdca26\"],[1.0,\"#f0f921\"]],\"sequentialminus\":[[0.0,\"#0d0887\"],[0.1111111111111111,\"#46039f\"],[0.2222222222222222,\"#7201a8\"],[0.3333333333333333,\"#9c179e\"],[0.4444444444444444,\"#bd3786\"],[0.5555555555555556,\"#d8576b\"],[0.6666666666666666,\"#ed7953\"],[0.7777777777777778,\"#fb9f3a\"],[0.8888888888888888,\"#fdca26\"],[1.0,\"#f0f921\"]]},\"colorway\":[\"#636efa\",\"#EF553B\",\"#00cc96\",\"#ab63fa\",\"#FFA15A\",\"#19d3f3\",\"#FF6692\",\"#B6E880\",\"#FF97FF\",\"#FECB52\"],\"font\":{\"color\":\"#2a3f5f\"},\"geo\":{\"bgcolor\":\"white\",\"lakecolor\":\"white\",\"landcolor\":\"#E5ECF6\",\"showlakes\":true,\"showland\":true,\"subunitcolor\":\"white\"},\"hoverlabel\":{\"align\":\"left\"},\"hovermode\":\"closest\",\"mapbox\":{\"style\":\"light\"},\"paper_bgcolor\":\"white\",\"plot_bgcolor\":\"#E5ECF6\",\"polar\":{\"angularaxis\":{\"gridcolor\":\"white\",\"linecolor\":\"white\",\"ticks\":\"\"},\"bgcolor\":\"#E5ECF6\",\"radialaxis\":{\"gridcolor\":\"white\",\"linecolor\":\"white\",\"ticks\":\"\"}},\"scene\":{\"xaxis\":{\"backgroundcolor\":\"#E5ECF6\",\"gridcolor\":\"white\",\"gridwidth\":2,\"linecolor\":\"white\",\"showbackground\":true,\"ticks\":\"\",\"zerolinecolor\":\"white\"},\"yaxis\":{\"backgroundcolor\":\"#E5ECF6\",\"gridcolor\":\"white\",\"gridwidth\":2,\"linecolor\":\"white\",\"showbackground\":true,\"ticks\":\"\",\"zerolinecolor\":\"white\"},\"zaxis\":{\"backgroundcolor\":\"#E5ECF6\",\"gridcolor\":\"white\",\"gridwidth\":2,\"linecolor\":\"white\",\"showbackground\":true,\"ticks\":\"\",\"zerolinecolor\":\"white\"}},\"shapedefaults\":{\"line\":{\"color\":\"#2a3f5f\"}},\"ternary\":{\"aaxis\":{\"gridcolor\":\"white\",\"linecolor\":\"white\",\"ticks\":\"\"},\"baxis\":{\"gridcolor\":\"white\",\"linecolor\":\"white\",\"ticks\":\"\"},\"bgcolor\":\"#E5ECF6\",\"caxis\":{\"gridcolor\":\"white\",\"linecolor\":\"white\",\"ticks\":\"\"}},\"title\":{\"x\":0.05},\"xaxis\":{\"automargin\":true,\"gridcolor\":\"white\",\"linecolor\":\"white\",\"ticks\":\"\",\"title\":{\"standoff\":15},\"zerolinecolor\":\"white\",\"zerolinewidth\":2},\"yaxis\":{\"automargin\":true,\"gridcolor\":\"white\",\"linecolor\":\"white\",\"ticks\":\"\",\"title\":{\"standoff\":15},\"zerolinecolor\":\"white\",\"zerolinewidth\":2}}},\"scene\":{\"domain\":{\"x\":[0.0,1.0],\"y\":[0.0,1.0]},\"xaxis\":{\"title\":{\"text\":\"0\"}},\"yaxis\":{\"title\":{\"text\":\"1\"}},\"zaxis\":{\"title\":{\"text\":\"2\"}}},\"coloraxis\":{\"colorbar\":{\"title\":{\"text\":\"yh\"}},\"colorscale\":[[0.0,\"#0d0887\"],[0.1111111111111111,\"#46039f\"],[0.2222222222222222,\"#7201a8\"],[0.3333333333333333,\"#9c179e\"],[0.4444444444444444,\"#bd3786\"],[0.5555555555555556,\"#d8576b\"],[0.6666666666666666,\"#ed7953\"],[0.7777777777777778,\"#fb9f3a\"],[0.8888888888888888,\"#fdca26\"],[1.0,\"#f0f921\"]]},\"legend\":{\"tracegroupgap\":0},\"margin\":{\"t\":60}},                        {\"responsive\": true}                    ).then(function(){\n",
              "                            \n",
              "var gd = document.getElementById('44b31fff-eba8-40c0-9d79-1b8e1afa9c01');\n",
              "var x = new MutationObserver(function (mutations, observer) {{\n",
              "        var display = window.getComputedStyle(gd).display;\n",
              "        if (!display || display === 'none') {{\n",
              "            console.log([gd, 'removed!']);\n",
              "            Plotly.purge(gd);\n",
              "            observer.disconnect();\n",
              "        }}\n",
              "}});\n",
              "\n",
              "// Listen for the removal of the full notebook cells\n",
              "var notebookContainer = gd.closest('#notebook-container');\n",
              "if (notebookContainer) {{\n",
              "    x.observe(notebookContainer, {childList: true});\n",
              "}}\n",
              "\n",
              "// Listen for the clearing of the current output cell\n",
              "var outputEl = gd.closest('.output');\n",
              "if (outputEl) {{\n",
              "    x.observe(outputEl, {childList: true});\n",
              "}}\n",
              "\n",
              "                        })                };                            </script>        </div>\n",
              "</body>\n",
              "</html>"
            ]
          },
          "metadata": {}
        },
        {
          "output_type": "stream",
          "name": "stdout",
          "text": [
            "kmeans_AR_pred\n",
            " [5 4 0 3 0 0 1 6 1 1 1 4 1 5 2 5 6 0 4 5 6 4 2 2 4 5 2 5 6 3 1 6 5 5 2 5 1\n",
            " 1 7 0 5 0 0 2 1 6 3 5 1 1 0 6 1 5 7 3 5 4 4 3 0 4 1 5 5 6 4 5 6 2 0 1 0 3\n",
            " 5 4 0 1 1 6 5 6 0 1 0 5 0 5 5 3 4 3 3 1 0 0 1 6 4 0 3 1 5 0 0 1 3 5 0 3 6\n",
            " 6 4 3 6 6 7 4 4 6 5 5 0 0 5 1 6 2 3 2 0 1 5 6 5 1 0 0 3 7 4 0 6 5 0 5 5 4\n",
            " 6 0 7 4 5 5 5 5 1 4 3 5 3 5 3 5 0 6 7 6 0 4 6 4 6 0 2 1 2 2 3 1 1 5 6 5 3\n",
            " 5 1 1 4 0 0 4 5 6 4 1 6 4 0 4 2 5 0 3 5 5 6 1 2 3 5 4 6 4 0 7 3 5 4 3 5 5\n",
            " 5 4 6 3 1 0 1 7 1 5 1 7 0 1 0 0 6 0 4 4 6 1 2 0 0 7 7 0 1 7 1 5 1 0 1 4 0\n",
            " 7 0 5 5 0 3 1 5 0 2 2 6 4 0 5 1 1 0 5 0 4 0 1 5 1 0 6 1 4 0 4 1 5 6 4 3 4\n",
            " 4 0 5 1 0 0 5 6 6 3 1 7 4 5 2 1 5 4 4 1 5 7 3 1 7 2 5 1 0 0 1 4 0 0 6 0 1\n",
            " 0 3 1 1 5 5 0 0 1 0 0 6 7 1 5 3 3 7 3 5 7 3 3 3 6 3 6 5 0 0 4 6 4 4 4 2 1\n",
            " 4 4 6 3 0 2 0 4 2 5 1 3 5 6 1 2 2 0 1 1 5 6 7 3 5 7 0 5 5 6 0 3 7 6 5 5 2\n",
            " 0 1 0 0 3 6 2 0 5 4 1 4 5 0 6 3 0 2 3 1 1 6 6 3 0 5 5 1 5 4 6 3 6 4 6 1 0\n",
            " 6 4 1 6 7 5 1 0 0 3 1 0 4 3 1 5 3 7 6 5 0 5 0 0 3 1 7 5 0 6 4 5 5 6 4 1 0\n",
            " 1 4 5 0 4 6 6 0 7 3 6 4 1 0 4 4 6 4 0 5 7 5 0 7 2 6 1 4 3] \n",
            " kmeans_PCA_pred\n",
            " [3 0 4 3 2 4 1 2 1 1 1 0 1 3 5 3 2 4 0 3 1 0 5 5 0 3 5 3 1 3 1 1 3 3 5 3 1\n",
            " 1 4 2 3 4 4 5 1 1 3 3 1 1 2 2 1 3 4 3 1 0 0 3 4 0 1 3 3 1 0 3 2 5 4 1 4 3\n",
            " 3 0 4 1 1 2 3 2 4 1 4 3 2 3 3 3 0 3 3 1 2 2 1 1 0 4 3 1 3 4 4 1 3 3 4 3 1\n",
            " 2 0 3 2 2 4 0 0 2 3 3 2 4 3 1 2 5 3 5 4 1 3 1 3 1 4 2 3 4 0 4 2 3 2 3 3 0\n",
            " 1 4 4 0 3 3 3 1 1 0 3 3 3 3 3 3 2 2 4 1 4 0 1 0 2 2 5 1 5 5 3 1 1 3 1 3 3\n",
            " 3 1 1 0 4 4 0 3 1 0 1 1 0 4 0 5 3 4 3 3 3 1 1 5 3 3 0 1 0 4 4 3 3 0 3 3 3\n",
            " 3 0 2 3 1 4 1 4 1 3 1 4 4 1 4 2 2 4 0 0 1 1 5 4 4 4 4 2 1 4 1 3 1 4 1 0 4\n",
            " 4 2 3 3 4 3 1 3 4 5 5 1 0 4 3 1 1 2 3 4 0 4 1 3 1 4 1 1 0 4 0 1 3 2 0 3 0\n",
            " 0 2 3 1 4 4 3 2 1 3 1 4 0 3 5 1 3 0 0 1 3 4 3 1 4 5 3 1 4 4 1 0 4 4 1 4 1\n",
            " 4 3 1 1 3 3 4 2 1 2 2 1 4 1 1 3 3 4 3 3 4 3 3 3 2 3 1 3 2 2 0 2 0 0 0 5 1\n",
            " 0 0 1 3 2 5 2 0 5 3 1 3 3 1 1 5 5 4 1 1 3 2 4 3 3 4 4 3 3 2 4 3 4 2 3 3 5\n",
            " 4 1 4 4 3 2 5 2 3 0 1 0 3 4 2 3 4 5 3 1 1 2 1 3 4 3 3 1 3 0 2 3 1 0 1 1 2\n",
            " 1 0 1 2 4 3 1 4 4 3 1 4 0 3 1 3 3 4 1 3 4 3 4 4 3 1 4 3 4 1 0 3 3 1 0 1 4\n",
            " 1 0 3 4 0 2 1 2 4 3 1 0 1 2 0 0 1 0 2 3 4 3 2 4 5 2 1 0 3]\n"
          ]
        }
      ],
      "source": [
        "#KMeans model\n",
        "\n",
        "import plotly.express as px\n",
        "\n",
        "# AR\n",
        "kmeans_AR = KMeans(n_clusters=8, random_state=0).fit(X_train_AR)\n",
        "kmeans_AR.labels_\n",
        "kmeans_AR_pred = kmeans_AR.predict(X_test_AR)\n",
        "\n",
        "# list_of_tuples = list(zip(kmeans_AR_pred, X_test_AR))\n",
        "\n",
        "df = pd.DataFrame(X_test_AR)\n",
        "df['yh'] = kmeans_AR_pred \n",
        "\n",
        "\n",
        "fig1 = px.scatter_3d(df, x = 0, y = 1, z = 2, color='yh')\n",
        "\n",
        "fig1.show()\n",
        "\n",
        "# X_embedded = TSNE(n_components=2, learning_rate='auto',\n",
        "#                   init='random').fit_transform(X)\n",
        "\n",
        "# PCA\n",
        "kmeans_PCA = KMeans(n_clusters=6, random_state=0).fit(X_train_PCA)\n",
        "kmeans_PCA.labels_\n",
        "kmeans_PCA_pred = kmeans_PCA.predict(X_test_PCA)\n",
        "\n",
        "\n",
        "\n",
        "print('kmeans_AR_pred\\n', kmeans_AR_pred, '\\n kmeans_PCA_pred\\n', kmeans_PCA_pred)\n"
      ]
    },
    {
      "cell_type": "code",
      "execution_count": 29,
      "metadata": {
        "id": "JE4ci3QupeEX"
      },
      "outputs": [],
      "source": [
        "##TSNE\n",
        "\n",
        "#AR\n",
        "X_embedded_AR = TSNE(n_components=3, learning_rate='auto', init='random').fit_transform(X1_train)\n",
        "\n",
        "df = pd.DataFrame(X_embedded_AR)\n",
        "df['yh']=y\n",
        "\n",
        "# fig1 = px.scatter_3d(df, x = 0, y = 1, z = 2, color='yh')\n",
        "\n",
        "# fig1.show()\n",
        "\n",
        "#PCA\n",
        "\n",
        "X_embedded_PCA = TSNE(n_components=3, learning_rate='auto', init='random').fit_transform(X2_train)\n",
        "\n",
        "df = pd.DataFrame(X_embedded_PCA)\n",
        "df['yh']=y\n",
        "\n",
        "# fig2 = px.scatter_3d(df, x = 0, y = 1, z = 2, color='yh')\n",
        "\n",
        "# fig2.show()"
      ]
    },
    {
      "cell_type": "code",
      "execution_count": 30,
      "metadata": {
        "id": "ipMjAFmgpeEY",
        "outputId": "10c49e54-07c4-4c6a-dd77-dc9913425b98",
        "colab": {
          "base_uri": "https://localhost:8080/"
        }
      },
      "outputs": [
        {
          "output_type": "stream",
          "name": "stdout",
          "text": [
            "OC_AR_pred \n",
            " [ 1  1  1  1  1  1  1  1  1  1  1  1 -1  1  1  1  1  1  1  1  1  1  1  1\n",
            "  1  1  1  1  1  1  1  1  1  1  1  1  1  1  1  1  1  1  1  1  1  1  1  1\n",
            "  1  1  1  1  1  1  1  1  1  1  1  1  1  1  1  1  1  1  1  1  1  1 -1  1\n",
            "  1  1  1  1  1  1  1  1  1  1  1  1  1  1  1  1  1  1  1  1  1  1 -1  1\n",
            "  1  1  1  1  1  1  1  1  1  1 -1  1  1  1  1  1  1  1  1  1  1  1  1  1\n",
            "  1  1  1  1  1  1  1  1  1  1  1  1  1  1  1  1  1  1  1  1 -1  1  1  1\n",
            "  1  1  1  1  1  1  1  1  1 -1  1  1  1  1  1  1  1  1  1  1  1  1  1  1\n",
            "  1  1  1  1  1  1  1 -1  1  1  1 -1  1  1  1  1  1  1  1  1  1  1  1  1\n",
            "  1  1  1  1  1  1  1  1  1  1  1  1  1  1  1  1  1  1  1  1  1  1  1  1\n",
            "  1 -1  1  1  1  1  1  1  1  1  1  1  1  1  1  1  1  1  1  1  1  1  1  1\n",
            " -1  1  1  1  1  1  1  1  1  1  1  1  1  1  1  1  1  1  1  1  1  1  1  1\n",
            "  1  1  1  1  1  1  1  1  1  1  1  1  1  1  1  1  1  1  1  1 -1  1  1  1\n",
            "  1  1  1  1  1  1  1  1  1  1  1  1  1  1  1  1  1  1  1  1  1  1  1  1\n",
            "  1  1  1  1  1  1  1  1  1  1  1  1  1  1  1  1  1 -1  1  1  1  1  1  1\n",
            "  1  1  1  1] \n",
            "OC_PCA_pred\n",
            " [ 1  1  1  1  1  1  1  1  1  1  1  1  1  1  1  1  1 -1  1  1  1  1  1  1\n",
            "  1  1  1  1  1  1  1  1  1 -1  1  1  1  1  1  1  1  1  1  1  1  1  1  1\n",
            "  1  1  1  1  1  1  1  1  1  1  1  1  1 -1  1  1  1  1  1  1  1  1  1 -1\n",
            "  1  1  1  1  1  1  1  1  1  1  1  1  1  1  1  1  1  1 -1  1  1  1  1  1\n",
            "  1  1  1  1  1  1  1  1  1  1  1  1  1  1  1  1  1  1  1  1  1  1  1  1\n",
            "  1  1 -1  1  1  1  1  1  1  1  1  1  1  1  1  1  1  1  1  1 -1  1  1  1\n",
            "  1  1  1 -1  1  1  1  1  1 -1  1  1  1  1  1  1  1  1  1  1  1  1  1  1\n",
            "  1  1  1  1  1  1  1  1  1  1  1  1  1  1  1  1  1  1  1  1  1  1  1  1\n",
            "  1  1  1  1  1  1  1  1  1  1  1  1  1  1  1  1  1  1  1  1  1  1  1  1\n",
            "  1  1  1  1  1  1  1  1  1  1  1  1  1  1  1  1  1  1  1  1  1  1  1  1\n",
            " -1  1  1  1  1  1  1  1  1  1  1  1  1  1  1 -1  1  1  1  1  1  1  1  1\n",
            "  1  1  1  1  1  1  1  1  1  1  1  1  1  1  1  1 -1  1  1  1 -1  1  1  1\n",
            "  1 -1  1  1  1  1  1  1  1  1  1  1  1  1  1  1  1  1  1  1  1  1  1  1\n",
            "  1  1  1  1  1  1  1  1  1  1  1  1  1  1  1  1  1  1  1  1  1  1  1  1\n",
            "  1  1  1  1]\n"
          ]
        }
      ],
      "source": [
        "#One Class SVM\n",
        "\n",
        "#AR\n",
        "clf_AR = OneClassSVM(gamma='scale',nu=0.01).fit(X_train_AR)\n",
        "OC_AR_pred = clf_AR.predict(X_train_AR)\n",
        "\n",
        "\n",
        "#PCA\n",
        "clf_PCA = OneClassSVM(gamma='scale',nu=0.01).fit(X_train_PCA)\n",
        "OC_PCA_pred = clf_PCA.predict(X_train_PCA)\n",
        "\n",
        "print('OC_AR_pred \\n',OC_AR_pred,'\\nOC_PCA_pred\\n',OC_PCA_pred)\n"
      ]
    },
    {
      "cell_type": "markdown",
      "source": [
        "## DEEP LEARNING"
      ],
      "metadata": {
        "id": "9Hor-KVayK34"
      }
    },
    {
      "cell_type": "code",
      "execution_count": 39,
      "metadata": {
        "id": "DwJD50H3peEY",
        "colab": {
          "base_uri": "https://localhost:8080/"
        },
        "outputId": "ee5bdd9d-99d3-49b9-e907-ad63e28e80cb"
      },
      "outputs": [
        {
          "output_type": "stream",
          "name": "stdout",
          "text": [
            "Epoch 1/150\n",
            "34/34 [==============================] - 0s 2ms/step - loss: -37.1420 - accuracy: 0.0500\n",
            "Epoch 2/150\n",
            "34/34 [==============================] - 0s 2ms/step - loss: -177.7708 - accuracy: 0.0588\n",
            "Epoch 3/150\n",
            "34/34 [==============================] - 0s 2ms/step - loss: -505.4512 - accuracy: 0.0588\n",
            "Epoch 4/150\n",
            "34/34 [==============================] - 0s 2ms/step - loss: -1132.1854 - accuracy: 0.0588\n",
            "Epoch 5/150\n",
            "34/34 [==============================] - 0s 2ms/step - loss: -2192.7495 - accuracy: 0.0588\n",
            "Epoch 6/150\n",
            "34/34 [==============================] - 0s 2ms/step - loss: -3787.8044 - accuracy: 0.0588\n",
            "Epoch 7/150\n",
            "34/34 [==============================] - 0s 2ms/step - loss: -6060.0815 - accuracy: 0.0588\n",
            "Epoch 8/150\n",
            "34/34 [==============================] - 0s 2ms/step - loss: -9169.5361 - accuracy: 0.0588\n",
            "Epoch 9/150\n",
            "34/34 [==============================] - 0s 2ms/step - loss: -13231.0459 - accuracy: 0.0588\n",
            "Epoch 10/150\n",
            "34/34 [==============================] - 0s 2ms/step - loss: -18404.7910 - accuracy: 0.0588\n",
            "Epoch 11/150\n",
            "34/34 [==============================] - 0s 2ms/step - loss: -24766.3848 - accuracy: 0.0588\n",
            "Epoch 12/150\n",
            "34/34 [==============================] - 0s 2ms/step - loss: -32272.8770 - accuracy: 0.0588\n",
            "Epoch 13/150\n",
            "34/34 [==============================] - 0s 2ms/step - loss: -41449.5039 - accuracy: 0.0588\n",
            "Epoch 14/150\n",
            "34/34 [==============================] - 0s 2ms/step - loss: -51826.3008 - accuracy: 0.0588\n",
            "Epoch 15/150\n",
            "34/34 [==============================] - 0s 2ms/step - loss: -63684.1758 - accuracy: 0.0588\n",
            "Epoch 16/150\n",
            "34/34 [==============================] - 0s 2ms/step - loss: -77450.7109 - accuracy: 0.0588\n",
            "Epoch 17/150\n",
            "34/34 [==============================] - 0s 3ms/step - loss: -92976.4297 - accuracy: 0.0588\n",
            "Epoch 18/150\n",
            "34/34 [==============================] - 0s 2ms/step - loss: -110123.2031 - accuracy: 0.0588\n",
            "Epoch 19/150\n",
            "34/34 [==============================] - 0s 2ms/step - loss: -129302.5625 - accuracy: 0.0588\n",
            "Epoch 20/150\n",
            "34/34 [==============================] - 0s 2ms/step - loss: -150451.1875 - accuracy: 0.0588\n",
            "Epoch 21/150\n",
            "34/34 [==============================] - 0s 2ms/step - loss: -173818.8125 - accuracy: 0.0588\n",
            "Epoch 22/150\n",
            "34/34 [==============================] - 0s 2ms/step - loss: -198789.1719 - accuracy: 0.0588\n",
            "Epoch 23/150\n",
            "34/34 [==============================] - 0s 2ms/step - loss: -226418.5000 - accuracy: 0.0588\n",
            "Epoch 24/150\n",
            "34/34 [==============================] - 0s 2ms/step - loss: -256296.3125 - accuracy: 0.0588\n",
            "Epoch 25/150\n",
            "34/34 [==============================] - 0s 2ms/step - loss: -288140.4375 - accuracy: 0.0588\n",
            "Epoch 26/150\n",
            "34/34 [==============================] - 0s 2ms/step - loss: -322825.3750 - accuracy: 0.0588\n",
            "Epoch 27/150\n",
            "34/34 [==============================] - 0s 2ms/step - loss: -359447.9688 - accuracy: 0.0588\n",
            "Epoch 28/150\n",
            "34/34 [==============================] - 0s 2ms/step - loss: -398556.3750 - accuracy: 0.0588\n",
            "Epoch 29/150\n",
            "34/34 [==============================] - 0s 2ms/step - loss: -441078.7188 - accuracy: 0.0588\n",
            "Epoch 30/150\n",
            "34/34 [==============================] - 0s 2ms/step - loss: -484990.5000 - accuracy: 0.0588\n",
            "Epoch 31/150\n",
            "34/34 [==============================] - 0s 2ms/step - loss: -532642.8125 - accuracy: 0.0588\n",
            "Epoch 32/150\n",
            "34/34 [==============================] - 0s 2ms/step - loss: -582323.9375 - accuracy: 0.0588\n",
            "Epoch 33/150\n",
            "34/34 [==============================] - 0s 2ms/step - loss: -634699.5000 - accuracy: 0.0588\n",
            "Epoch 34/150\n",
            "34/34 [==============================] - 0s 2ms/step - loss: -690106.9375 - accuracy: 0.0588\n",
            "Epoch 35/150\n",
            "34/34 [==============================] - 0s 2ms/step - loss: -748287.6875 - accuracy: 0.0588\n",
            "Epoch 36/150\n",
            "34/34 [==============================] - 0s 2ms/step - loss: -809295.8750 - accuracy: 0.0588\n",
            "Epoch 37/150\n",
            "34/34 [==============================] - 0s 2ms/step - loss: -872367.0625 - accuracy: 0.0588\n",
            "Epoch 38/150\n",
            "34/34 [==============================] - 0s 2ms/step - loss: -939626.0625 - accuracy: 0.0588\n",
            "Epoch 39/150\n",
            "34/34 [==============================] - 0s 2ms/step - loss: -1010187.7500 - accuracy: 0.0588\n",
            "Epoch 40/150\n",
            "34/34 [==============================] - 0s 2ms/step - loss: -1081643.7500 - accuracy: 0.0588\n",
            "Epoch 41/150\n",
            "34/34 [==============================] - 0s 2ms/step - loss: -1158625.3750 - accuracy: 0.0588\n",
            "Epoch 42/150\n",
            "34/34 [==============================] - 0s 2ms/step - loss: -1237685.6250 - accuracy: 0.0588\n",
            "Epoch 43/150\n",
            "34/34 [==============================] - 0s 2ms/step - loss: -1318711.2500 - accuracy: 0.0588\n",
            "Epoch 44/150\n",
            "34/34 [==============================] - 0s 2ms/step - loss: -1404775.2500 - accuracy: 0.0588\n",
            "Epoch 45/150\n",
            "34/34 [==============================] - 0s 2ms/step - loss: -1493377.7500 - accuracy: 0.0588\n",
            "Epoch 46/150\n",
            "34/34 [==============================] - 0s 2ms/step - loss: -1584974.8750 - accuracy: 0.0588\n",
            "Epoch 47/150\n",
            "34/34 [==============================] - 0s 2ms/step - loss: -1680066.6250 - accuracy: 0.0588\n",
            "Epoch 48/150\n",
            "34/34 [==============================] - 0s 2ms/step - loss: -1778148.8750 - accuracy: 0.0588\n",
            "Epoch 49/150\n",
            "34/34 [==============================] - 0s 2ms/step - loss: -1879686.3750 - accuracy: 0.0588\n",
            "Epoch 50/150\n",
            "34/34 [==============================] - 0s 2ms/step - loss: -1984433.3750 - accuracy: 0.0588\n",
            "Epoch 51/150\n",
            "34/34 [==============================] - 0s 2ms/step - loss: -2093651.6250 - accuracy: 0.0588\n",
            "Epoch 52/150\n",
            "34/34 [==============================] - 0s 2ms/step - loss: -2204072.7500 - accuracy: 0.0588\n",
            "Epoch 53/150\n",
            "34/34 [==============================] - 0s 2ms/step - loss: -2318872.7500 - accuracy: 0.0588\n",
            "Epoch 54/150\n",
            "34/34 [==============================] - 0s 2ms/step - loss: -2438679.5000 - accuracy: 0.0588\n",
            "Epoch 55/150\n",
            "34/34 [==============================] - 0s 2ms/step - loss: -2557513.2500 - accuracy: 0.0588\n",
            "Epoch 56/150\n",
            "34/34 [==============================] - 0s 2ms/step - loss: -2685843.7500 - accuracy: 0.0588\n",
            "Epoch 57/150\n",
            "34/34 [==============================] - 0s 2ms/step - loss: -2814692.2500 - accuracy: 0.0588\n",
            "Epoch 58/150\n",
            "34/34 [==============================] - 0s 2ms/step - loss: -2945989.2500 - accuracy: 0.0588\n",
            "Epoch 59/150\n",
            "34/34 [==============================] - 0s 2ms/step - loss: -3083382.2500 - accuracy: 0.0588\n",
            "Epoch 60/150\n",
            "34/34 [==============================] - 0s 2ms/step - loss: -3223669.5000 - accuracy: 0.0588\n",
            "Epoch 61/150\n",
            "34/34 [==============================] - 0s 2ms/step - loss: -3366709.5000 - accuracy: 0.0588\n",
            "Epoch 62/150\n",
            "34/34 [==============================] - 0s 2ms/step - loss: -3513730.0000 - accuracy: 0.0588\n",
            "Epoch 63/150\n",
            "34/34 [==============================] - 0s 2ms/step - loss: -3665281.2500 - accuracy: 0.0588\n",
            "Epoch 64/150\n",
            "34/34 [==============================] - 0s 2ms/step - loss: -3820147.5000 - accuracy: 0.0588\n",
            "Epoch 65/150\n",
            "34/34 [==============================] - 0s 2ms/step - loss: -3978315.2500 - accuracy: 0.0588\n",
            "Epoch 66/150\n",
            "34/34 [==============================] - 0s 2ms/step - loss: -4141074.0000 - accuracy: 0.0588\n",
            "Epoch 67/150\n",
            "34/34 [==============================] - 0s 2ms/step - loss: -4304457.5000 - accuracy: 0.0588\n",
            "Epoch 68/150\n",
            "34/34 [==============================] - 0s 2ms/step - loss: -4476095.0000 - accuracy: 0.0588\n",
            "Epoch 69/150\n",
            "34/34 [==============================] - 0s 2ms/step - loss: -4648505.0000 - accuracy: 0.0588\n",
            "Epoch 70/150\n",
            "34/34 [==============================] - 0s 2ms/step - loss: -4825694.0000 - accuracy: 0.0588\n",
            "Epoch 71/150\n",
            "34/34 [==============================] - 0s 2ms/step - loss: -5008183.5000 - accuracy: 0.0588\n",
            "Epoch 72/150\n",
            "34/34 [==============================] - 0s 2ms/step - loss: -5189834.0000 - accuracy: 0.0588\n",
            "Epoch 73/150\n",
            "34/34 [==============================] - 0s 2ms/step - loss: -5381677.5000 - accuracy: 0.0588\n",
            "Epoch 74/150\n",
            "34/34 [==============================] - 0s 2ms/step - loss: -5573112.0000 - accuracy: 0.0588\n",
            "Epoch 75/150\n",
            "34/34 [==============================] - 0s 2ms/step - loss: -5769961.0000 - accuracy: 0.0588\n",
            "Epoch 76/150\n",
            "34/34 [==============================] - 0s 2ms/step - loss: -5968095.0000 - accuracy: 0.0588\n",
            "Epoch 77/150\n",
            "34/34 [==============================] - 0s 2ms/step - loss: -6177111.5000 - accuracy: 0.0588\n",
            "Epoch 78/150\n",
            "34/34 [==============================] - 0s 2ms/step - loss: -6382026.0000 - accuracy: 0.0588\n",
            "Epoch 79/150\n",
            "34/34 [==============================] - 0s 2ms/step - loss: -6596252.0000 - accuracy: 0.0588\n",
            "Epoch 80/150\n",
            "34/34 [==============================] - 0s 2ms/step - loss: -6811124.0000 - accuracy: 0.0588\n",
            "Epoch 81/150\n",
            "34/34 [==============================] - 0s 2ms/step - loss: -7031125.0000 - accuracy: 0.0588\n",
            "Epoch 82/150\n",
            "34/34 [==============================] - 0s 2ms/step - loss: -7254365.5000 - accuracy: 0.0588\n",
            "Epoch 83/150\n",
            "34/34 [==============================] - 0s 3ms/step - loss: -7483466.5000 - accuracy: 0.0588\n",
            "Epoch 84/150\n",
            "34/34 [==============================] - 0s 2ms/step - loss: -7715228.0000 - accuracy: 0.0588\n",
            "Epoch 85/150\n",
            "34/34 [==============================] - 0s 2ms/step - loss: -7951541.5000 - accuracy: 0.0588\n",
            "Epoch 86/150\n",
            "34/34 [==============================] - 0s 2ms/step - loss: -8191546.5000 - accuracy: 0.0588\n",
            "Epoch 87/150\n",
            "34/34 [==============================] - 0s 2ms/step - loss: -8431985.0000 - accuracy: 0.0588\n",
            "Epoch 88/150\n",
            "34/34 [==============================] - 0s 2ms/step - loss: -8681710.0000 - accuracy: 0.0588\n",
            "Epoch 89/150\n",
            "34/34 [==============================] - 0s 2ms/step - loss: -8933083.0000 - accuracy: 0.0588\n",
            "Epoch 90/150\n",
            "34/34 [==============================] - 0s 2ms/step - loss: -9190781.0000 - accuracy: 0.0588\n",
            "Epoch 91/150\n",
            "34/34 [==============================] - 0s 2ms/step - loss: -9450148.0000 - accuracy: 0.0588\n",
            "Epoch 92/150\n",
            "34/34 [==============================] - 0s 2ms/step - loss: -9712443.0000 - accuracy: 0.0588\n",
            "Epoch 93/150\n",
            "34/34 [==============================] - 0s 2ms/step - loss: -9985330.0000 - accuracy: 0.0588\n",
            "Epoch 94/150\n",
            "34/34 [==============================] - 0s 2ms/step - loss: -10255622.0000 - accuracy: 0.0588\n",
            "Epoch 95/150\n",
            "34/34 [==============================] - 0s 2ms/step - loss: -10532296.0000 - accuracy: 0.0588\n",
            "Epoch 96/150\n",
            "34/34 [==============================] - 0s 2ms/step - loss: -10814033.0000 - accuracy: 0.0588\n",
            "Epoch 97/150\n",
            "34/34 [==============================] - 0s 2ms/step - loss: -11100961.0000 - accuracy: 0.0588\n",
            "Epoch 98/150\n",
            "34/34 [==============================] - 0s 2ms/step - loss: -11390034.0000 - accuracy: 0.0588\n",
            "Epoch 99/150\n",
            "34/34 [==============================] - 0s 2ms/step - loss: -11685417.0000 - accuracy: 0.0588\n",
            "Epoch 100/150\n",
            "34/34 [==============================] - 0s 2ms/step - loss: -11983813.0000 - accuracy: 0.0588\n",
            "Epoch 101/150\n",
            "34/34 [==============================] - 0s 2ms/step - loss: -12289277.0000 - accuracy: 0.0588\n",
            "Epoch 102/150\n",
            "34/34 [==============================] - 0s 2ms/step - loss: -12591161.0000 - accuracy: 0.0588\n",
            "Epoch 103/150\n",
            "34/34 [==============================] - 0s 2ms/step - loss: -12910116.0000 - accuracy: 0.0588\n",
            "Epoch 104/150\n",
            "34/34 [==============================] - 0s 2ms/step - loss: -13221563.0000 - accuracy: 0.0588\n",
            "Epoch 105/150\n",
            "34/34 [==============================] - 0s 2ms/step - loss: -13545903.0000 - accuracy: 0.0588\n",
            "Epoch 106/150\n",
            "34/34 [==============================] - 0s 2ms/step - loss: -13865088.0000 - accuracy: 0.0588\n",
            "Epoch 107/150\n",
            "34/34 [==============================] - 0s 2ms/step - loss: -14199941.0000 - accuracy: 0.0588\n",
            "Epoch 108/150\n",
            "34/34 [==============================] - 0s 2ms/step - loss: -14531587.0000 - accuracy: 0.0588\n",
            "Epoch 109/150\n",
            "34/34 [==============================] - 0s 2ms/step - loss: -14867921.0000 - accuracy: 0.0588\n",
            "Epoch 110/150\n",
            "34/34 [==============================] - 0s 2ms/step - loss: -15212157.0000 - accuracy: 0.0588\n",
            "Epoch 111/150\n",
            "34/34 [==============================] - 0s 2ms/step - loss: -15560419.0000 - accuracy: 0.0588\n",
            "Epoch 112/150\n",
            "34/34 [==============================] - 0s 2ms/step - loss: -15905959.0000 - accuracy: 0.0588\n",
            "Epoch 113/150\n",
            "34/34 [==============================] - 0s 2ms/step - loss: -16268317.0000 - accuracy: 0.0588\n",
            "Epoch 114/150\n",
            "34/34 [==============================] - 0s 2ms/step - loss: -16622377.0000 - accuracy: 0.0588\n",
            "Epoch 115/150\n",
            "34/34 [==============================] - 0s 2ms/step - loss: -16989220.0000 - accuracy: 0.0588\n",
            "Epoch 116/150\n",
            "34/34 [==============================] - 0s 2ms/step - loss: -17358242.0000 - accuracy: 0.0588\n",
            "Epoch 117/150\n",
            "34/34 [==============================] - 0s 2ms/step - loss: -17732032.0000 - accuracy: 0.0588\n",
            "Epoch 118/150\n",
            "34/34 [==============================] - 0s 2ms/step - loss: -18110642.0000 - accuracy: 0.0588\n",
            "Epoch 119/150\n",
            "34/34 [==============================] - 0s 2ms/step - loss: -18490232.0000 - accuracy: 0.0588\n",
            "Epoch 120/150\n",
            "34/34 [==============================] - 0s 2ms/step - loss: -18881180.0000 - accuracy: 0.0588\n",
            "Epoch 121/150\n",
            "34/34 [==============================] - 0s 2ms/step - loss: -19269550.0000 - accuracy: 0.0588\n",
            "Epoch 122/150\n",
            "34/34 [==============================] - 0s 2ms/step - loss: -19669196.0000 - accuracy: 0.0588\n",
            "Epoch 123/150\n",
            "34/34 [==============================] - 0s 2ms/step - loss: -20064410.0000 - accuracy: 0.0588\n",
            "Epoch 124/150\n",
            "34/34 [==============================] - 0s 2ms/step - loss: -20473206.0000 - accuracy: 0.0588\n",
            "Epoch 125/150\n",
            "34/34 [==============================] - 0s 2ms/step - loss: -20878998.0000 - accuracy: 0.0588\n",
            "Epoch 126/150\n",
            "34/34 [==============================] - 0s 2ms/step - loss: -21298118.0000 - accuracy: 0.0588\n",
            "Epoch 127/150\n",
            "34/34 [==============================] - 0s 2ms/step - loss: -21714642.0000 - accuracy: 0.0588\n",
            "Epoch 128/150\n",
            "34/34 [==============================] - 0s 2ms/step - loss: -22137736.0000 - accuracy: 0.0588\n",
            "Epoch 129/150\n",
            "34/34 [==============================] - 0s 2ms/step - loss: -22569034.0000 - accuracy: 0.0588\n",
            "Epoch 130/150\n",
            "34/34 [==============================] - 0s 2ms/step - loss: -22996368.0000 - accuracy: 0.0588\n",
            "Epoch 131/150\n",
            "34/34 [==============================] - 0s 2ms/step - loss: -23434280.0000 - accuracy: 0.0588\n",
            "Epoch 132/150\n",
            "34/34 [==============================] - 0s 2ms/step - loss: -23881450.0000 - accuracy: 0.0588\n",
            "Epoch 133/150\n",
            "34/34 [==============================] - 0s 2ms/step - loss: -24323920.0000 - accuracy: 0.0588\n",
            "Epoch 134/150\n",
            "34/34 [==============================] - 0s 2ms/step - loss: -24775038.0000 - accuracy: 0.0588\n",
            "Epoch 135/150\n",
            "34/34 [==============================] - 0s 2ms/step - loss: -25232650.0000 - accuracy: 0.0588\n",
            "Epoch 136/150\n",
            "34/34 [==============================] - 0s 2ms/step - loss: -25688860.0000 - accuracy: 0.0588\n",
            "Epoch 137/150\n",
            "34/34 [==============================] - 0s 2ms/step - loss: -26155978.0000 - accuracy: 0.0588\n",
            "Epoch 138/150\n",
            "34/34 [==============================] - 0s 2ms/step - loss: -26624976.0000 - accuracy: 0.0588\n",
            "Epoch 139/150\n",
            "34/34 [==============================] - 0s 2ms/step - loss: -27103446.0000 - accuracy: 0.0588\n",
            "Epoch 140/150\n",
            "34/34 [==============================] - 0s 2ms/step - loss: -27580582.0000 - accuracy: 0.0588\n",
            "Epoch 141/150\n",
            "34/34 [==============================] - 0s 2ms/step - loss: -28067268.0000 - accuracy: 0.0588\n",
            "Epoch 142/150\n",
            "34/34 [==============================] - 0s 2ms/step - loss: -28549842.0000 - accuracy: 0.0588\n",
            "Epoch 143/150\n",
            "34/34 [==============================] - 0s 2ms/step - loss: -29052398.0000 - accuracy: 0.0588\n",
            "Epoch 144/150\n",
            "34/34 [==============================] - 0s 2ms/step - loss: -29549480.0000 - accuracy: 0.0588\n",
            "Epoch 145/150\n",
            "34/34 [==============================] - 0s 2ms/step - loss: -30047308.0000 - accuracy: 0.0588\n",
            "Epoch 146/150\n",
            "34/34 [==============================] - 0s 2ms/step - loss: -30561546.0000 - accuracy: 0.0588\n",
            "Epoch 147/150\n",
            "34/34 [==============================] - 0s 2ms/step - loss: -31075344.0000 - accuracy: 0.0588\n",
            "Epoch 148/150\n",
            "34/34 [==============================] - 0s 3ms/step - loss: -31595474.0000 - accuracy: 0.0588\n",
            "Epoch 149/150\n",
            "34/34 [==============================] - 0s 2ms/step - loss: -32120774.0000 - accuracy: 0.0588\n",
            "Epoch 150/150\n",
            "34/34 [==============================] - 0s 2ms/step - loss: -32640750.0000 - accuracy: 0.0588\n",
            "11/11 [==============================] - 0s 2ms/step - loss: -32930476.0000 - accuracy: 0.0588\n",
            "Accuracy: 5.88\n"
          ]
        }
      ],
      "source": [
        "# define the keras model\n",
        "model = Sequential()\n",
        "model.add(Dense(120, input_dim=120, activation='relu'))\n",
        "model.add(Dense(8, activation='relu'))\n",
        "model.add(Dense(1, activation='sigmoid'))\n",
        "\n",
        "# compile the keras model\n",
        "model.compile(loss='binary_crossentropy', optimizer='adam', metrics=['accuracy'])\n",
        "\n",
        "#AR\n",
        "\n",
        "  # X_train_AR, X_test_AR, y_train_AR, y_test_AR = train_test_split(X1_train,y, \n",
        "  #                                                                 test_size=0.6, \n",
        "  #                                                                 random_state=42)\n",
        "\n",
        "# fit the keras model on the dataset\n",
        "model.fit(X_train_AR, y_train_AR, epochs=150, batch_size=10)\n",
        "\n",
        "\n",
        "# evaluate the keras model\n",
        "_,acc = model.evaluate(X_train_AR, y_train_AR)\n",
        "print('Accuracy: %.2f' % (acc*100))"
      ]
    }
  ],
  "metadata": {
    "colab": {
      "collapsed_sections": [],
      "name": "HIML_Isabel_TakeHome7.ipynb",
      "provenance": []
    },
    "interpreter": {
      "hash": "ac59ebe37160ed0dfa835113d9b8498d9f09ceb179beaac4002f036b9467c963"
    },
    "kernelspec": {
      "display_name": "Python 3 (ipykernel)",
      "language": "python",
      "name": "python3"
    },
    "language_info": {
      "codemirror_mode": {
        "name": "ipython",
        "version": 3
      },
      "file_extension": ".py",
      "mimetype": "text/x-python",
      "name": "python",
      "nbconvert_exporter": "python",
      "pygments_lexer": "ipython3",
      "version": "3.9.12"
    }
  },
  "nbformat": 4,
  "nbformat_minor": 0
}